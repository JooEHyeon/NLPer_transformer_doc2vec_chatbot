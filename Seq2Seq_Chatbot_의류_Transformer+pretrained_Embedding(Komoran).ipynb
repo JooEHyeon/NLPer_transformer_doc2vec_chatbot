{
  "nbformat": 4,
  "nbformat_minor": 0,
  "metadata": {
    "kernelspec": {
      "display_name": "Python 3",
      "language": "python",
      "name": "python3"
    },
    "language_info": {
      "codemirror_mode": {
        "name": "ipython",
        "version": 3
      },
      "file_extension": ".py",
      "mimetype": "text/x-python",
      "name": "python",
      "nbconvert_exporter": "python",
      "pygments_lexer": "ipython3",
      "version": "3.6.5"
    },
    "colab": {
      "name": "Seq2Seq_Chatbot_의류_Transformer+pretrained Embedding(Komoran).ipynb",
      "provenance": [],
      "collapsed_sections": [
        "9UA-8fQ2EDnp",
        "ioT3c4eLEKon",
        "lsf4tJl61Xi9"
      ],
      "toc_visible": true,
      "machine_shape": "hm",
      "include_colab_link": true
    },
    "accelerator": "GPU"
  },
  "cells": [
    {
      "cell_type": "markdown",
      "metadata": {
        "id": "view-in-github",
        "colab_type": "text"
      },
      "source": [
        "<a href=\"https://colab.research.google.com/github/ideablast/NLPer_chatbot/blob/kdg/Seq2Seq_Chatbot_%EC%9D%98%EB%A5%98_Transformer%2Bpretrained_Embedding(Komoran).ipynb\" target=\"_parent\"><img src=\"https://colab.research.google.com/assets/colab-badge.svg\" alt=\"Open In Colab\"/></a>"
      ]
    },
    {
      "cell_type": "code",
      "metadata": {
        "id": "RsiilWsMNHHL",
        "outputId": "93ca80e7-a9f1-4479-af52-9291d3412bc1",
        "colab": {
          "base_uri": "https://localhost:8080/"
        }
      },
      "source": [
        "!pip install konlpy"
      ],
      "execution_count": 2,
      "outputs": [
        {
          "output_type": "stream",
          "text": [
            "Collecting konlpy\n",
            "\u001b[?25l  Downloading https://files.pythonhosted.org/packages/85/0e/f385566fec837c0b83f216b2da65db9997b35dd675e107752005b7d392b1/konlpy-0.5.2-py2.py3-none-any.whl (19.4MB)\n",
            "\u001b[K     |████████████████████████████████| 19.4MB 1.2MB/s \n",
            "\u001b[?25hCollecting colorama\n",
            "  Downloading https://files.pythonhosted.org/packages/44/98/5b86278fbbf250d239ae0ecb724f8572af1c91f4a11edf4d36a206189440/colorama-0.4.4-py2.py3-none-any.whl\n",
            "Collecting tweepy>=3.7.0\n",
            "  Downloading https://files.pythonhosted.org/packages/bb/7c/99d51f80f3b77b107ebae2634108717362c059a41384a1810d13e2429a81/tweepy-3.9.0-py2.py3-none-any.whl\n",
            "Collecting beautifulsoup4==4.6.0\n",
            "\u001b[?25l  Downloading https://files.pythonhosted.org/packages/9e/d4/10f46e5cfac773e22707237bfcd51bbffeaf0a576b0a847ec7ab15bd7ace/beautifulsoup4-4.6.0-py3-none-any.whl (86kB)\n",
            "\u001b[K     |████████████████████████████████| 92kB 13.7MB/s \n",
            "\u001b[?25hRequirement already satisfied: numpy>=1.6 in /usr/local/lib/python3.6/dist-packages (from konlpy) (1.18.5)\n",
            "Collecting JPype1>=0.7.0\n",
            "\u001b[?25l  Downloading https://files.pythonhosted.org/packages/fd/96/1030895dea70855a2e1078e3fe0d6a63dcb7c212309e07dc9ee39d33af54/JPype1-1.1.2-cp36-cp36m-manylinux2010_x86_64.whl (450kB)\n",
            "\u001b[K     |████████████████████████████████| 460kB 73.8MB/s \n",
            "\u001b[?25hRequirement already satisfied: lxml>=4.1.0 in /usr/local/lib/python3.6/dist-packages (from konlpy) (4.2.6)\n",
            "Requirement already satisfied: requests-oauthlib>=0.7.0 in /usr/local/lib/python3.6/dist-packages (from tweepy>=3.7.0->konlpy) (1.3.0)\n",
            "Requirement already satisfied: requests[socks]>=2.11.1 in /usr/local/lib/python3.6/dist-packages (from tweepy>=3.7.0->konlpy) (2.23.0)\n",
            "Requirement already satisfied: six>=1.10.0 in /usr/local/lib/python3.6/dist-packages (from tweepy>=3.7.0->konlpy) (1.15.0)\n",
            "Requirement already satisfied: typing-extensions; python_version < \"3.8\" in /usr/local/lib/python3.6/dist-packages (from JPype1>=0.7.0->konlpy) (3.7.4.3)\n",
            "Requirement already satisfied: oauthlib>=3.0.0 in /usr/local/lib/python3.6/dist-packages (from requests-oauthlib>=0.7.0->tweepy>=3.7.0->konlpy) (3.1.0)\n",
            "Requirement already satisfied: idna<3,>=2.5 in /usr/local/lib/python3.6/dist-packages (from requests[socks]>=2.11.1->tweepy>=3.7.0->konlpy) (2.10)\n",
            "Requirement already satisfied: urllib3!=1.25.0,!=1.25.1,<1.26,>=1.21.1 in /usr/local/lib/python3.6/dist-packages (from requests[socks]>=2.11.1->tweepy>=3.7.0->konlpy) (1.24.3)\n",
            "Requirement already satisfied: chardet<4,>=3.0.2 in /usr/local/lib/python3.6/dist-packages (from requests[socks]>=2.11.1->tweepy>=3.7.0->konlpy) (3.0.4)\n",
            "Requirement already satisfied: certifi>=2017.4.17 in /usr/local/lib/python3.6/dist-packages (from requests[socks]>=2.11.1->tweepy>=3.7.0->konlpy) (2020.6.20)\n",
            "Requirement already satisfied: PySocks!=1.5.7,>=1.5.6; extra == \"socks\" in /usr/local/lib/python3.6/dist-packages (from requests[socks]>=2.11.1->tweepy>=3.7.0->konlpy) (1.7.1)\n",
            "Installing collected packages: colorama, tweepy, beautifulsoup4, JPype1, konlpy\n",
            "  Found existing installation: tweepy 3.6.0\n",
            "    Uninstalling tweepy-3.6.0:\n",
            "      Successfully uninstalled tweepy-3.6.0\n",
            "  Found existing installation: beautifulsoup4 4.6.3\n",
            "    Uninstalling beautifulsoup4-4.6.3:\n",
            "      Successfully uninstalled beautifulsoup4-4.6.3\n",
            "Successfully installed JPype1-1.1.2 beautifulsoup4-4.6.0 colorama-0.4.4 konlpy-0.5.2 tweepy-3.9.0\n"
          ],
          "name": "stdout"
        }
      ]
    },
    {
      "cell_type": "markdown",
      "metadata": {
        "id": "9UA-8fQ2EDnp"
      },
      "source": [
        "## Import"
      ]
    },
    {
      "cell_type": "code",
      "metadata": {
        "id": "1DAFy5c7ydzC"
      },
      "source": [
        "from keras import models\n",
        "from keras import layers\n",
        "from keras import optimizers, losses, metrics\n",
        "from keras import preprocessing\n",
        "\n",
        "import tensorflow as tf\n",
        "import numpy as np\n",
        "import pandas as pd\n",
        "import matplotlib.pyplot as plt\n",
        "import os\n",
        "import re\n",
        "import gensim\n",
        "from gensim.models import KeyedVectors\n",
        "\n",
        "from konlpy.tag import Okt, Hannanum, Kkma, Komoran"
      ],
      "execution_count": 55,
      "outputs": []
    },
    {
      "cell_type": "markdown",
      "metadata": {
        "id": "ioT3c4eLEKon"
      },
      "source": [
        "## Hyperparameter"
      ]
    },
    {
      "cell_type": "code",
      "metadata": {
        "id": "P9YUdE1OydzG"
      },
      "source": [
        "# 태그 단어\n",
        "PAD = \"<PADDING>\"   # 패딩\n",
        "STA = \"<START>\"     # 시작\n",
        "END = \"<END>\"       # 끝\n",
        "OOV = \"<OOV>\"       # 없는 단어(Out of Vocabulary)\n",
        "\n",
        "# 태그 인덱스\n",
        "PAD_INDEX = 0\n",
        "STA_INDEX = 1\n",
        "END_INDEX = 2\n",
        "OOV_INDEX = 3\n",
        "\n",
        "# 데이터 타입\n",
        "ENCODER_INPUT  = 0\n",
        "DECODER_INPUT  = 1\n",
        "DECODER_TARGET = 2\n",
        "\n",
        "# Hyper-parameters\n",
        "NUM_LAYERS = 2\n",
        "D_MODEL = 200 ##word embedding dim\n",
        "NUM_HEADS = 4 ## D_Model % NUM_HEADS == 0이 되야하므로... D_MODEL / NUM_HEADS = d_k : 한 헤드에서 Q,K,V의 shape (D_MODEL, d_k)\n",
        "UNITS = 512\n",
        "DROPOUT = 0.1\n",
        "EPOCHS = 50\n",
        "# for data pipelining\n",
        "BATCH_SIZE = 64\n",
        "BUFFER_SIZE = 1000\n",
        "\n",
        "VOCAB_SIZE = 0 # 후에 len(words) 로 바뀜.\n",
        "\n",
        "# 한 문장에서 단어 시퀀스의 최대 개수\n",
        "MAX_SEQ = 30\n",
        "\n",
        "# 정규 표현식 필터\n",
        "RE_FILTER = re.compile(\"[\\\"':;~()]\")"
      ],
      "execution_count": 60,
      "outputs": []
    },
    {
      "cell_type": "markdown",
      "metadata": {
        "id": "HhVVnW_uEWT1"
      },
      "source": [
        "## Data Load & Preprocessing"
      ]
    },
    {
      "cell_type": "code",
      "metadata": {
        "id": "80IauV0FpUv2",
        "outputId": "888d60fa-9f81-43ca-98ce-30179c6b4018",
        "colab": {
          "base_uri": "https://localhost:8080/"
        }
      },
      "source": [
        "from google.colab import drive\n",
        "drive.mount('/content/drive')"
      ],
      "execution_count": 5,
      "outputs": [
        {
          "output_type": "stream",
          "text": [
            "Mounted at /content/drive\n"
          ],
          "name": "stdout"
        }
      ]
    },
    {
      "cell_type": "code",
      "metadata": {
        "id": "NEHDnPXNzZlM",
        "outputId": "78833bd8-b9f9-4006-8d3e-6a45c3d2ff4d",
        "colab": {
          "base_uri": "https://localhost:8080/"
        }
      },
      "source": [
        "wear_data = pd.read_csv(\"/content/drive/My Drive/wear.csv\")\n",
        "print(wear_data.shape)\n",
        "customer = wear_data[wear_data.SPEAKER == \"고객\"].SENTENCE\n",
        "store = wear_data[wear_data.SPEAKER == \"점원\"].SENTENCE\n",
        "print(customer.shape, store.shape) # 질문의 개수와 답의 개수가 일치하지 않는다."
      ],
      "execution_count": 6,
      "outputs": [
        {
          "output_type": "stream",
          "text": [
            "(15826, 20)\n",
            "(8381,) (7445,)\n"
          ],
          "name": "stdout"
        }
      ]
    },
    {
      "cell_type": "code",
      "metadata": {
        "id": "FLNSiqcHM4WY",
        "outputId": "7566cb30-002b-4a0e-cefe-b905b07c7991",
        "colab": {
          "base_uri": "https://localhost:8080/"
        }
      },
      "source": [
        "# 고객과 점원의 질,답 쌍으로 만들기\n",
        "prev = \"고객\"\n",
        "store_arr = []\n",
        "customer_arr = []\n",
        "store_stc = \"\"\n",
        "customer_stc = \"\"\n",
        "\n",
        "for i in range(wear_data.shape[0]):\n",
        "    if (prev == wear_data.iloc[i].SPEAKER):\n",
        "        if prev == \"점원\":\n",
        "             store_stc += (\" \"+wear_data.iloc[i].SENTENCE)\n",
        "        else : \n",
        "             customer_stc += (\" \"+wear_data.iloc[i].SENTENCE)\n",
        "            \n",
        "    elif prev == \"점원\":\n",
        "        store_arr.append(store_stc)\n",
        "        customer_stc = wear_data.iloc[i].SENTENCE\n",
        "        prev = \"고객\"\n",
        "    else :\n",
        "        customer_arr.append(customer_stc)\n",
        "        store_stc = wear_data.iloc[i].SENTENCE\n",
        "        prev = \"점원\"\n",
        "\n",
        "print(len(store_arr))\n",
        "print(len(customer_arr))\n",
        "print(store_arr[-1])\n",
        "print(customer_arr[-1]) # 자료 상에서 이후에는 계속 고객의 물음만 계속된다. 코드 레벨에서 이 부분은 빼게 구현했다. (stc는 만들어지지만 arr에 append 안하게 된다.)"
      ],
      "execution_count": 138,
      "outputs": [
        {
          "output_type": "stream",
          "text": [
            "7301\n",
            "7301\n",
            "요즘 파스텔 톤이 유행이에요\n",
            "요즘 유행하는 색깔이 뭐예요?\n"
          ],
          "name": "stdout"
        }
      ]
    },
    {
      "cell_type": "code",
      "metadata": {
        "id": "qbivSckMydzN"
      },
      "source": [
        "# 형태소분석 함수\n",
        "def pos_tag(sentences):\n",
        "    \n",
        "    # KoNLPy 형태소분석기 설정\n",
        "    tagger = Komoran()\n",
        "    \n",
        "    # 문장 품사 변수 초기화\n",
        "    sentences_pos = []\n",
        "    \n",
        "    # 모든 문장 반복\n",
        "    for sentence in sentences:\n",
        "        # [\\\"':;~()] 특수기호 제거\n",
        "        sentence = re.sub(RE_FILTER, \"\", sentence)\n",
        "        \n",
        "        # 배열인 형태소분석의 출력을 띄어쓰기로 구분하여 붙임\n",
        "        sentence = \" \".join(tagger.morphs(sentence))\n",
        "        sentences_pos.append(sentence)\n",
        "        \n",
        "    return sentences_pos"
      ],
      "execution_count": 139,
      "outputs": []
    },
    {
      "cell_type": "code",
      "metadata": {
        "id": "4seqSNWcydzP",
        "outputId": "dc8bbcd1-3637-4b5e-f618-d9b67a6c2ab6",
        "colab": {
          "base_uri": "https://localhost:8080/"
        }
      },
      "source": [
        "# 형태소분석 수행\n",
        "question = pos_tag(customer_arr)\n",
        "answer = pos_tag(store_arr)\n",
        "\n",
        "# 형태소분석으로 변환된 챗봇 데이터 출력\n",
        "for i in range(5):\n",
        "    print('Q : ' + question[i])\n",
        "    print('A : ' + answer[i])\n",
        "    print()\n"
      ],
      "execution_count": 140,
      "outputs": [
        {
          "output_type": "stream",
          "text": [
            "Q : 신발 은 여기 있 는 게 다예 요 ?\n",
            "A : 네 성인 이나 아동 다 있 어요 발 사이즈 몇 신 으시 시 어요 ?\n",
            "\n",
            "Q : 230 이 요\n",
            "A : 편하 게 신 을 수 있 는 거 찾 으시 시 어요 ?\n",
            "\n",
            "Q : 네 봄 이 니까 편하 게 신 을 수 있 는 거\n",
            "A : 이런 건 어떻 시 어요 ? 이런 거도 신발 무척 편하 거든요\n",
            "\n",
            "Q : 굽 좀 높 은 거 없 나요 ?\n",
            "A : 봄 상품 은 아직 어른 제품 이 많이 안 나오 았 습니다\n",
            "\n",
            "Q : 언제 들어오 아요 ?\n",
            "A : 이번 주 지나 면 들어오 ㄹ 거 예 요\n",
            "\n"
          ],
          "name": "stdout"
        }
      ]
    },
    {
      "cell_type": "code",
      "metadata": {
        "id": "Yrnct_nzydzR"
      },
      "source": [
        "# 질문과 대답 문장들을 하나로 합침\n",
        "sentences = []\n",
        "sentences.extend(question)\n",
        "sentences.extend(answer)\n",
        "\n",
        "words = []\n",
        "\n",
        "# 단어들의 배열 생성\n",
        "for sentence in sentences:\n",
        "    for word in sentence.split():\n",
        "        words.append(word)\n",
        "\n",
        "# 길이가 0인 단어는 삭제\n",
        "words = [word for word in words if len(word) > 0]\n",
        "\n",
        "# 중복된 단어 삭제\n",
        "words = list(set(words))\n",
        "\n",
        "#제일 앞에 태그 단어 삽입. 기존 단어들은 뒤로 밀림.\n",
        "words[:0] = [PAD, STA, END, OOV]"
      ],
      "execution_count": 141,
      "outputs": []
    },
    {
      "cell_type": "code",
      "metadata": {
        "id": "fE9ZhJpEy_rT",
        "outputId": "0c6a6c02-89c5-499e-f1d1-1d91142e3edc",
        "colab": {
          "base_uri": "https://localhost:8080/"
        }
      },
      "source": [
        "VOCAB_SIZE = len(words)\n",
        "print(\"손님과 점원의 말에서 사용된 총 단어의 수 :\",len(words))"
      ],
      "execution_count": 142,
      "outputs": [
        {
          "output_type": "stream",
          "text": [
            "손님과 점원의 말에서 사용된 총 단어의 수 : 3353\n"
          ],
          "name": "stdout"
        }
      ]
    },
    {
      "cell_type": "code",
      "metadata": {
        "id": "AkvyOnSvydzX"
      },
      "source": [
        "# 단어와 인덱스의 딕셔너리 생성\n",
        "word_to_index = {word: index for index, word in enumerate(words)}\n",
        "index_to_word = {index: word for index, word in enumerate(words)}"
      ],
      "execution_count": 143,
      "outputs": []
    },
    {
      "cell_type": "code",
      "metadata": {
        "id": "rfoTztrvydzc"
      },
      "source": [
        "# 문장을 인덱스로 변환(정수인코딩)\n",
        "def convert_text_to_index(sentences, vocabulary, type): \n",
        "    \n",
        "    sentences_index = []\n",
        "    \n",
        "    # 모든 문장에 대해서 반복\n",
        "    for sentence in sentences:\n",
        "        sentence_index = []\n",
        "        \n",
        "        # 디코더 입력일 경우 맨 앞에 START 태그 추가\n",
        "        if type == DECODER_INPUT:\n",
        "            sentence_index.extend([vocabulary[STA]])\n",
        "        \n",
        "        # 문장의 단어들을 띄어쓰기로 분리\n",
        "        for word in sentence.split():\n",
        "            if vocabulary.get(word) is not None:\n",
        "                # 사전에 있는 단어면 해당 인덱스를 추가\n",
        "                sentence_index.extend([vocabulary[word]])\n",
        "            else:\n",
        "                # 사전에 없는 단어면 OOV 인덱스를 추가\n",
        "                sentence_index.extend([vocabulary[OOV]])\n",
        "\n",
        "        # 최대 길이 검사\n",
        "        if type == DECODER_TARGET:\n",
        "            # 디코더 목표일 경우 맨 뒤에 END 태그 추가\n",
        "            if len(sentence_index) >= MAX_SEQ:\n",
        "                sentence_index = sentence_index[:MAX_SEQ-1] + [vocabulary[END]]\n",
        "            else:\n",
        "                sentence_index += [vocabulary[END]]\n",
        "        else:\n",
        "            if len(sentence_index) > MAX_SEQ:\n",
        "                sentence_index = sentence_index[:MAX_SEQ]\n",
        "            \n",
        "        # 최대 길이에 없는 공간은 패딩 인덱스로 채움\n",
        "        sentence_index += (MAX_SEQ - len(sentence_index)) * [vocabulary[PAD]]\n",
        "        \n",
        "        # 문장의 인덱스 배열을 추가\n",
        "        sentences_index.append(sentence_index)\n",
        "\n",
        "    return np.asarray(sentences_index)"
      ],
      "execution_count": 144,
      "outputs": []
    },
    {
      "cell_type": "code",
      "metadata": {
        "id": "zezFPTvcydzf",
        "outputId": "38327b95-c3b1-4d4d-bd55-d792065345a3",
        "colab": {
          "base_uri": "https://localhost:8080/"
        }
      },
      "source": [
        "# 인코더 입력 인덱스 변환\n",
        "x_encoder = convert_text_to_index(question, word_to_index, ENCODER_INPUT)\n",
        "\n",
        "# 첫 번째 인코더 입력 출력 (신발 은 여기 있는 게 다예 요)\n",
        "print(question[0])\n",
        "x_encoder[0]\n"
      ],
      "execution_count": 145,
      "outputs": [
        {
          "output_type": "stream",
          "text": [
            "신발 은 여기 있 는 게 다예 요 ?\n"
          ],
          "name": "stdout"
        },
        {
          "output_type": "execute_result",
          "data": {
            "text/plain": [
              "array([  28, 1185,  215, 2081, 1005, 1699, 2443,  411, 2971,    0,    0,\n",
              "          0,    0,    0,    0,    0,    0,    0,    0,    0,    0,    0,\n",
              "          0,    0,    0,    0,    0,    0,    0,    0])"
            ]
          },
          "metadata": {
            "tags": []
          },
          "execution_count": 145
        }
      ]
    },
    {
      "cell_type": "code",
      "metadata": {
        "id": "fmql1Lf_ydzh",
        "outputId": "7cb974ad-0819-4745-f69a-fe6672044f45",
        "colab": {
          "base_uri": "https://localhost:8080/"
        }
      },
      "source": [
        "# 디코더 입력 인덱스 변환\n",
        "x_decoder = convert_text_to_index(answer, word_to_index, DECODER_INPUT)\n",
        "\n",
        "# 첫 번째 디코더 입력 출력 (<START> 신발 은 여기 있는 게 다예 요)\n",
        "print(answer[0])\n",
        "x_decoder[0]\n"
      ],
      "execution_count": 147,
      "outputs": [
        {
          "output_type": "stream",
          "text": [
            "네 성인 이나 아동 다 있 어요 발 사이즈 몇 신 으시 시 어요 ?\n"
          ],
          "name": "stdout"
        },
        {
          "output_type": "execute_result",
          "data": {
            "text/plain": [
              "array([   1, 1703, 2372, 2184, 1525,  554, 2081, 1985, 2885, 2588, 3011,\n",
              "       1472, 2832, 1324, 1985, 2971,    0,    0,    0,    0,    0,    0,\n",
              "          0,    0,    0,    0,    0,    0,    0,    0])"
            ]
          },
          "metadata": {
            "tags": []
          },
          "execution_count": 147
        }
      ]
    },
    {
      "cell_type": "code",
      "metadata": {
        "id": "-qIhDbaLydzk",
        "outputId": "ecaa0167-94b0-4d8a-f729-ec61300cf91e",
        "colab": {
          "base_uri": "https://localhost:8080/"
        }
      },
      "source": [
        "# 디코더 목표 인덱스 변환\n",
        "y_decoder = convert_text_to_index(answer, word_to_index, DECODER_TARGET)\n",
        "\n",
        "# 첫 번째 디코더 입력 출력 (신발 은 여기 있는 게 다예 요 <END>)\n",
        "print(answer[0])\n",
        "y_decoder[0]\n"
      ],
      "execution_count": 148,
      "outputs": [
        {
          "output_type": "stream",
          "text": [
            "네 성인 이나 아동 다 있 어요 발 사이즈 몇 신 으시 시 어요 ?\n"
          ],
          "name": "stdout"
        },
        {
          "output_type": "execute_result",
          "data": {
            "text/plain": [
              "array([1703, 2372, 2184, 1525,  554, 2081, 1985, 2885, 2588, 3011, 1472,\n",
              "       2832, 1324, 1985, 2971,    2,    0,    0,    0,    0,    0,    0,\n",
              "          0,    0,    0,    0,    0,    0,    0,    0])"
            ]
          },
          "metadata": {
            "tags": []
          },
          "execution_count": 148
        }
      ]
    },
    {
      "cell_type": "markdown",
      "metadata": {
        "id": "a5ixwhL1fY_d"
      },
      "source": [
        "## Load Pretrained Embedding model\n",
        " - from https://github.com/Kyubyong/wordvectors 's korean(w2v)\n",
        " - 200 dim\n",
        " - this model trained 330M corpus(tagged by Kkma)\n"
      ]
    },
    {
      "cell_type": "code",
      "metadata": {
        "id": "KPa7XT-TfYAk"
      },
      "source": [
        "emb_model = gensim.models.Word2Vec.load('/content/drive/My Drive/ko.bin')\n",
        "emb_model.save(\"base_word2vec_200d.model\") #기본 full 모델 백업, 더 Train할때 #type: gensim.models.word2vec.Word2Vec\n",
        "\n",
        "word_vectors = emb_model.wv\n",
        "word_vectors.save(\"base_word2vec_200d.wordvectors\") #기본 KeyedVecotros 모델 백업, 더 train안시킬때, 로드속도 및 메모리 손실 적음\n",
        "# Load back with memory-mapping = read-only, shared across processes.\n",
        "wv = KeyedVectors.load(\"base_word2vec_200d.wordvectors\", mmap='r') #type: gensim.models.keyedvectors.Word2VecKeyedVectors"
      ],
      "execution_count": 149,
      "outputs": []
    },
    {
      "cell_type": "code",
      "metadata": {
        "id": "zJbjANLxmTd-"
      },
      "source": [
        "#일단 추가 학습 없이 해보자.\n",
        "emb_layer = wv.get_keras_embedding(train_embeddings=False)"
      ],
      "execution_count": 150,
      "outputs": []
    },
    {
      "cell_type": "markdown",
      "metadata": {
        "id": "lsf4tJl61Xi9"
      },
      "source": [
        "## Transformer"
      ]
    },
    {
      "cell_type": "code",
      "metadata": {
        "id": "FsxmXWS41XVd"
      },
      "source": [
        "# decoder inputs use the previous target as input\n",
        "dataset = tf.data.Dataset.from_tensor_slices((\n",
        "    {\n",
        "        'inputs': x_encoder,\n",
        "        'dec_inputs': x_decoder\n",
        "    },\n",
        "    {\n",
        "        'outputs': y_decoder\n",
        "    },\n",
        "))\n",
        "\n",
        "dataset = dataset.cache()\n",
        "dataset = dataset.shuffle(BUFFER_SIZE)\n",
        "dataset = dataset.batch(BATCH_SIZE)\n",
        "dataset = dataset.prefetch(tf.data.experimental.AUTOTUNE)"
      ],
      "execution_count": 151,
      "outputs": []
    },
    {
      "cell_type": "code",
      "metadata": {
        "id": "cstXcPJo4rKD",
        "outputId": "f28cba63-fef6-4855-abde-acc2e962b875",
        "colab": {
          "base_uri": "https://localhost:8080/"
        }
      },
      "source": [
        "dataset"
      ],
      "execution_count": 152,
      "outputs": [
        {
          "output_type": "execute_result",
          "data": {
            "text/plain": [
              "<PrefetchDataset shapes: ({inputs: (None, 30), dec_inputs: (None, 30)}, {outputs: (None, 30)}), types: ({inputs: tf.int64, dec_inputs: tf.int64}, {outputs: tf.int64})>"
            ]
          },
          "metadata": {
            "tags": []
          },
          "execution_count": 152
        }
      ]
    },
    {
      "cell_type": "markdown",
      "metadata": {
        "id": "ZxXCQWvw2jwx"
      },
      "source": [
        "$$\\Large{Attention(Q, K, V) = softmax_k(\\frac{QK^T}{\\sqrt{d_k}}) V} $$"
      ]
    },
    {
      "cell_type": "code",
      "metadata": {
        "id": "eH-k-kk_1_Vu"
      },
      "source": [
        "## scaled dot product Attention\n",
        "def scaled_dot_product_attention(query, key, value, mask):\n",
        "  matmul_qk = tf.matmul(query, key, transpose_b=True) # QK^T\n",
        "\n",
        "  depth = tf.cast(tf.shape(key)[-1], tf.float32)\n",
        "  logits = matmul_qk / tf.math.sqrt(depth) #  QK^T / sqrt(d_k)\n",
        "\n",
        "  if mask is not None:\n",
        "    logits += (mask * -1e9) # zero padding token softmax 결과가 0이 나오도록\n",
        "  \n",
        "  attention_weights = tf.nn.softmax(logits, axis = -1) # softmax(QK^T / sqrt(d_k))\n",
        "\n",
        "  output = tf.matmul(attention_weights, value) # softmax(QK^T / sqrt(d_k)) * V\n",
        "\n",
        "  return output"
      ],
      "execution_count": 153,
      "outputs": []
    },
    {
      "cell_type": "code",
      "metadata": {
        "id": "7orcKMr13xY8"
      },
      "source": [
        "## multi-head attention\n",
        "## each head need (scaled_dot_product_attention)\n",
        "class MultiHeadAttention(tf.keras.layers.Layer):\n",
        "  def __init__(self, d_model, num_heads, name=\"multi_head_attention\"):\n",
        "    super(MultiHeadAttention, self).__init__(name=name)\n",
        "    self.num_heads = num_heads\n",
        "    self.d_model = d_model\n",
        "\n",
        "    assert d_model % self.num_heads == 0 # 128,8\n",
        "\n",
        "    self.depth = d_model // self.num_heads\n",
        "\n",
        "    self.query_dense = tf.keras.layers.Dense(units=d_model)\n",
        "    self.key_dense = tf.keras.layers.Dense(units=d_model)\n",
        "    self.value_dense = tf.keras.layers.Dense(units=d_model)\n",
        "\n",
        "    self.dense = tf.keras.layers.Dense(units=d_model)\n",
        "  \n",
        "  def split_heads(self, inputs, batch_size):\n",
        "    inputs = tf.reshape(inputs, shape=(batch_size,-1,self.num_heads, self.depth))\n",
        "    return tf.transpose(inputs, perm=[0, 2, 1, 3]) ##????\n",
        "  \n",
        "  def call(self, inputs):\n",
        "    query, key, value, mask = inputs['query'], inputs['key'], inputs['value'], inputs['mask']\n",
        "    batch_size = tf.shape(query)[0]\n",
        "\n",
        "    #linear\n",
        "    query = self.query_dense(query)\n",
        "    key = self.key_dense(key)\n",
        "    value = self.value_dense(value)\n",
        "\n",
        "    #split heads\n",
        "    query = self.split_heads(query, batch_size)\n",
        "    key = self.split_heads(key, batch_size)\n",
        "    value = self.split_heads(value, batch_size)\n",
        "\n",
        "    #scaled dot-product attention\n",
        "    scaled_attention = scaled_dot_product_attention(query, key, value, mask)\n",
        "    scaled_attention = tf.transpose(scaled_attention, perm=[0, 2, 1, 3])\n",
        "\n",
        "    #concatenation of heads\n",
        "    concat_attention = tf.reshape(scaled_attention, (batch_size, -1, self.d_model))\n",
        "\n",
        "    #final linear\n",
        "    outputs = self.dense(concat_attention)\n",
        "\n",
        "    return outputs"
      ],
      "execution_count": 154,
      "outputs": []
    },
    {
      "cell_type": "code",
      "metadata": {
        "id": "vmlW0oi89nEC"
      },
      "source": [
        "def create_padding_mask(x):\n",
        "  mask = tf.cast(tf.math.equal(x, 0), tf.float32)\n",
        "  # (batch_size, 1, 1, sequence length)\n",
        "  return mask[:, tf.newaxis, tf.newaxis, :]"
      ],
      "execution_count": 155,
      "outputs": []
    },
    {
      "cell_type": "code",
      "metadata": {
        "id": "37sh3f8P-JUB"
      },
      "source": [
        "#print(create_padding_mask(tf.constant([[1, 2, 0, 3, 0], [0, 0, 0, 4, 5]])))"
      ],
      "execution_count": 156,
      "outputs": []
    },
    {
      "cell_type": "code",
      "metadata": {
        "id": "5W7ld50z3vT2"
      },
      "source": [
        "# it handle mask future tokens in a sequence used decoder. and mask pad tokens\n",
        "def create_look_ahead_mask(x):\n",
        "  seq_len = tf.shape(x)[1]\n",
        "  look_ahead_mask = 1 - tf.linalg.band_part(tf.ones((seq_len, seq_len)), -1, 0)\n",
        "  padding_mask = create_padding_mask(x)\n",
        "  return tf.maximum(look_ahead_mask, padding_mask)"
      ],
      "execution_count": 157,
      "outputs": []
    },
    {
      "cell_type": "code",
      "metadata": {
        "id": "W25teKwt_F80"
      },
      "source": [
        "#print(create_look_ahead_mask(tf.constant([[1, 2, 0, 4, 5]])))"
      ],
      "execution_count": 158,
      "outputs": []
    },
    {
      "cell_type": "markdown",
      "metadata": {
        "id": "pLhXEIJgASo3"
      },
      "source": [
        "Positional encoding\n",
        "\n",
        "since we don't use any rnn, cnn, positional encoding give model position information of words in sentence.\n",
        "\n",
        "positional encoding vector is added to embedding vector\n",
        "\n",
        "$$\\Large{PE_{(pos, 2i)} = sin(pos / 10000^{2i / d_{model}})} $$\n",
        "$$\\Large{PE_{(pos, 2i+1)} = cos(pos / 10000^{2i / d_{model}})} $$"
      ]
    },
    {
      "cell_type": "code",
      "metadata": {
        "id": "B7s19-x3_Hpq"
      },
      "source": [
        "class PositionalEncoding(tf.keras.layers.Layer):\n",
        "  def __init__(self, position, d_model):\n",
        "    super(PositionalEncoding, self).__init__()\n",
        "    self.pos_encoding = self.positional_encoding(position, d_model)\n",
        "  \n",
        "  def get_angles(self, position, i, d_model):\n",
        "    angles = 1 / tf.pow(10000, (2 * (i // 2)) / tf.cast(d_model, tf.float32))\n",
        "    return position * angles #pos/10000^(2i/d_model)\n",
        "\n",
        "  def positional_encoding(self, position, d_model):\n",
        "    angle_rads = self.get_angles(\n",
        "        position = tf.range(position, dtype=tf.float32)[:, tf.newaxis],\n",
        "        i = tf.range(d_model, dtype=tf.float32)[tf.newaxis, :],\n",
        "        d_model = d_model)\n",
        "    sines = tf.math.sin(angle_rads[:, 0::2])\n",
        "    cosines = tf.math.cos(angle_rads[:, 1::2])\n",
        "\n",
        "    pos_encoding = tf.concat([sines, cosines], axis=-1)\n",
        "    pos_encoding = pos_encoding[tf.newaxis, ...]\n",
        "    return tf.cast(pos_encoding, tf.float32)\n",
        "  \n",
        "  def call(self, inputs):\n",
        "    return inputs + self.pos_encoding[:, :tf.shape(inputs)[1], :]"
      ],
      "execution_count": 159,
      "outputs": []
    },
    {
      "cell_type": "markdown",
      "metadata": {
        "id": "oLiumNZZDZGY"
      },
      "source": [
        "### Encoder Layer\n",
        "1. Multi-head attention (with padding mask)\n",
        "2. 2 dense layers followed by dropout\n",
        "\n",
        "also has residual connection followd by a layer normalization."
      ]
    },
    {
      "cell_type": "code",
      "metadata": {
        "id": "oarRWUMLDYnC"
      },
      "source": [
        "def encoder_layer(units, d_model, num_heads, dropout, name=\"encoder_layer\"):\n",
        "  inputs = tf.keras.Input(shape=(None, d_model), name=\"inputs\")\n",
        "  padding_mask = tf.keras.Input(shape=(1, 1, None), name=\"padding_mask\")\n",
        "\n",
        "  attention = MultiHeadAttention(\n",
        "      d_model, num_heads, name=\"attention\")({\n",
        "          'query':inputs,\n",
        "          'key':inputs,\n",
        "          'value':inputs,\n",
        "          'mask':padding_mask\n",
        "      })\n",
        "  attention = tf.keras.layers.Dropout(rate=dropout)(attention)\n",
        "  attention = tf.keras.layers.LayerNormalization(epsilon=1e-6)(inputs + attention)\n",
        "\n",
        "  outputs = tf.keras.layers.Dense(units=units, activation='relu')(attention)\n",
        "  outputs = tf.keras.layers.Dense(units=d_model)(outputs)\n",
        "  outputs = tf.keras.layers.Dropout(rate=dropout)(outputs)\n",
        "  outputs = tf.keras.layers.LayerNormalization(epsilon=1e-6)(attention + outputs)\n",
        "\n",
        "  return tf.keras.Model(inputs=[inputs, padding_mask], outputs=outputs, name=name)"
      ],
      "execution_count": 160,
      "outputs": []
    },
    {
      "cell_type": "markdown",
      "metadata": {
        "id": "N3rO9IcDHGE5"
      },
      "source": [
        "### Encoder\n",
        "1. Input Embedding\n",
        "2. Positional Encoding\n",
        "3. `num_layers` encoder layers\n",
        "\n",
        "Embedding + positional encoding : input\n",
        "\n",
        "going encoder layers.\n",
        "\n",
        "output going decoder"
      ]
    },
    {
      "cell_type": "code",
      "metadata": {
        "id": "uOwoi2_jHvbA"
      },
      "source": [
        "def encoder(vocab_size,\n",
        "            num_layers,\n",
        "            units,\n",
        "            d_model,\n",
        "            num_heads,\n",
        "            dropout,\n",
        "            name=\"encoder\"):\n",
        "  inputs = tf.keras.Input(shape=(None,), name=\"inputs\")\n",
        "  padding_mask = tf.keras.Input(shape=(1, 1, None), name=\"padding_mask\")\n",
        "\n",
        "  embeddings = emb_layer(inputs)\n",
        "  embeddings *= tf.math.sqrt(tf.cast(d_model, tf.float32))\n",
        "  embeddings = PositionalEncoding(vocab_size, d_model)(embeddings)#??왜 vocab_size가 들어가지?\n",
        "\n",
        "  outputs = tf.keras.layers.Dropout(rate=dropout)(embeddings)\n",
        "\n",
        "  for i in range(num_layers):\n",
        "    outputs = encoder_layer(\n",
        "        units = units,\n",
        "        d_model = d_model,\n",
        "        num_heads = num_heads,\n",
        "        dropout = dropout,\n",
        "        name = \"encoder_layer_{}\".format(i),\n",
        "    )([outputs, padding_mask])\n",
        "  \n",
        "  return tf.keras.Model(\n",
        "      inputs = [inputs, padding_mask], outputs = outputs, name=name)"
      ],
      "execution_count": 161,
      "outputs": []
    },
    {
      "cell_type": "markdown",
      "metadata": {
        "id": "r8XHH5dpJr-G"
      },
      "source": [
        "### Decoder Layer\n",
        "1. Masked multi-head attention (with look ahead mask and padding mask)\n",
        "2. Multi-head attention (with padding mask). `value` and `key` is from encoder output. `query` is from Multi-head attention layer output\n",
        "3. 2 dense layers followed by dropout\n",
        "\n",
        "also has residual connection followd by a layer normalization."
      ]
    },
    {
      "cell_type": "code",
      "metadata": {
        "id": "WtAfKdk-JrxK"
      },
      "source": [
        "def decoder_layer(units, d_model, num_heads, dropout, name=\"decoder_layer\"):\n",
        "  inputs = tf.keras.Input(shape=(None, d_model), name=\"inputs\")\n",
        "  enc_outputs = tf.keras.Input(shape=(None, d_model), name=\"encoder_outputs\")\n",
        "  look_ahead_mask = tf.keras.Input(shape=(1,None,None), name=\"look_ahead_mask\")\n",
        "  padding_mask = tf.keras.Input(shape=(1,1,None), name=\"padding_mask\")\n",
        "\n",
        "  attention1 = MultiHeadAttention(\n",
        "      d_model, num_heads, name=\"attention_1\")(inputs={\n",
        "          'query' : inputs,\n",
        "          'key' : inputs,\n",
        "          'value' : inputs,\n",
        "          'mask' : look_ahead_mask\n",
        "      })\n",
        "  attention1 = tf.keras.layers.LayerNormalization(epsilon=1e-6)(attention1 + inputs)\n",
        "\n",
        "  attention2 = MultiHeadAttention(\n",
        "      d_model, num_heads, name=\"attention_2\")(inputs={\n",
        "          'query' : attention1,\n",
        "          'key' : enc_outputs,\n",
        "          'value' : enc_outputs,\n",
        "          'mask' : padding_mask\n",
        "      })\n",
        "  attention2 = tf.keras.layers.Dropout(rate=dropout)(attention2)\n",
        "  attention2 = tf.keras.layers.LayerNormalization(epsilon=1e-6)(attention2 + attention1)\n",
        "\n",
        "  outputs = tf.keras.layers.Dense(units=units, activation='relu')(attention2)\n",
        "  outputs = tf.keras.layers.Dense(units=d_model)(outputs)\n",
        "  outputs = tf.keras.layers.Dropout(rate=dropout)(outputs)\n",
        "  outputs = tf.keras.layers.LayerNormalization(epsilon=1e-6)(outputs + attention2)\n",
        "\n",
        "  return tf.keras.Model(\n",
        "      inputs = [inputs, enc_outputs, look_ahead_mask, padding_mask],\n",
        "      outputs = outputs,\n",
        "      name = name)"
      ],
      "execution_count": 162,
      "outputs": []
    },
    {
      "cell_type": "markdown",
      "metadata": {
        "id": "vnBSBcm1NAYv"
      },
      "source": [
        "### Decoder\n",
        "1. output Embedding\n",
        "2. Positional Encoding\n",
        "3. `num_layers` decoder layers\n",
        "\n",
        "Embedding + positional encoding : input (target)\n",
        "\n",
        "going decoder layers.\n",
        "\n",
        "output going final linear layer"
      ]
    },
    {
      "cell_type": "code",
      "metadata": {
        "id": "rnA-8FEAOT4F"
      },
      "source": [
        "def decoder(vocab_size,\n",
        "            num_layers,\n",
        "            units,\n",
        "            d_model,\n",
        "            num_heads,\n",
        "            dropout,\n",
        "            name=\"decoder\"):\n",
        "  inputs = tf.keras.Input(shape=(None,), name=\"inputs\")\n",
        "  enc_outputs = tf.keras.Input(shape=(None, d_model), name=\"encoder_outputs\")\n",
        "  look_ahead_mask = tf.keras.Input(shape=(1,None,None), name=\"look_ahead_mask\")\n",
        "  padding_mask = tf.keras.Input(shape=(1,1,None), name='padding_mask')\n",
        "\n",
        "  embeddings = emb_layer(inputs)\n",
        "  embeddings *= tf.math.sqrt(tf.cast(d_model, tf.float32))\n",
        "  embeddings = PositionalEncoding(vocab_size, d_model)(embeddings)\n",
        "\n",
        "  outputs = tf.keras.layers.Dropout(rate=dropout)(embeddings)\n",
        "\n",
        "  for i in range(num_layers):\n",
        "    outputs = decoder_layer(\n",
        "        units = units,\n",
        "        d_model = d_model,\n",
        "        num_heads = num_heads,\n",
        "        dropout = dropout,\n",
        "        name = \"decoder_layer_{}\".format(i),\n",
        "    )(inputs = [outputs, enc_outputs, look_ahead_mask, padding_mask])\n",
        "  \n",
        "  return tf.keras.Model(\n",
        "      inputs = [inputs, enc_outputs, look_ahead_mask, padding_mask],\n",
        "      outputs = outputs,\n",
        "      name = name)"
      ],
      "execution_count": 163,
      "outputs": []
    },
    {
      "cell_type": "markdown",
      "metadata": {
        "id": "Jb-vmtqKQjhf"
      },
      "source": [
        "### Transformer\n",
        "1. encoder\n",
        "2. decoder\n",
        "3. final linear layer"
      ]
    },
    {
      "cell_type": "code",
      "metadata": {
        "id": "PEMfL5SFQqr4"
      },
      "source": [
        "def transformer(vocab_size,\n",
        "                num_layers,\n",
        "                units,\n",
        "                d_model,\n",
        "                num_heads,\n",
        "                dropout,\n",
        "                name=\"transformer\"):\n",
        "  inputs = tf.keras.Input(shape=(None,), name=\"inputs\")\n",
        "  dec_inputs = tf.keras.Input(shape=(None,), name=\"dec_inputs\")\n",
        "\n",
        "  enc_padding_mask = tf.keras.layers.Lambda(\n",
        "      create_padding_mask, output_shape=(1,1,None),\n",
        "      name=\"enc_padding_mask\")(inputs)\n",
        "  \n",
        "  #mask future tokens for decoder inputs at 1st attention block\n",
        "  look_ahead_mask = tf.keras.layers.Lambda(\n",
        "      create_look_ahead_mask, output_shape=(1,None,None),\n",
        "      name=\"look_ahead_mask\")(dec_inputs)\n",
        "  \n",
        "  #mask encoder outputs for the 2nd attention block\n",
        "  dec_padding_mask = tf.keras.layers.Lambda(\n",
        "      create_padding_mask, output_shape=(1,1,None),\n",
        "      name=\"dec_padding_mask\")(inputs)\n",
        "  \n",
        "  enc_outputs = encoder(\n",
        "      vocab_size=vocab_size,\n",
        "      num_layers=num_layers,\n",
        "      units=units,\n",
        "      d_model=d_model,\n",
        "      num_heads=num_heads,\n",
        "      dropout=dropout,\n",
        "  )(inputs=[inputs, enc_padding_mask])\n",
        "\n",
        "  dec_outputs = decoder(\n",
        "      vocab_size=vocab_size,\n",
        "      num_layers=num_layers,\n",
        "      units=units,\n",
        "      d_model=d_model,\n",
        "      num_heads=num_heads,\n",
        "      dropout=dropout,\n",
        "  )(inputs=[dec_inputs, enc_outputs, look_ahead_mask, dec_padding_mask])\n",
        "\n",
        "  outputs = tf.keras.layers.Dense(units=vocab_size, name=\"outputs\")(dec_outputs)\n",
        "\n",
        "  return tf.keras.Model(inputs=[inputs, dec_inputs], outputs=outputs, name=name)"
      ],
      "execution_count": 164,
      "outputs": []
    },
    {
      "cell_type": "markdown",
      "metadata": {
        "id": "Pav-8Jd3ydzp"
      },
      "source": [
        "## 모델 생성"
      ]
    },
    {
      "cell_type": "code",
      "metadata": {
        "id": "I8y-mjWtydzp"
      },
      "source": [
        "tf.keras.backend.clear_session()\n",
        "\n",
        "model = transformer(\n",
        "    vocab_size=VOCAB_SIZE,\n",
        "    num_layers=NUM_LAYERS,\n",
        "    units=UNITS,\n",
        "    d_model=D_MODEL,\n",
        "    num_heads=NUM_HEADS,\n",
        "    dropout=DROPOUT)"
      ],
      "execution_count": 165,
      "outputs": []
    },
    {
      "cell_type": "code",
      "metadata": {
        "id": "KBI__UKXsRLZ",
        "outputId": "96e5b99e-4582-4e2d-cb03-c17cb7ba9614",
        "colab": {
          "base_uri": "https://localhost:8080/"
        }
      },
      "source": [
        "model.summary()"
      ],
      "execution_count": 166,
      "outputs": [
        {
          "output_type": "stream",
          "text": [
            "Model: \"transformer\"\n",
            "__________________________________________________________________________________________________\n",
            "Layer (type)                    Output Shape         Param #     Connected to                     \n",
            "==================================================================================================\n",
            "inputs (InputLayer)             [(None, None)]       0                                            \n",
            "__________________________________________________________________________________________________\n",
            "dec_inputs (InputLayer)         [(None, None)]       0                                            \n",
            "__________________________________________________________________________________________________\n",
            "enc_padding_mask (Lambda)       (None, 1, 1, None)   0           inputs[0][0]                     \n",
            "__________________________________________________________________________________________________\n",
            "encoder (Functional)            (None, None, 200)    6771224     inputs[0][0]                     \n",
            "                                                                 enc_padding_mask[0][0]           \n",
            "__________________________________________________________________________________________________\n",
            "look_ahead_mask (Lambda)        (None, 1, None, None 0           dec_inputs[0][0]                 \n",
            "__________________________________________________________________________________________________\n",
            "dec_padding_mask (Lambda)       (None, 1, 1, None)   0           inputs[0][0]                     \n",
            "__________________________________________________________________________________________________\n",
            "decoder (Functional)            (None, None, 200)    7093624     dec_inputs[0][0]                 \n",
            "                                                                 encoder[0][0]                    \n",
            "                                                                 look_ahead_mask[0][0]            \n",
            "                                                                 dec_padding_mask[0][0]           \n",
            "__________________________________________________________________________________________________\n",
            "outputs (Dense)                 (None, None, 3353)   673953      decoder[0][0]                    \n",
            "==================================================================================================\n",
            "Total params: 8,501,801\n",
            "Trainable params: 2,464,801\n",
            "Non-trainable params: 6,037,000\n",
            "__________________________________________________________________________________________________\n"
          ],
          "name": "stdout"
        }
      ]
    },
    {
      "cell_type": "markdown",
      "metadata": {
        "id": "XK3IwtA4TOnN"
      },
      "source": [
        "### Loss function\n",
        "since target sequences are padded, deal this."
      ]
    },
    {
      "cell_type": "code",
      "metadata": {
        "id": "yi7YnqpVTYn2"
      },
      "source": [
        "def loss_function(y_true, y_pred):\n",
        "  y_true = tf.reshape(y_true, shape=(-1, MAX_SEQ))\n",
        "\n",
        "  loss = tf.keras.losses.SparseCategoricalCrossentropy(\n",
        "      from_logits=True, reduction='none')(y_true, y_pred)\n",
        "  \n",
        "  mask = tf.cast(tf.not_equal(y_true,0), tf.float32)\n",
        "  loss = tf.multiply(loss, mask)\n",
        "\n",
        "  return tf.reduce_mean(loss)"
      ],
      "execution_count": 167,
      "outputs": []
    },
    {
      "cell_type": "markdown",
      "metadata": {
        "id": "bzHEmCzUVhTu"
      },
      "source": [
        "### Custom learning rate\n",
        "use Adam optimizer with custom learning rate\n",
        "$$\\Large{lrate = d_{model}^{-0.5} * min(step{\\_}num^{-0.5}, step{\\_}num * warmup{\\_}steps^{-1.5})}$$"
      ]
    },
    {
      "cell_type": "code",
      "metadata": {
        "id": "CkFm9m_LVt8c"
      },
      "source": [
        "class CustomSchedule(tf.keras.optimizers.schedules.LearningRateSchedule):\n",
        "\n",
        "  def __init__(self, d_model, warmup_steps=4000):\n",
        "    super(CustomSchedule, self).__init__()\n",
        "\n",
        "    self.d_model = d_model\n",
        "    self.d_model = tf.cast(self.d_model, tf.float32)\n",
        "\n",
        "    self.warmup_steps = warmup_steps\n",
        "\n",
        "  def __call__(self, step):\n",
        "    arg1 = tf.math.rsqrt(step)\n",
        "    arg2 = step * (self.warmup_steps**-1.5)\n",
        "\n",
        "    return tf.math.rsqrt(self.d_model) * tf.math.minimum(arg1, arg2)"
      ],
      "execution_count": 168,
      "outputs": []
    },
    {
      "cell_type": "markdown",
      "metadata": {
        "id": "gb8PGbKgWAbP"
      },
      "source": [
        "### Compile Model"
      ]
    },
    {
      "cell_type": "code",
      "metadata": {
        "id": "vql4FYFUV_3_"
      },
      "source": [
        "learning_rate = CustomSchedule(D_MODEL)\n",
        "\n",
        "optimizer = tf.keras.optimizers.Adam(\n",
        "    learning_rate, beta_1=0.9, beta_2=0.98, epsilon=1e-9)\n",
        "\n",
        "def accuracy(y_true, y_pred):\n",
        "  # ensure labels have shape (batch_size, MAX_LENGTH - 1)\n",
        "  y_true = tf.reshape(y_true, shape=(-1, MAX_SEQ))\n",
        "  return tf.keras.metrics.sparse_categorical_accuracy(y_true, y_pred)\n",
        "\n",
        "model.compile(optimizer=optimizer, loss=loss_function, metrics=[accuracy])"
      ],
      "execution_count": 169,
      "outputs": []
    },
    {
      "cell_type": "markdown",
      "metadata": {
        "id": "mTXbb1Z2I4IM"
      },
      "source": [
        "## Train"
      ]
    },
    {
      "cell_type": "code",
      "metadata": {
        "id": "Dl3V7BllWWFG",
        "outputId": "6e1db972-7987-4179-e840-43baa2b0b781",
        "colab": {
          "base_uri": "https://localhost:8080/"
        }
      },
      "source": [
        "model.fit(dataset, epochs=EPOCHS)"
      ],
      "execution_count": 170,
      "outputs": [
        {
          "output_type": "stream",
          "text": [
            "Epoch 1/50\n",
            "115/115 [==============================] - 4s 34ms/step - loss: 2.4476 - accuracy: 0.0165\n",
            "Epoch 2/50\n",
            "115/115 [==============================] - 5s 40ms/step - loss: 2.1017 - accuracy: 0.0333\n",
            "Epoch 3/50\n",
            "115/115 [==============================] - 4s 31ms/step - loss: 1.7682 - accuracy: 0.0398\n",
            "Epoch 4/50\n",
            "115/115 [==============================] - 4s 31ms/step - loss: 1.5583 - accuracy: 0.0604\n",
            "Epoch 5/50\n",
            "115/115 [==============================] - 4s 31ms/step - loss: 1.4329 - accuracy: 0.0779\n",
            "Epoch 6/50\n",
            "115/115 [==============================] - 4s 31ms/step - loss: 1.3270 - accuracy: 0.0914\n",
            "Epoch 7/50\n",
            "115/115 [==============================] - 4s 31ms/step - loss: 1.2416 - accuracy: 0.1018\n",
            "Epoch 8/50\n",
            "115/115 [==============================] - 4s 32ms/step - loss: 1.1730 - accuracy: 0.1098\n",
            "Epoch 9/50\n",
            "115/115 [==============================] - 4s 32ms/step - loss: 1.1196 - accuracy: 0.1148\n",
            "Epoch 10/50\n",
            "115/115 [==============================] - 4s 32ms/step - loss: 1.0743 - accuracy: 0.1188\n",
            "Epoch 11/50\n",
            "115/115 [==============================] - 4s 32ms/step - loss: 1.0337 - accuracy: 0.1228\n",
            "Epoch 12/50\n",
            "115/115 [==============================] - 4s 31ms/step - loss: 0.9984 - accuracy: 0.1259\n",
            "Epoch 13/50\n",
            "115/115 [==============================] - 4s 31ms/step - loss: 0.9645 - accuracy: 0.1289\n",
            "Epoch 14/50\n",
            "115/115 [==============================] - 4s 31ms/step - loss: 0.9325 - accuracy: 0.1328\n",
            "Epoch 15/50\n",
            "115/115 [==============================] - 4s 31ms/step - loss: 0.9052 - accuracy: 0.1349\n",
            "Epoch 16/50\n",
            "115/115 [==============================] - 4s 31ms/step - loss: 0.8763 - accuracy: 0.1381\n",
            "Epoch 17/50\n",
            "115/115 [==============================] - 4s 31ms/step - loss: 0.8509 - accuracy: 0.1402\n",
            "Epoch 18/50\n",
            "115/115 [==============================] - 4s 32ms/step - loss: 0.8278 - accuracy: 0.1428\n",
            "Epoch 19/50\n",
            "115/115 [==============================] - 4s 31ms/step - loss: 0.8017 - accuracy: 0.1450\n",
            "Epoch 20/50\n",
            "115/115 [==============================] - 4s 31ms/step - loss: 0.7787 - accuracy: 0.1470\n",
            "Epoch 21/50\n",
            "115/115 [==============================] - 4s 31ms/step - loss: 0.7545 - accuracy: 0.1499\n",
            "Epoch 22/50\n",
            "115/115 [==============================] - 4s 31ms/step - loss: 0.7329 - accuracy: 0.1524\n",
            "Epoch 23/50\n",
            "115/115 [==============================] - 4s 31ms/step - loss: 0.7108 - accuracy: 0.1542\n",
            "Epoch 24/50\n",
            "115/115 [==============================] - 4s 31ms/step - loss: 0.6880 - accuracy: 0.1577\n",
            "Epoch 25/50\n",
            "115/115 [==============================] - 4s 31ms/step - loss: 0.6711 - accuracy: 0.1598\n",
            "Epoch 26/50\n",
            "115/115 [==============================] - 4s 31ms/step - loss: 0.6513 - accuracy: 0.1618\n",
            "Epoch 27/50\n",
            "115/115 [==============================] - 4s 31ms/step - loss: 0.6311 - accuracy: 0.1655\n",
            "Epoch 28/50\n",
            "115/115 [==============================] - 4s 31ms/step - loss: 0.6120 - accuracy: 0.1673\n",
            "Epoch 29/50\n",
            "115/115 [==============================] - 4s 31ms/step - loss: 0.5959 - accuracy: 0.1693\n",
            "Epoch 30/50\n",
            "115/115 [==============================] - 4s 31ms/step - loss: 0.5788 - accuracy: 0.1723\n",
            "Epoch 31/50\n",
            "115/115 [==============================] - 4s 32ms/step - loss: 0.5611 - accuracy: 0.1753\n",
            "Epoch 32/50\n",
            "115/115 [==============================] - 4s 31ms/step - loss: 0.5416 - accuracy: 0.1781\n",
            "Epoch 33/50\n",
            "115/115 [==============================] - 4s 32ms/step - loss: 0.5250 - accuracy: 0.1804\n",
            "Epoch 34/50\n",
            "115/115 [==============================] - 4s 31ms/step - loss: 0.5094 - accuracy: 0.1836\n",
            "Epoch 35/50\n",
            "115/115 [==============================] - 4s 31ms/step - loss: 0.4969 - accuracy: 0.1847\n",
            "Epoch 36/50\n",
            "115/115 [==============================] - 4s 31ms/step - loss: 0.4781 - accuracy: 0.1889\n",
            "Epoch 37/50\n",
            "115/115 [==============================] - 4s 31ms/step - loss: 0.4581 - accuracy: 0.1928\n",
            "Epoch 38/50\n",
            "115/115 [==============================] - 4s 31ms/step - loss: 0.4393 - accuracy: 0.1960\n",
            "Epoch 39/50\n",
            "115/115 [==============================] - 4s 31ms/step - loss: 0.4178 - accuracy: 0.2006\n",
            "Epoch 40/50\n",
            "115/115 [==============================] - 4s 31ms/step - loss: 0.4009 - accuracy: 0.2040\n",
            "Epoch 41/50\n",
            "115/115 [==============================] - 4s 31ms/step - loss: 0.3808 - accuracy: 0.2082\n",
            "Epoch 42/50\n",
            "115/115 [==============================] - 4s 31ms/step - loss: 0.3657 - accuracy: 0.2106\n",
            "Epoch 43/50\n",
            "115/115 [==============================] - 4s 31ms/step - loss: 0.3464 - accuracy: 0.2160\n",
            "Epoch 44/50\n",
            "115/115 [==============================] - 4s 31ms/step - loss: 0.3315 - accuracy: 0.2192\n",
            "Epoch 45/50\n",
            "115/115 [==============================] - 4s 31ms/step - loss: 0.3176 - accuracy: 0.2220\n",
            "Epoch 46/50\n",
            "115/115 [==============================] - 4s 31ms/step - loss: 0.3029 - accuracy: 0.2254\n",
            "Epoch 47/50\n",
            "115/115 [==============================] - 4s 31ms/step - loss: 0.2889 - accuracy: 0.2294\n",
            "Epoch 48/50\n",
            "115/115 [==============================] - 4s 31ms/step - loss: 0.2782 - accuracy: 0.2312\n",
            "Epoch 49/50\n",
            "115/115 [==============================] - 4s 31ms/step - loss: 0.2665 - accuracy: 0.2339\n",
            "Epoch 50/50\n",
            "115/115 [==============================] - 4s 31ms/step - loss: 0.2530 - accuracy: 0.2377\n"
          ],
          "name": "stdout"
        },
        {
          "output_type": "execute_result",
          "data": {
            "text/plain": [
              "<tensorflow.python.keras.callbacks.History at 0x7fbb550b4cf8>"
            ]
          },
          "metadata": {
            "tags": []
          },
          "execution_count": 170
        }
      ]
    },
    {
      "cell_type": "markdown",
      "metadata": {
        "id": "e6EDnEOwI_G7"
      },
      "source": [
        "## Predict"
      ]
    },
    {
      "cell_type": "code",
      "metadata": {
        "id": "Gxi2B-vjydzt"
      },
      "source": [
        "# 인덱스를 문장으로 변환\n",
        "def convert_index_to_text(indexs, vocabulary): \n",
        "    \n",
        "    sentence = ''\n",
        "    \n",
        "    # 모든 문장에 대해서 반복\n",
        "    for index in indexs:\n",
        "        if index == END_INDEX:\n",
        "            # 종료 인덱스면 중지\n",
        "            break;\n",
        "        if vocabulary.get(index) is not None:\n",
        "            # 사전에 있는 인덱스면 해당 단어를 추가\n",
        "            sentence += vocabulary[index]\n",
        "        else:\n",
        "            # 사전에 없는 인덱스면 OOV 단어를 추가\n",
        "            sentence.extend([vocabulary[OOV_INDEX]])\n",
        "            \n",
        "        # 빈칸 추가\n",
        "        sentence += ' '\n",
        "\n",
        "    return sentence"
      ],
      "execution_count": 171,
      "outputs": []
    },
    {
      "cell_type": "code",
      "metadata": {
        "id": "2E66RpbXydzy"
      },
      "source": [
        "# 예측을 위한 입력 생성\n",
        "def make_predict_input(sentence):\n",
        "\n",
        "    sentences = []\n",
        "    sentences.append(sentence)\n",
        "    sentences = pos_tag(sentences)\n",
        "    input_seq = convert_text_to_index(sentences, word_to_index, ENCODER_INPUT)\n",
        "    \n",
        "    return input_seq"
      ],
      "execution_count": 172,
      "outputs": []
    },
    {
      "cell_type": "code",
      "metadata": {
        "id": "umBNECObKCJj"
      },
      "source": [
        "def evaluate(input_seq):\n",
        "\n",
        "  input_seq = input_seq.squeeze()\n",
        "  sentence = tf.expand_dims(input_seq, axis=0)\n",
        "  output = tf.expand_dims([1], 0)\n",
        "\n",
        "  for i in range(MAX_SEQ):\n",
        "    predictions = model(inputs=[sentence, output], training=False)\n",
        "\n",
        "    # select the last word from the seq_len dimension\n",
        "    predictions = predictions[:, -1:, :]\n",
        "    predicted_id = tf.cast(tf.argmax(predictions, axis=-1), tf.int32)\n",
        "\n",
        "    # return the result if the predicted_id is equal to the end token\n",
        "    if tf.equal(predicted_id, 2):\n",
        "      break\n",
        "\n",
        "    # concatenated the predicted_id to the output which is given to the decoder\n",
        "    # as its input.\n",
        "    output = tf.concat([output, predicted_id], axis=-1)\n",
        "\n",
        "  return tf.squeeze(output, axis=0)"
      ],
      "execution_count": 173,
      "outputs": []
    },
    {
      "cell_type": "code",
      "metadata": {
        "id": "U_-WH6QHpyIw",
        "outputId": "824cfa3f-ad36-4bb6-ec31-5f00985fe71e",
        "colab": {
          "base_uri": "https://localhost:8080/",
          "height": 35
        }
      },
      "source": [
        "convert_index_to_text(evaluate(make_predict_input('와이프 선물로 뭐가 좋을까요?')).numpy()[1:],index_to_word)"
      ],
      "execution_count": 174,
      "outputs": [
        {
          "output_type": "execute_result",
          "data": {
            "application/vnd.google.colaboratory.intrinsic+json": {
              "type": "string"
            },
            "text/plain": [
              "'골드 랑 실버 제품 이 더 좋 아요 '"
            ]
          },
          "metadata": {
            "tags": []
          },
          "execution_count": 174
        }
      ]
    },
    {
      "cell_type": "code",
      "metadata": {
        "id": "GBxzil_NWNLX",
        "outputId": "40b4c8ea-38ed-4643-af59-b3635af9ded5",
        "colab": {
          "base_uri": "https://localhost:8080/",
          "height": 35
        }
      },
      "source": [
        "convert_index_to_text(evaluate(make_predict_input('내일 뭐해요?')).numpy()[1:],index_to_word)"
      ],
      "execution_count": 175,
      "outputs": [
        {
          "output_type": "execute_result",
          "data": {
            "application/vnd.google.colaboratory.intrinsic+json": {
              "type": "string"
            },
            "text/plain": [
              "'그 스카프 는 망 에 도 되 어요 '"
            ]
          },
          "metadata": {
            "tags": []
          },
          "execution_count": 175
        }
      ]
    },
    {
      "cell_type": "code",
      "metadata": {
        "id": "CUDsxhUxWaa9",
        "outputId": "9095d2f8-c6eb-4c62-cd44-f60ee560c9ad",
        "colab": {
          "base_uri": "https://localhost:8080/",
          "height": 35
        }
      },
      "source": [
        "convert_index_to_text(evaluate(make_predict_input('이거 사이즈 큰거 있어요?')).numpy()[1:],index_to_word)"
      ],
      "execution_count": 176,
      "outputs": [
        {
          "output_type": "execute_result",
          "data": {
            "application/vnd.google.colaboratory.intrinsic+json": {
              "type": "string"
            },
            "text/plain": [
              "'네 컬러 까지 있 어요 '"
            ]
          },
          "metadata": {
            "tags": []
          },
          "execution_count": 176
        }
      ]
    },
    {
      "cell_type": "code",
      "metadata": {
        "id": "GFym9Kw4Wkb9",
        "outputId": "07788e8e-160e-4817-8488-a6cf4a6c7b8e",
        "colab": {
          "base_uri": "https://localhost:8080/",
          "height": 35
        }
      },
      "source": [
        "convert_index_to_text(evaluate(make_predict_input('이거 사이즈 230 있어요?')).numpy()[1:],index_to_word)"
      ],
      "execution_count": 177,
      "outputs": [
        {
          "output_type": "execute_result",
          "data": {
            "application/vnd.google.colaboratory.intrinsic+json": {
              "type": "string"
            },
            "text/plain": [
              "'네 가지 어다 드리 겠 습니다 '"
            ]
          },
          "metadata": {
            "tags": []
          },
          "execution_count": 177
        }
      ]
    },
    {
      "cell_type": "code",
      "metadata": {
        "id": "uPixonr7g-FT",
        "outputId": "d3d33d1e-cf1e-454a-ab19-5e284e60af97",
        "colab": {
          "base_uri": "https://localhost:8080/",
          "height": 35
        }
      },
      "source": [
        "convert_index_to_text(evaluate(make_predict_input('할인 되요?')).numpy()[1:],index_to_word)"
      ],
      "execution_count": 178,
      "outputs": [
        {
          "output_type": "execute_result",
          "data": {
            "application/vnd.google.colaboratory.intrinsic+json": {
              "type": "string"
            },
            "text/plain": [
              "'네 할인 되 ㅂ니다 '"
            ]
          },
          "metadata": {
            "tags": []
          },
          "execution_count": 178
        }
      ]
    },
    {
      "cell_type": "code",
      "metadata": {
        "id": "z3YqOZ-MEOVW",
        "outputId": "397f6c6b-bd35-48dc-a8de-9ff295b4ff7a",
        "colab": {
          "base_uri": "https://localhost:8080/"
        }
      },
      "source": [
        "# for train data predict\n",
        "for seq_index in range(0,100):\n",
        "\n",
        "  print(\"고객 : \",question[seq_index])\n",
        "  print(\"정답점원 :\",answer[seq_index])\n",
        "  print(\"AI점원 :\",convert_index_to_text(evaluate(make_predict_input(question[seq_index])).numpy()[1:],index_to_word))\n",
        "  print(\"\\n\")"
      ],
      "execution_count": 179,
      "outputs": [
        {
          "output_type": "stream",
          "text": [
            "고객 :  신발 은 여기 있 는 게 다예 요 ?\n",
            "정답점원 : 네 성인 이나 아동 다 있 어요 발 사이즈 몇 신 으시 시 어요 ?\n",
            "AI점원 : 네 , 여기 요 \n",
            "\n",
            "\n",
            "고객 :  230 이 요\n",
            "정답점원 : 편하 게 신 을 수 있 는 거 찾 으시 시 어요 ?\n",
            "AI점원 : 신발 신어 보 시 겠 어요 ? \n",
            "\n",
            "\n",
            "고객 :  네 봄 이 니까 편하 게 신 을 수 있 는 거\n",
            "정답점원 : 이런 건 어떻 시 어요 ? 이런 거도 신발 무척 편하 거든요\n",
            "AI점원 : 네 손님 잠시 만 기다리 어 주 시 어요 \n",
            "\n",
            "\n",
            "고객 :  굽 좀 높 은 거 없 나요 ?\n",
            "정답점원 : 봄 상품 은 아직 어른 제품 이 많이 안 나오 았 습니다\n",
            "AI점원 : 봄 이 라 화사 하 ㄴ 스타일 은 없 어요 \n",
            "\n",
            "\n",
            "고객 :  언제 들어오 아요 ?\n",
            "정답점원 : 이번 주 지나 면 들어오 ㄹ 거 예 요\n",
            "AI점원 : 이번 주 지나 면 들어오 ㄹ 거 예 요 \n",
            "\n",
            "\n",
            "고객 :  이것 는 가죽 이 에요 ?\n",
            "정답점원 : 가죽 아니 고 쎄무예요\n",
            "AI점원 : 네 \n",
            "\n",
            "\n",
            "고객 :  가죽 은 얼마 예 요 ?\n",
            "정답점원 : 2 만 9 천 원 이 ㅂ니다\n",
            "AI점원 : 그 제품 은 칠만 원 이 에요 \n",
            "\n",
            "\n",
            "고객 :  털 달리 ㄴ 거 저것 는 사이즈 있 어요 ?\n",
            "정답점원 : 230 이 없 어요 이것 한 번 신 어 보 시 어요\n",
            "AI점원 : 네 \n",
            "\n",
            "\n",
            "고객 :  좀 크 네 또 안 들어오 아요 ?\n",
            "정답점원 : 네 이건 다 끝나 았 어요\n",
            "AI점원 : 네 \n",
            "\n",
            "\n",
            "고객 :  가방 매 는 거 보 고 있 어요\n",
            "정답점원 : 여기 있 어요\n",
            "AI점원 : 여기 있 어요 \n",
            "\n",
            "\n",
            "고객 :  가격 이 얼마 예 요 ?\n",
            "정답점원 : 이 종류 는 2 만 원 이 고 이 종류 는 3 만 8 천 원 이 에요\n",
            "AI점원 : 이 종류 는 2 만 5 천 원 이 에요 \n",
            "\n",
            "\n",
            "고객 :  가죽 으로 되 ㄴ 것 는 없 어요 ?\n",
            "정답점원 : 가죽 은 없 고 레 자 만 있 어요\n",
            "AI점원 : 가죽 으로 되 ㄴ 제품 이 ㅂ니다 \n",
            "\n",
            "\n",
            "고객 :  레 자 는 얼마 예 요 ?\n",
            "정답점원 : 5 만 5 천 원요\n",
            "AI점원 : 그 제품 은 칠만 오천 원 이 에요 \n",
            "\n",
            "\n",
            "고객 :  이것 는 천 이 죠 ?\n",
            "정답점원 : 네 맞 아요\n",
            "AI점원 : 네 \n",
            "\n",
            "\n",
            "고객 :  이건 얼마 예 요 ?\n",
            "정답점원 : 그것 도 5 만 5 천 원요\n",
            "AI점원 : 그 제품 은 칠만 원 이 에요 \n",
            "\n",
            "\n",
            "고객 :  이것 끈 은 따로 없 어요 ?\n",
            "정답점원 : 안 에 있 어요\n",
            "AI점원 : 이 제품 은 하나 있 어요 \n",
            "\n",
            "\n",
            "고객 :  내일 은 문 열 어요 ?\n",
            "정답점원 : 휴 무 이 ㅂ니다\n",
            "AI점원 : 휴 무 이 ㅂ니다 \n",
            "\n",
            "\n",
            "고객 :  며칠 까지 휴 무예 요 ?\n",
            "정답점원 : 설 까지 쉬 고 다음날 열 거 같 아요\n",
            "AI점원 : 네 \n",
            "\n",
            "\n",
            "고객 :  여기 마스크 는 얼마 예 요 ?\n",
            "정답점원 : 5 천 원요\n",
            "AI점원 : 그 제품 은 칠만 오천 원 이 에요 \n",
            "\n",
            "\n",
            "고객 :  이것 나무 예요 ? 다 돌 이 ㄴ가요 ?\n",
            "정답점원 : 나무 도 있 고 도자기 도 있 어요\n",
            "AI점원 : 네 \n",
            "\n",
            "\n",
            "고객 :  이런 건 세트 로 팔 아요 ?\n",
            "정답점원 : 네 세트 로만 팔 아요\n",
            "AI점원 : 네 \n",
            "\n",
            "\n",
            "고객 :  이건 뭐 예요 ?\n",
            "정답점원 : 마블 이 라고 종이 를 말 아 가지 고 하 는 거 예 요\n",
            "AI점원 : 그 니트 예 요 \n",
            "\n",
            "\n",
            "고객 :  제일 크 ㄴ 것 는 얼마 이 ㄴ데요 ?\n",
            "정답점원 : 세트 에 7 만 원 이 요\n",
            "AI점원 : 그 제품 이 만 원 이 에요 \n",
            "\n",
            "\n",
            "고객 :  스카프 좀 보 려구요\n",
            "정답점원 : 네 천천히 보 시 어요\n",
            "AI점원 : 네 천천히 보 시 어요 \n",
            "\n",
            "\n",
            "고객 :  실크 스카프 도 봄 에 하 나요 ?\n",
            "정답점원 : 실크 봄 가을 에 하 죠\n",
            "AI점원 : 네 \n",
            "\n",
            "\n",
            "고객 :  이것 는 뭐 예요 ?\n",
            "정답점원 : 토시 예 요\n",
            "AI점원 : 그 니트 는 이 에요 \n",
            "\n",
            "\n",
            "고객 :  여기 가격 은 그대로 파시 는 거 예요 ?\n",
            "정답점원 : 네 핸드 메이드 로 하 아 가지 고 그 가격 으로 팔 아요\n",
            "AI점원 : 네 , 이 제품 은 반값 세일 품목 은 따로 없 어요 . \n",
            "\n",
            "\n",
            "고객 :  착용 하 아 보 ㄹ 수 있 어요 ?\n",
            "정답점원 : 네 가능 하 시 어요\n",
            "AI점원 : 아니 요 그냥 착용 하 아 보 시 어야 하 아요 \n",
            "\n",
            "\n",
            "고객 :  이것 는 요즘 들어오 ㄴ 거 예요 ?\n",
            "정답점원 : 네 어제 들어오 았 어요\n",
            "AI점원 : 네 어제 들어오 았 어요 \n",
            "\n",
            "\n",
            "고객 :  세탁 은 물 세탁 되 죠 ?\n",
            "정답점원 : 끝 부분 이 가죽 이 라서 조심 하 아야 하 아요\n",
            "AI점원 : 끝 부분 이 가죽 이 라서 조심 하 아야 하 아야 하 아요 \n",
            "\n",
            "\n",
            "고객 :  지금 여기 있 는 게 다예 요 ?\n",
            "정답점원 : 네 다예 요\n",
            "AI점원 : 네 \n",
            "\n",
            "\n",
            "고객 :  몇 시 에 문 닫 아요 ?\n",
            "정답점원 : 8 시 까지 하 ㅂ니다\n",
            "AI점원 : 8 시 까지 하 ㅂ니다 \n",
            "\n",
            "\n",
            "고객 :  일요일 도 하 시 어요 ?\n",
            "정답점원 : 아뇨 닫 아요\n",
            "AI점원 : 네 \n",
            "\n",
            "\n",
            "고객 :  스카프 있 어요 ?\n",
            "정답점원 : 네 여기 는 2 단 이것 는 3 단 제품 있 어요\n",
            "AI점원 : 네 \n",
            "\n",
            "\n",
            "고객 :  이런 건 세탁 을 어떻 게 하 아요 ?\n",
            "정답점원 : 울 ㄹ 샴푸 를 물 에 몇 방울 떨어뜨리 어서 조 물 조 물 하 면 되 ㅂ니다\n",
            "AI점원 : 손 빨래 하 시 어야 하 아요 \n",
            "\n",
            "\n",
            "고객 :  원단 은 뭐 예요 ?\n",
            "정답점원 : 원단 이 구 김 안 가 고 참 괜찮 아요\n",
            "AI점원 : 그 스카프 는 면 이 에요 \n",
            "\n",
            "\n",
            "고객 :  얼마 이 ㄴ데요 ?\n",
            "정답점원 : 2 만 원 이 ㅂ니다\n",
            "AI점원 : 이 제품 이 만 원 이 에요 \n",
            "\n",
            "\n",
            "고객 :  브로치 같 은 건 어디 있 나요 ?\n",
            "정답점원 : 여기 있 는 거 밖에 없 어요\n",
            "AI점원 : 여기 있 는 게 다예 요 \n",
            "\n",
            "\n",
            "고객 :  이런 거도 2 만 원 이 예요 ?\n",
            "정답점원 : 헤르메스 이 ㄴ데 이것 도 괜찮 아요\n",
            "AI점원 : 네 \n",
            "\n",
            "\n",
            "고객 :  명품 이랑 똑같이 한 거 예요 ?\n",
            "정답점원 : 네 원단 만 다르 고 디자인 을 똑같이 만들 ㄴ 거 예 요\n",
            "AI점원 : 이런 스타일 로 찾 으시 시 어요 ? \n",
            "\n",
            "\n",
            "고객 :  온 누리 상품권 도 되 죠 ?\n",
            "정답점원 : 네 되 ㅂ니다\n",
            "AI점원 : 네 \n",
            "\n",
            "\n",
            "고객 :  브로치 하 고 머리핀 하 고 보 려고 요\n",
            "정답점원 : 머리핀 은 밖 에 있 고 브로치 는 안 에 있 습니다\n",
            "AI점원 : 머리핀 은 밖 에 없 어요 \n",
            "\n",
            "\n",
            "고객 :  도자기 같 은 거 말 고 구슬 이나 진주 같 은 것 는 없 어요 ?\n",
            "정답점원 : 지금 옷 에 가볍 게 하 려면 진주 도 예쁘 지만 이것 도 깔끔 하 ㅂ니다 보석 은 싫 으시 시 어요 ?\n",
            "AI점원 : 네 더 필요 없 으시 시 어요 ? \n",
            "\n",
            "\n",
            "고객 :  그것 ㄴ 흥미 없 고 안 에 하 면 안 떨어지 어요 ?\n",
            "정답점원 : 안 떨어지 어요\n",
            "AI점원 : 안 떨어지 어요 \n",
            "\n",
            "\n",
            "고객 :  얼마 예 요 ?\n",
            "정답점원 : 피 ㄴ 꼽 는 것 는 좀 싸 ㄴ 거 이 고 이것 는 3 만 원대 예 요\n",
            "AI점원 : 그 제품 도 삼만 구천 원 이 에요 \n",
            "\n",
            "\n",
            "고객 :  이 우산 은 얼마 이 ㄴ데요 ?\n",
            "정답점원 : 4 만 2 천 원 이 요\n",
            "AI점원 : 그 제품 이 만 팔천 원 이 에요 \n",
            "\n",
            "\n",
            "고객 :  무겁 지 않 아요 ?\n",
            "정답점원 : 좋 은 재료 를 쓰기 때문 에 무겁 지 않 아요\n",
            "AI점원 : 네 그럼요 \n",
            "\n",
            "\n",
            "고객 :  이렇 게 달 는 거 맞 아요 ?\n",
            "정답점원 : 그렇 게 달 면 안 되 고 이렇 게 달 아야 하 아요\n",
            "AI점원 : 나 이 는 이렇 게 어울리 어요 \n",
            "\n",
            "\n",
            "고객 :  자석 은 다 3 만 원 ?\n",
            "정답점원 : 3 만 원 짜리 도 있 고 2 만 원 짜리 도 있 어요\n",
            "AI점원 : 네 \n",
            "\n",
            "\n",
            "고객 :  머리핀 종류 도 한 번 보이 어 주 시 어요 곱창 은 요새 안 나오 아요 ?\n",
            "정답점원 : 곱창 밴드 는 안 나오 아요 촌 스럽 어서 유행 다 지나 았 어요\n",
            "AI점원 : 네 금방 들어오 았 어요 \n",
            "\n",
            "\n",
            "고객 :  브로치 종류 도 있 어요 ?\n",
            "정답점원 : 아뇨 없 어요\n",
            "AI점원 : 아뇨 없 어요 \n",
            "\n",
            "\n",
            "고객 :  스카프 도 없 어요 ?\n",
            "정답점원 : 스카프 는 이쪽 에 종류 가 있 어요\n",
            "AI점원 : 스카프 는 스카프 도 있 어요 \n",
            "\n",
            "\n",
            "고객 :  이런 거 실크 이 ㅂ니까 ?\n",
            "정답점원 : 실크 아니 예 요\n",
            "AI점원 : 실크 아니 예 요 \n",
            "\n",
            "\n",
            "고객 :  이런 것 는 뭐 이 라 그래요 ?\n",
            "정답점원 : 실 캐 엇 으 로 만들 ㄴ 거 죠\n",
            "AI점원 : 실 캐 엇 으 로 만들 ㄴ 거 죠 \n",
            "\n",
            "\n",
            "고객 :  이런 것 는 얼마 예 요 ?\n",
            "정답점원 : 대충 2 만 원 내외 요\n",
            "AI점원 : 그 옆 에 있 어요 \n",
            "\n",
            "\n",
            "고객 :  이런 것 는 물 세탁 되 ㅂ니까 ?\n",
            "정답점원 : 물 세탁 조금 하 아도 상관 은 없 으시 시 어요\n",
            "AI점원 : 물 세탁 조금 하 아도 되 ㄹ 수 없 지만 , 옷 이 라 고급 스럽 어요 \n",
            "\n",
            "\n",
            "고객 :  근데 이것 제가 한 거 아니 ㄴ데 약간 올 이 나가 았 네요\n",
            "정답점원 : 이것 원하 시 면 주문 가능 하 시 어요\n",
            "AI점원 : 그럼 이 스타일 을 찾 으시 시 어요 ? \n",
            "\n",
            "\n",
            "고객 :  또 언제 들어오 아요 ?\n",
            "정답점원 : 스카프 는 많이 들어오 지 않 아서 주문 하 시 는 게 좋 아요\n",
            "AI점원 : 스카프 는 많이 들어오 아요 \n",
            "\n",
            "\n",
            "고객 :  이것 는 목걸이 링 이 에요 ?\n",
            "정답점원 : 아뇨 반지 예 요\n",
            "AI점원 : 네 , 그것 도 떨어지 어요 . \n",
            "\n",
            "\n",
            "고객 :  금 이 에요 ?\n",
            "정답점원 : 액세서리 예 요 금 아니 예 요\n",
            "AI점원 : 예 , 파카 코트 는 네 이비 예 요 \n",
            "\n",
            "\n",
            "고객 :  이것 한 번 하 아 보 아도 되 어요 ?\n",
            "정답점원 : 네 가능 하 ㅂ니다\n",
            "AI점원 : 네 \n",
            "\n",
            "\n",
            "고객 :  신상품 더 들어오 죠 ?\n",
            "정답점원 : 네 들어오 ㄹ 거 예 요\n",
            "AI점원 : 네 들어오 ㄹ 거 예 요 \n",
            "\n",
            "\n",
            "고객 :  이 모양 으로 목걸이 팔찌 세트 구입 하 ㄹ까 하 는데\n",
            "정답점원 : 똑같 은 모양 은 주문 을 넣 어야 하 ㄹ 거 같 은데 요\n",
            "AI점원 : 똑같 은 모양 은 주문 을 넣 어야 하 ㄹ 수 있 습니다 \n",
            "\n",
            "\n",
            "고객 :  가격 은 어떻 게 되 어요 ?\n",
            "정답점원 : 모양 을 보 고 견 적 을 내 아 보 아야 하 아요\n",
            "AI점원 : 10000 원 이 ㅂ니다 \n",
            "\n",
            "\n",
            "고객 :  이 금 팔찌 는 무게 가 얼마 정도 이 ㄴ지 확인 하 ㄹ 수 있 어요 ?\n",
            "정답점원 : 세 돈 이 조금 넘 네요\n",
            "AI점원 : 18 케이 이 ㅂ니다 \n",
            "\n",
            "\n",
            "고객 :  견본 이 ㄴ 팔찌 가 있 어요 ?\n",
            "정답점원 : 여기 있 습니다\n",
            "AI점원 : 네 어떤 핏으로 찾 으시 나요 ? \n",
            "\n",
            "\n",
            "고객 :  여기 는 금 매입 도 하 아요 ?\n",
            "정답점원 : 네 하 아요\n",
            "AI점원 : 네 \n",
            "\n",
            "\n",
            "고객 :  이것 팔 ㄴ다고 얼마 정도 받 을 수 있 어요 ?\n",
            "정답점원 : 대충 39 만 3 천 원 정도 나오 네요\n",
            "AI점원 : 대충 39 만 원 이 에요 \n",
            "\n",
            "\n",
            "고객 :  팔찌 두 돈 짜리 도 한 번 보이 어 주 시 고 다른 거도 보이 어 주 시 어요\n",
            "정답점원 : 유행 하 는 로즈 골드 하 시 어도 되 고 골드 하 시 어도 되 어요\n",
            "AI점원 : 네 여기 있 습니다 \n",
            "\n",
            "\n",
            "고객 :  가격 이 구입 하 려면 얼마 이 ㄴ데요 ?\n",
            "정답점원 : 현금 가격 기준 으로 62 만 9 천 원 이 요\n",
            "AI점원 : 현금 가격 기준 으로 62 만 9 천 원 이 요 \n",
            "\n",
            "\n",
            "고객 :  이것 18 케이 예요 ?\n",
            "정답점원 : 네 18 케이 예 요\n",
            "AI점원 : 네 , 그 제품 이 에요 \n",
            "\n",
            "\n",
            "고객 :  시내 에 있 는 금 도매상 하 고 여기 랑 가격 차이 가 많이 나 아요 ?\n",
            "정답점원 : 그쪽 은 유지비 가 많이 나가 니까 아무래도 여기 가 더 싸 죠\n",
            "AI점원 : 그쪽 은 유지비 가 많이 나가 니까 아무래도 여기 가 많이 나가 니까 아무래도 여기 가 더 싸 죠 \n",
            "\n",
            "\n",
            "고객 :  액세서리 세일 제품 이 있 나요 ?\n",
            "정답점원 : 악 세 서리 어떤 거 찾 으시 시 어요 ?\n",
            "AI점원 : 악 세 서리 어떤 거 찾 으시 시 어요 ? \n",
            "\n",
            "\n",
            "고객 :  스카프 같 은 거\n",
            "정답점원 : 이것 괜찮 아요\n",
            "AI점원 : 네 \n",
            "\n",
            "\n",
            "고객 :  이건 소재 가 뭐 예요 ?\n",
            "정답점원 : 폴리에스테르 이 라고 적히 어 있 네요\n",
            "AI점원 : 그 깃털 소재 가 소재 가 인조 가죽 이 에요 , 캐시 , 그 깃털 소재 가 좋 아요 \n",
            "\n",
            "\n",
            "고객 :  색상 은 이것 하나 뿐 이 고 ?\n",
            "정답점원 : 네 다 빠지 고 이것 하나 예 요\n",
            "AI점원 : 네 \n",
            "\n",
            "\n",
            "고객 :  빨 면 좀 그렇 지 않 을까 ?\n",
            "정답점원 : 조심 하 아야 하 는데 면 이 아니 니까 집 에서 손 드라이 하 아도 되 어요\n",
            "AI점원 : 조심 하 아야 하 는데 면 이 아니 니까 집 에서 손 드라이 하 아도 되 어요 \n",
            "\n",
            "\n",
            "고객 :  이것 는 가격 이 얼마 예 요 ?\n",
            "정답점원 : 16000 원 이 ㄴ데 몇 천 원 빼 어 드리 ㄹ게요\n",
            "AI점원 : 이 가방 은 12 만 9 천 원 이 에요 \n",
            "\n",
            "\n",
            "고객 :  이건 얼마 예 요 ?\n",
            "정답점원 : 13000 원 이 ㅂ니다\n",
            "AI점원 : 그 제품 은 칠만 원 이 에요 \n",
            "\n",
            "\n",
            "고객 :  이 핑크색 모자 는 애기 들 꺼 예요 ?\n",
            "정답점원 : 애기 용 이 ㅂ니다\n",
            "AI점원 : 아뇨 다르 아요 \n",
            "\n",
            "\n",
            "고객 :  어른 들 꺼 는 없 어요 ?\n",
            "정답점원 : 다 빠지 었 어요\n",
            "AI점원 : 다 빠지 었 어요 \n",
            "\n",
            "\n",
            "고객 :  팔찌 제품 따로 있 나요 ?\n",
            "정답점원 : 고객 님 이 하 시 ㄹ 거 예요 ?\n",
            "AI점원 : 고객 님 이 제품 은 제품 이 에요 \n",
            "\n",
            "\n",
            "고객 :  네 지금 세일 기간 이 에요 ?\n",
            "정답점원 : 네 당분간 은 하 ㄹ 거 같 아요\n",
            "AI점원 : 네 당분간 은 하 고 있 어요 \n",
            "\n",
            "\n",
            "고객 :  한 몇 프로 하 는데요 ?\n",
            "정답점원 : 정가 에서 한 40 프로 하 ㅂ니다\n",
            "AI점원 : 37 프로 세일 하 ㅂ니다 \n",
            "\n",
            "\n",
            "고객 :  이것 는 가격 대가 얼마 예 요 ?\n",
            "정답점원 : 이것 샘플 이 14 케이 이 ㄴ데 뭐 ㄹ 로 보 아 드리 ㄹ까요 ?\n",
            "AI점원 : 이 제품 은 이 만 이천 원 이 에요 \n",
            "\n",
            "\n",
            "고객 :  18 케이 로\n",
            "정답점원 : 18 케이 로 하 시 면 49 만 원 이 요\n",
            "AI점원 : 18 케이 로 하 시 면 49 만 사천 원 이 에요 \n",
            "\n",
            "\n",
            "고객 :  팔찌 좀 핫 하 ㄴ 제품 뭐 가 있 어요 ?\n",
            "정답점원 : 깔끔 하 게 이런 거 잘나가 요\n",
            "AI점원 : 깔끔 하 ㄴ 제품 이 제품 도 있 어요 \n",
            "\n",
            "\n",
            "고객 :  18 케이 예요 ?\n",
            "정답점원 : 네 맞 아요\n",
            "AI점원 : 이 제품 은 이 고 , 지퍼 랑 다르 아요 \n",
            "\n",
            "\n",
            "고객 :  돈 수로 따지 면 몇 돈 이 에요 ?\n",
            "정답점원 : 두 돈반 조금 안 되 어요\n",
            "AI점원 : 그 제품 은 한 돈 이 에요 \n",
            "\n",
            "\n",
            "고객 :  얼마 예 요 ?\n",
            "정답점원 : 48 만 원 정도 요\n",
            "AI점원 : 그 제품 도 삼만 구천 원 이 에요 \n",
            "\n",
            "\n",
            "고객 :  굵 은 게 이것 다예 요 ?\n",
            "정답점원 : 5 돈 6 돈 짜리 도 있 어요 굵 은 거 찾 으시 면 이런 건 어떻 시 어요 ?\n",
            "AI점원 : 네 , 이런 것 도 있 어요 . \n",
            "\n",
            "\n",
            "고객 :  너무 사치 스럽 ㄴ데 핸드폰 케이스 팔 는 거 예요 ?\n",
            "정답점원 : 네 맞 습니다\n",
            "AI점원 : 어느 정도 이 ㄴ가요 ? \n",
            "\n",
            "\n",
            "고객 :  여기 는 가격 이 어떤 게 있 어요 ?\n",
            "정답점원 : 기종 이 어떻 게 되 죠 ?\n",
            "AI점원 : 기종 은 거기 세일 하 아서 정리 중 이 에요 \n",
            "\n",
            "\n",
            "고객 :  엘지 이 ㄴ데\n",
            "정답점원 : 만 오천 원대 부터 시작 하 아서 이 만 오천 원 까지 있 습니다\n",
            "AI점원 : 만 오천 원대 부터 시작 하 아서 15 만 원 이 만 원 이 만 오천 원 까지 있 습니다 \n",
            "\n",
            "\n",
            "고객 :  그것 ㄴ 얼마 예 요 ?\n",
            "정답점원 : 3 만 원 정도 하 아요\n",
            "AI점원 : 19 만 원 이 에요 \n",
            "\n",
            "\n",
            "고객 :  색상 은 이 게 전부 예 요 ?\n",
            "정답점원 : 레드 색인 데 핑크 도 있 고 보랏빛 퍼플 색도 있 고 색상 종류 가 다양 하 어요\n",
            "AI점원 : 네 \n",
            "\n",
            "\n",
            "고객 :  엘지 지 식스 케이스 로 좀 보이 어 주 시 어요\n",
            "정답점원 : 그 기종 은 여기 있 어요\n",
            "AI점원 : 네 이쪽 이 ㅂ니다 \n",
            "\n",
            "\n",
            "고객 :  이건 얼마 예 요 ?\n",
            "정답점원 : 3 만 5 천 원 이 ㅂ니다\n",
            "AI점원 : 그 제품 은 칠만 원 이 에요 \n",
            "\n",
            "\n",
            "고객 :  현금 으로 사면 할인 이 되 ㄴ다거나 그런 게 있 나요 ?\n",
            "정답점원 : 현금 으로 하 면 좀 디 씨 하 아 드리 어요\n",
            "AI점원 : 현금 으로 하 시 면 할인 하 아 드리 어요 \n",
            "\n",
            "\n",
            "고객 :  반지 이것 세척 가능 하 어요 ?\n",
            "정답점원 : 월요일 에 하 아야 하 아요\n",
            "AI점원 : 월요일 에 하 아야 하 아요 \n",
            "\n",
            "\n"
          ],
          "name": "stdout"
        }
      ]
    },
    {
      "cell_type": "markdown",
      "metadata": {
        "id": "FYv7EewQhIAd"
      },
      "source": [
        "## Test data prediction\n",
        " - 문장중 14900행부터의 문장 100개에 대한 예측."
      ]
    },
    {
      "cell_type": "code",
      "metadata": {
        "id": "8uZiQH0Ziu_h"
      },
      "source": [
        "test_question_arr = []\n",
        "test_question = \"\"\n",
        "\n",
        "for i in range(14900,wear_data.shape[0]):\n",
        "        test_question = wear_data.iloc[i].SENTENCE\n",
        "        test_question_arr.append(test_question)\n",
        "\n",
        "# test_question_arr = pos_tag(test_question_arr)"
      ],
      "execution_count": 180,
      "outputs": []
    },
    {
      "cell_type": "code",
      "metadata": {
        "id": "RroUo2wthdA-",
        "outputId": "f9541bab-1355-447d-b9d2-cc5440725b2c",
        "colab": {
          "base_uri": "https://localhost:8080/"
        }
      },
      "source": [
        "# for train data predict\n",
        "for seq_index in range(0,100):\n",
        "\n",
        "  print(\"고객 : \",test_question_arr[seq_index])\n",
        "  print(\"AI점원 :\",convert_index_to_text(evaluate(make_predict_input(test_question_arr[seq_index])).numpy()[1:],index_to_word))\n",
        "  print(\"\\n\")"
      ],
      "execution_count": 181,
      "outputs": [
        {
          "output_type": "stream",
          "text": [
            "고객 :  구제는 뭐예요?\n",
            "AI점원 : 제일 인기 있 는 제품 이 에요 \n",
            "\n",
            "\n",
            "고객 :  구제 옷도 있네요?\n",
            "AI점원 : 네 \n",
            "\n",
            "\n",
            "고객 :  구제품은 다 세탁해서 나온 거예요?\n",
            "AI점원 : 네 \n",
            "\n",
            "\n",
            "고객 :  이건 다 세탁이 된 거죠?\n",
            "AI점원 : 네 \n",
            "\n",
            "\n",
            "고객 :  구제품은 세탁해서 파시는 건가요?\n",
            "AI점원 : 이 제품 은 드라이 하 게 더 잘 없 어요 \n",
            "\n",
            "\n",
            "고객 :  구제품은 다 세탁해서 나오는 거겠죠?\n",
            "AI점원 : 네 \n",
            "\n",
            "\n",
            "고객 :  카드로 결제하면 부가세 별도에요?\n",
            "AI점원 : 몇 개월 로 하 아 드리 ㄹ까요 ? \n",
            "\n",
            "\n",
            "고객 :  카드는 부가세 별도로 붙나요?\n",
            "AI점원 : 네 여기 있 습니다 \n",
            "\n",
            "\n",
            "고객 :  카드 결제하면 부가세 추가되나요?\n",
            "AI점원 : 네 가능 하 ㅂ니다 \n",
            "\n",
            "\n",
            "고객 :  카드로 하면 부가세 붙어요?\n",
            "AI점원 : 네 \n",
            "\n",
            "\n",
            "고객 :  포인트 적립되는 거 뭐 있어요?\n",
            "AI점원 : 바 는 없 어요 \n",
            "\n",
            "\n",
            "고객 :  이거 적립되죠?\n",
            "AI점원 : 전화번호 알리 어 주 시 어요 \n",
            "\n",
            "\n",
            "고객 :  몸에 딱 붙는 옷인가요?\n",
            "AI점원 : 네 \n",
            "\n",
            "\n",
            "고객 :  몸에 딱 붙는 티셔츠 있어요?\n",
            "AI점원 : 티셔츠 도 있 어요 \n",
            "\n",
            "\n",
            "고객 :  원피스 중에 몸에 딱 붙는 건 없어요?\n",
            "AI점원 : 네 \n",
            "\n",
            "\n",
            "고객 :  할인 코너는 어디에요?\n",
            "AI점원 : 여기 는 저쪽 에 있 어요 \n",
            "\n",
            "\n",
            "고객 :  할인 코너는 어디에 있어요?\n",
            "AI점원 : 여기 는 저쪽 에 있 어요 \n",
            "\n",
            "\n",
            "고객 :  할인 코너는 따로 없어요?\n",
            "AI점원 : 할인 은 따로 없 어요 \n",
            "\n",
            "\n",
            "고객 :  할인 코너는 어느 쪽에 있나요?\n",
            "AI점원 : 지금 세일 기간 이 ㅂ니다 \n",
            "\n",
            "\n",
            "고객 :  영업은 매일 하시나요?\n",
            "AI점원 : 네 \n",
            "\n",
            "\n",
            "고객 :  내일도 영업해요?\n",
            "AI점원 : 네 \n",
            "\n",
            "\n",
            "고객 :  매일 영업하시는 건가요?\n",
            "AI점원 : 네 \n",
            "\n",
            "\n",
            "고객 :  내일도 영업하시죠?\n",
            "AI점원 : 네 \n",
            "\n",
            "\n",
            "고객 :  카드가로 얼마예요?\n",
            "AI점원 : 그 상품 이 라 삼십 삼만 오천 원 이 에요 \n",
            "\n",
            "\n",
            "고객 :  카드로 결제하면 얼만데요?\n",
            "AI점원 : 카드 로 결제 하 시 면 3 개월 무 이자 까지 하 아 드리 ㄹ게요 \n",
            "\n",
            "\n",
            "고객 :  카드로 하면 얼마예요?\n",
            "AI점원 : 그 제품 을 현금 으로 하 시 면 삼만 오천 원 까지 하 아 드리 어요 \n",
            "\n",
            "\n",
            "고객 :  이 티셔츠는 엉덩이까지 내려오나요?\n",
            "AI점원 : 네 , 여기 있 어요 \n",
            "\n",
            "\n",
            "고객 :  바지 길이가 좀 짧아 보이는데요?\n",
            "AI점원 : 네 , 이건 요즘 에 요 \n",
            "\n",
            "\n",
            "고객 :  이 원피스는 무릎까지 내려올까요?\n",
            "AI점원 : 네 \n",
            "\n",
            "\n",
            "고객 :  요새 입을 만한 옷으로 뭐가 좋을까요?\n",
            "AI점원 : 이 옷 이 고 이 색 으로 는 빨갛 ㄴ 옷 이 제품 이 색 둘 가 제일 잘나가 요 \n",
            "\n",
            "\n",
            "고객 :  원피스 중에 잘 나가는 걸로 몇 개 추천해주실래요?\n",
            "AI점원 : 네 이쪽 에서 보 시 면 되 ㅂ니다 \n",
            "\n",
            "\n",
            "고객 :  이거 국산이에요?\n",
            "AI점원 : 네 \n",
            "\n",
            "\n",
            "고객 :  중국에서 만든 거예요?\n",
            "AI점원 : 예 , 제품 이 에요 \n",
            "\n",
            "\n",
            "고객 :  이거보다 저렴한 거로 보여주세요\n",
            "AI점원 : 여기 있 습니다 \n",
            "\n",
            "\n",
            "고객 :  5만 원 이하로는 없어요?\n",
            "AI점원 : 아뇨 \n",
            "\n",
            "\n",
            "고객 :  20만 원 정도 하는 건 없나요?\n",
            "AI점원 : 여기 는 할인 하 고 비슷 하 아 드리 ㄹ게요 \n",
            "\n",
            "\n",
            "고객 :  이거보다 한 사이즈 더 큰 걸로 주세요\n",
            "AI점원 : 네 잠시 만 기다리 어 주 시 어요 \n",
            "\n",
            "\n",
            "고객 :  여기 말고 근처에 다른 옷 가게 또 있어요?\n",
            "AI점원 : 네 , 어떤 재킷 이 ㄴ지 가 찾 으시 시 어요 ? \n",
            "\n",
            "\n",
            "고객 :  근처에 신발 가게 있나요?\n",
            "AI점원 : 저쪽 에 있 습니다 \n",
            "\n",
            "\n",
            "고객 :  주변에 편의점 혹시 있나요?\n",
            "AI점원 : 왼쪽 뒤편 으로 가시 면 되 어 있 어요 \n",
            "\n",
            "\n",
            "고객 :  이거는 왜 할인하는 거예요?\n",
            "AI점원 : 그 청바지 는 할인 하 고 , 사만 이천원 에 요 \n",
            "\n",
            "\n",
            "고객 :  이월 상품이라 할인하는 건가요?\n",
            "AI점원 : 네 , 이월 상품 이 에요 \n",
            "\n",
            "\n",
            "고객 :  신상품인 거 같은데 왜 할인해요?\n",
            "AI점원 : 네 \n",
            "\n",
            "\n",
            "고객 :  이거는 왜 싸게 파시는 거예요?\n",
            "AI점원 : 네 \n",
            "\n",
            "\n",
            "고객 :  오픈한 지 얼마나 되셨어요?\n",
            "AI점원 : 네 \n",
            "\n",
            "\n",
            "고객 :  오픈한 지 오래되셨나요?\n",
            "AI점원 : 네 \n",
            "\n",
            "\n",
            "고객 :  영업은 몇 시부터 몇 시까지 하시나요?\n",
            "AI점원 : 아홉 시 까지 영업 하 아요 \n",
            "\n",
            "\n",
            "고객 :  이거는 어떻게 입는 건가요?\n",
            "AI점원 : 브라운 이 ㅂ니다 \n",
            "\n",
            "\n",
            "고객 :  주름 있는 쪽이 앞인가요?\n",
            "AI점원 : 이쪽 부터 저쪽 까지 둘러보 시 면 되 ㅂ니다 \n",
            "\n",
            "\n",
            "고객 :  지퍼가 뒤쪽으로 가게 입는 거 맞죠?\n",
            "AI점원 : 네 \n",
            "\n",
            "\n",
            "고객 :  티셔츠처럼 위쪽으로 입으면 되나요?\n",
            "AI점원 : 저 티셔츠 는 면 되 어요 \n",
            "\n",
            "\n",
            "고객 :  거울은 어디에 있어요?\n",
            "AI점원 : 왼쪽 라인 으로 가 면 되 시 어요 \n",
            "\n",
            "\n",
            "고객 :  거울에 좀 비춰보고 싶은데요\n",
            "AI점원 : 네 결제 돕 아 드리 겠 습니다 \n",
            "\n",
            "\n",
            "고객 :  거울 좀 비춰 주세요\n",
            "AI점원 : 네 결제 돕 아 드리 ㄹ게요 \n",
            "\n",
            "\n",
            "고객 :  키가 좀 큰 사람들은 어떻게 입나요?\n",
            "AI점원 : 청바지 입 으시 고 위 에 블라우스 들 은 편 이 잘 나가 요 \n",
            "\n",
            "\n",
            "고객 :  남학생들도 많이 입나요?\n",
            "AI점원 : 대학생 들 이 주로 칸 도 많이 찾 으시 시 어요 \n",
            "\n",
            "\n",
            "고객 :  여자들이 좋아하나요?\n",
            "AI점원 : 네 , 첫 물 이 많이 안 쪽 에 있 어요 \n",
            "\n",
            "\n",
            "고객 :  남자들이 좋아하나요?\n",
            "AI점원 : 보통 무늬 가 많 아요 \n",
            "\n",
            "\n",
            "고객 :  남자들이 많이 찾는 바지는 어떤거예요?\n",
            "AI점원 : 출퇴근 용 으로 는 이런 바지 가 제일 잘 나가 요 \n",
            "\n",
            "\n",
            "고객 :  현금 결제만 되나요?\n",
            "AI점원 : 네 가능 하 ㅂ니다 \n",
            "\n",
            "\n",
            "고객 :  계좌 이체도 가능한가요?\n",
            "AI점원 : 네 \n",
            "\n",
            "\n",
            "고객 :  아동복 매장 맞지요?\n",
            "AI점원 : 네 , 그럼요 . \n",
            "\n",
            "\n",
            "고객 :  땀 흡수 잘 되고 시원한 옷 있나요?\n",
            "AI점원 : 네 , 어떤 옷 을 찾 으시 시 어요 ? \n",
            "\n",
            "\n",
            "고객 :  손으로 직접 만드시는 거예요?\n",
            "AI점원 : 네 \n",
            "\n",
            "\n",
            "고객 :  여기에다 직접 수 놓으신 거예요?\n",
            "AI점원 : 네 맞 아요 \n",
            "\n",
            "\n",
            "고객 :  다 손으로 하신 거예요?\n",
            "AI점원 : 네 \n",
            "\n",
            "\n",
            "고객 :  수입품이죠?\n",
            "AI점원 : 네 , 그 제품 이 좋 아요 \n",
            "\n",
            "\n",
            "고객 :  이게 수입 제품 인가 봐요?\n",
            "AI점원 : 네 \n",
            "\n",
            "\n",
            "고객 :  수입품 맞아요?\n",
            "AI점원 : 네 , 그 굽이 에서 10000 는 굽이 에서 한 돈 이 라 골드 예 요 \n",
            "\n",
            "\n",
            "고객 :  수입품은 어디에 있어요?\n",
            "AI점원 : 오른쪽 진열대 가 있 습니다 \n",
            "\n",
            "\n",
            "고객 :  이 바지도 수입품인가요?\n",
            "AI점원 : 네 \n",
            "\n",
            "\n",
            "고객 :  이 원피스도 수입이에요?\n",
            "AI점원 : 네 \n",
            "\n",
            "\n",
            "고객 :  수입품으로 보여주세요\n",
            "AI점원 : 여기 는 악 세 서리 디자인 이 ㅂ니다 \n",
            "\n",
            "\n",
            "고객 :  얼마 못 입을 것 같은데요?\n",
            "AI점원 : 이 상품 은 25 만 원 이 에요 \n",
            "\n",
            "\n",
            "고객 :  잘 관리하면 오래 입을 수 있나요?\n",
            "AI점원 : 네 \n",
            "\n",
            "\n",
            "고객 :  유행이 지나면 못 입겠죠?\n",
            "AI점원 : 남자 셔츠 는 지금 없 어요 \n",
            "\n",
            "\n",
            "고객 :  몇 년 동안 입을 수도 있나요?\n",
            "AI점원 : 네 3 일 정도 이 ㅂ니다 \n",
            "\n",
            "\n",
            "고객 :  저기 진열된 거 판매하시는 거예요?\n",
            "AI점원 : 네 \n",
            "\n",
            "\n",
            "고객 :  밖에 진열돼있는 옷 보고 싶은데요\n",
            "AI점원 : 네 , 이쪽 으로 오 시 겠 어요 ? \n",
            "\n",
            "\n",
            "고객 :  사이즈가 66 맞아요?\n",
            "AI점원 : 네 \n",
            "\n",
            "\n",
            "고객 :  사이즈 55 맞나요?\n",
            "AI점원 : 네 \n",
            "\n",
            "\n",
            "고객 :  사이즈 77 이네요?\n",
            "AI점원 : 네 \n",
            "\n",
            "\n",
            "고객 :  사이즈 S 네요?\n",
            "AI점원 : 네 \n",
            "\n",
            "\n",
            "고객 :  이월 상품으로 보여주세요\n",
            "AI점원 : 네 이쪽 으로 오 시 어요 \n",
            "\n",
            "\n",
            "고객 :  이월 상품으로 볼 수 있을까요?\n",
            "AI점원 : 네 그럼요 \n",
            "\n",
            "\n",
            "고객 :  어깨가 너무 좁아 보이지 않는 옷으로 보여주세요\n",
            "AI점원 : 요즘 어머님 들 은 백반 지로 에 떨어지 많이 보 시 겠 어요 ? \n",
            "\n",
            "\n",
            "고객 :  다리가 날씬해 보이는 옷 좀 보여주실래요?\n",
            "AI점원 : 이 옷 이 좋 아요 \n",
            "\n",
            "\n",
            "고객 :  뚱뚱해 보이지 않는 옷 좀 보려고요\n",
            "AI점원 : 그 옷 이 두껍 ㄴ 이 ㄴ데 이 조금 더 작 지 않 아요 \n",
            "\n",
            "\n",
            "고객 :  입고 온 옷은 싸주실 수 있나요?\n",
            "AI점원 : 네 \n",
            "\n",
            "\n",
            "고객 :  입고 온 옷은 담아 주시겠어요?\n",
            "AI점원 : 네 \n",
            "\n",
            "\n",
            "고객 :  이거 입고 갈게요 제 옷은 담아주세요\n",
            "AI점원 : 네 \n",
            "\n",
            "\n",
            "고객 :  새 옷으로 입고 가게 제 옷은 넣어주세요\n",
            "AI점원 : 블라우스 는 어떻 게 되 시 어요 ? \n",
            "\n",
            "\n",
            "고객 :  화장실은 어디에 있을까요?\n",
            "AI점원 : 오른쪽 진열대 에 있 습니다 \n",
            "\n",
            "\n",
            "고객 :  화장실은 어느 쪽에 있어요?\n",
            "AI점원 : 맨투맨 은 이쪽 이 ㅂ니다 \n",
            "\n",
            "\n",
            "고객 :  화장실 밖에 있나요?\n",
            "AI점원 : 네 그럼요 \n",
            "\n",
            "\n",
            "고객 :  여기 화장실은 없나요?\n",
            "AI점원 : 그럼 남자 분 것 로 1 주일 은 이쪽 에 있 어요 \n",
            "\n",
            "\n",
            "고객 :  환불할 때 영수증 있어야 하죠?\n",
            "AI점원 : 네 영수증 이랑 단 품 에 있 어요 \n",
            "\n",
            "\n",
            "고객 :  반품할 때 영수증 있어야 가능하죠?\n",
            "AI점원 : 네 가능 하 ㅂ니다 \n",
            "\n",
            "\n",
            "고객 :  영수증 있어야 교환이나 반품되죠?\n",
            "AI점원 : 교환 은 일주일 이내 에 오 시 면 하 고 오 시 어요 \n",
            "\n",
            "\n",
            "고객 :  티셔츠만 1+1이에요?\n",
            "AI점원 : 네 , 여기 는 것 도 있 어요 . \n",
            "\n",
            "\n"
          ],
          "name": "stdout"
        }
      ]
    },
    {
      "cell_type": "code",
      "metadata": {
        "id": "zAs_p0bLhlPy"
      },
      "source": [
        ""
      ],
      "execution_count": null,
      "outputs": []
    }
  ]
}