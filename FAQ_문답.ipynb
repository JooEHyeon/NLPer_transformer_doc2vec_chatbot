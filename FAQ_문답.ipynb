{
  "nbformat": 4,
  "nbformat_minor": 0,
  "metadata": {
    "colab": {
      "name": "FAQ_doc2vec.ipynb의 사본",
      "provenance": [],
      "include_colab_link": true
    },
    "kernelspec": {
      "name": "python3",
      "display_name": "Python 3"
    }
  },
  "cells": [
    {
      "cell_type": "markdown",
      "metadata": {
        "id": "view-in-github",
        "colab_type": "text"
      },
      "source": [
        "<a href=\"https://colab.research.google.com/github/ideablast/NLPer_chatbot/blob/hj/FAQ_%EB%AC%B8%EB%8B%B5.ipynb\" target=\"_parent\"><img src=\"https://colab.research.google.com/assets/colab-badge.svg\" alt=\"Open In Colab\"/></a>"
      ]
    },
    {
      "cell_type": "code",
      "metadata": {
        "id": "-O1fYRykHnRo"
      },
      "source": [
        "!pip install konlpy"
      ],
      "execution_count": null,
      "outputs": []
    },
    {
      "cell_type": "code",
      "metadata": {
        "id": "mH4ACbbGIs0q",
        "outputId": "459bb88b-59df-42f9-d30f-77d255610591",
        "colab": {
          "base_uri": "https://localhost:8080/"
        }
      },
      "source": [
        "from google.colab import drive\n",
        "drive.mount('/content/drive')"
      ],
      "execution_count": 2,
      "outputs": [
        {
          "output_type": "stream",
          "text": [
            "Mounted at /content/drive\n"
          ],
          "name": "stdout"
        }
      ]
    },
    {
      "cell_type": "code",
      "metadata": {
        "id": "_DuUfmLFH1as"
      },
      "source": [
        "import os\n",
        "from gensim.models import doc2vec\n",
        "from gensim.models.doc2vec import TaggedDocument\n",
        "import pandas as pd"
      ],
      "execution_count": 3,
      "outputs": []
    },
    {
      "cell_type": "code",
      "metadata": {
        "id": "I-QHfwh6IQUu"
      },
      "source": [
        "wear_data = pd.read_csv(\"/content/drive/My Drive/clothing.csv\")\n",
        "customer = wear_data[wear_data.SPEAKER == \"고객\"].SENTENCE\n",
        "store = wear_data[wear_data.SPEAKER == \"점원\"].SENTENCE\n"
      ],
      "execution_count": 10,
      "outputs": []
    },
    {
      "cell_type": "code",
      "metadata": {
        "id": "vCvr_2NJIf-9"
      },
      "source": [
        "prev = \"고객\"\n",
        "store_arr = []\n",
        "customer_arr = []\n",
        "store_stc = \"\"\n",
        "customer_stc = \"\"\n",
        "\n",
        "for i in range(wear_data.shape[0]):\n",
        "    if (prev == wear_data.iloc[i].SPEAKER):\n",
        "        if prev == \"점원\":\n",
        "             store_stc += (\" \"+wear_data.iloc[i].SENTENCE)\n",
        "        else : \n",
        "            customer_stc += (\" \"+wear_data.iloc[i].SENTENCE)\n",
        "            \n",
        "    elif prev == \"점원\":\n",
        "        store_arr.append(store_stc)\n",
        "        customer_stc = wear_data.iloc[i].SENTENCE\n",
        "        prev = \"고객\"\n",
        "    else :\n",
        "        customer_arr.append(customer_stc)\n",
        "        store_stc = wear_data.iloc[i].SENTENCE\n",
        "        prev = \"점원\"\n",
        "\n",
        "faqs = []\n",
        "\n",
        "for i in range(len(store_arr)):\n",
        "    faqs_tmp =[]\n",
        "    faqs_tmp.append(str(i+1))\n",
        "    faqs_tmp.append(customer_arr[i])\n",
        "    faqs_tmp.append(store_arr[i])\n",
        "\n",
        "    faqs.append(faqs_tmp)\n",
        "\n",
        "# print(store_arr[-1])\n",
        "# print(customer_arr[-1]) # 자료 상에서 이후에는 계속 고객의 물음만 계속된다. 코드 레벨에서 이 부분은 빼게 구현했다. (stc는 만들어지지만 arr에 append 안하게 된다.)"
      ],
      "execution_count": 13,
      "outputs": []
    },
    {
      "cell_type": "code",
      "metadata": {
        "id": "zrIvxZYgKmWs"
      },
      "source": [
        "import jpype\n",
        "from konlpy.tag import Kkma"
      ],
      "execution_count": 14,
      "outputs": []
    },
    {
      "cell_type": "code",
      "metadata": {
        "id": "RL0BhKO6LYQp"
      },
      "source": [
        "kkma = Kkma()\n",
        "filter_kkma = ['NNG', 'NNP','OL','VA','VV','VXV']\n",
        "\n",
        "def tokenizer_kkma(doc):\n",
        "    # 꼬꼬마 형태소 분석기가 자바 기반이어서 파이썬에서 자바함수들을 실행할 수 있는 명령어 (jpype) 를 써줘야한다.\n",
        "    jpype.attachThreadToJVM()       \n",
        "    token_doc = [\"/\".join(word) for word in kkma.pos(doc)]\n",
        "    return token_doc\n",
        "\n",
        "def tokenize_kkma_noun_verb(doc):\n",
        "    jpype.attachThreadToJVM()\n",
        "    token_doc = [\"/\".join(word) for word in kkma.pos(doc) if word[1] in filter_kkma]\n",
        "    return token_doc"
      ],
      "execution_count": 38,
      "outputs": []
    },
    {
      "cell_type": "code",
      "metadata": {
        "id": "d-Qxs1QXNofu"
      },
      "source": [
        "token_faqs = [(tokenizer_kkma(row[1]), row[0]) for row in faqs]\n",
        "tagged_faqs = [TaggedDocument(d,[c]) for d,c in token_faqs]"
      ],
      "execution_count": 16,
      "outputs": []
    },
    {
      "cell_type": "code",
      "metadata": {
        "id": "JBzBbReERVOn",
        "outputId": "3e3dc50d-4f7b-470a-c186-262c90a82985",
        "colab": {
          "base_uri": "https://localhost:8080/"
        }
      },
      "source": [
        "# 모델 만들기\n",
        "# cpu 몇 개 쓸 건지\n",
        "import multiprocessing\n",
        "# 내 컴에 있는 cpu 갯수 cores 에 저장\n",
        "cores = multiprocessing.cpu_count()\n",
        "# vector_size : 임베딩할 벡터 차원\n",
        "# negaive : negative sampling\n",
        "d2v_faqs = doc2vec.Doc2Vec(\n",
        "    vector_size = 100,\n",
        "    alpha = 0.025,\n",
        "    min_alpha = 0.025,\n",
        "    hs = 1,\n",
        "    negative = 0,\n",
        "    dm = 0,\n",
        "    dbow_words = 1,\n",
        "    min_count = 1,\n",
        "    workers = cores,\n",
        "    seed = 0\n",
        ")\n",
        "\n",
        "# 단어 사전 만들기\n",
        "d2v_faqs.build_vocab(tagged_faqs)\n",
        "for epoch in range(4):\n",
        "  # 모델 학습\n",
        "  print(epoch)\n",
        "  d2v_faqs.train(tagged_faqs,\n",
        "                 total_examples = d2v_faqs.corpus_count,\n",
        "                 epochs = d2v_faqs.epochs)\n",
        "  d2v_faqs.alpha -=0.0025\n",
        "  d2v_faqs.min_alpha = d2v_faqs.min_alpha"
      ],
      "execution_count": 17,
      "outputs": [
        {
          "output_type": "stream",
          "text": [
            "0\n",
            "1\n",
            "2\n",
            "3\n"
          ],
          "name": "stdout"
        }
      ]
    },
    {
      "cell_type": "code",
      "metadata": {
        "id": "ldCnKDGJjAmT",
        "outputId": "864ccb2c-c5ca-4217-a333-d61442a828d9",
        "colab": {
          "base_uri": "https://localhost:8080/"
        }
      },
      "source": [
        "input_question = input()\n",
        "token_test = tokenizer_kkma(input_question)\n",
        "predict_vector = d2v_faqs.infer_vector(token_test)\n",
        "result = d2v_faqs.docvecs.most_similar([predict_vector],topn=5)\n",
        "for i in range(5):\n",
        "            print(\"{}위. {}, {}, {}\".format(i+1, result[i][1], result[i][0], faqs[int(result[i][0])-1][2]))"
      ],
      "execution_count": 27,
      "outputs": [
        {
          "output_type": "stream",
          "text": [
            "내구성 좋은 가방은 요즘 어떤게 잘나가요?\n",
            "1위. 0.7844632863998413, 1290, 조금 달랑달랑 하는 게 잘 나가요 \n",
            "2위. 0.7626214027404785, 2865, 개인 취향이기 때문에 그거는 정해진 게 없어요 \n",
            "3위. 0.755354106426239, 268, 다양하게 잘 나가요\n",
            "4위. 0.7467412948608398, 1300, 알레르기 있으세요?\n",
            "5위. 0.7464330196380615, 3096, 이런 쪽으로 이것과 크로스 연결된 거 많이 찾으세요\n"
          ],
          "name": "stdout"
        },
        {
          "output_type": "stream",
          "text": [
            "/usr/local/lib/python3.6/dist-packages/gensim/matutils.py:737: FutureWarning: Conversion of the second argument of issubdtype from `int` to `np.signedinteger` is deprecated. In future, it will be treated as `np.int64 == np.dtype(int).type`.\n",
            "  if np.issubdtype(vec.dtype, np.int):\n"
          ],
          "name": "stderr"
        }
      ]
    },
    {
      "cell_type": "code",
      "metadata": {
        "id": "crG6XsYC6P9O",
        "outputId": "8e1b67fa-3447-48aa-b25c-b6bb13f0d349",
        "colab": {
          "base_uri": "https://localhost:8080/"
        }
      },
      "source": [
        "question_list_bag = ['근무하신지 얼마나 되셨어요?','이가게 월세가 얼마에요?','내일 저랑 데이트 하실래요?','여기 화장실이 어디에요?','이 가방 최대 몇 리터까지 들어갈까요?','이거 끈은 분리하고 세탁기에 돌려야 하나요?','이거 방수 되는 거죠?','우리 애가 이번에 초등학교 들어가는데 가방 추천좀 해주세요.','내구성 좋은 가방은 요즘 어떤게 잘나가요?']\n",
        "question_list_dress = ['이 라이더 자켓 어제 샀는데 영수증 없어도 환불 되나요?','가볍고 따뜻한 패딩조끼 있나요?,물 잘 안빠지는 청바지 있나요?','이 스웨터 여기 살짝 올이 나갔는데 할인 안해주시나요?','가게 앞 마네킹에 피팅된 바지 다른 색깔 있나요?,수선 맡기고 옷 택배로 받아 볼 수 있나요?','지역상품권 결제 가능한가요?','카운터에 있는 점원이 입고 있는 옷 맘에 드는데 어떤 제품인가요?','소개팅에 입고 나갈만한 옷 추천 가능한가요?','이 가게 단골이고 사장님이랑 잘 아는데 현금 결제하면 할인 없나요?']\n",
        "question_list_acs= ['침은 모두 알러지 방지 침인가요?','로즈골드 색상도 있나요?','귀걸이는 어떻게 관리해야 하나요?','요즘 잘나가는 제품은 뭔가요?,이 목걸이랑 세트인 귀걸이도 있나요?']\n",
        "question_list_shoes= ['신어보고 구매 가능할까요?','겨울에 신기는 너무 춥죠?','밖에 날씨가 너무 춥네요','신발이 너무 가벼운거같아요 좀 무게감있는건 없나요?','다른브랜드에서는 비슷한게있나요?']\n",
        "\n",
        "for input_question in question_list_bag:\n",
        "   token_test = tokenizer_kkma(input_question)\n",
        "   predict_vector = d2v_faqs.infer_vector(token_test)\n",
        "   result = d2v_faqs.docvecs.most_similar([predict_vector],topn=5)\n",
        "   print(input_question)\n",
        "   for i in range(5):\n",
        "     print(\"{}위. {}, {}, {}\".format(i+1, result[i][1], result[i][0], faqs[int(result[i][0])-1][2]))\n",
        "     print(\"\")\n",
        "\n"
      ],
      "execution_count": 41,
      "outputs": [
        {
          "output_type": "stream",
          "text": [
            "근무하신지 얼마나 되셨어요?\n",
            "1위. 0.6097705960273743, 4598, 현재 20프로 할인하고 있습니다\n",
            "\n",
            "2위. 0.5646914839744568, 6392, 1400원이에요\n",
            "\n",
            "3위. 0.5622261762619019, 6853, 그 옷이 십칠만 사백 원이에요\n",
            "\n",
            "4위. 0.5244528651237488, 3938, 이쪽에서 결제 도와드릴게요\n",
            "\n",
            "5위. 0.4977331757545471, 3473, 선물포장으로 해드릴까요?\n",
            "\n",
            "이가게 월세가 얼마에요?\n",
            "1위. 0.585567831993103, 4944, 20% 할인해서 189400원입니다\n",
            "\n",
            "2위. 0.5665419101715088, 5348, 네 가능합니다\n",
            "\n",
            "3위. 0.5664279460906982, 4773, 35만원입니다\n",
            "\n",
            "4위. 0.5294262170791626, 4373, 그럼요\n",
            "\n",
            "5위. 0.5069411993026733, 3679, 삼성페이는 결제가 안되세요\n",
            "\n",
            "내일 저랑 데이트 하실래요?\n",
            "1위. 0.6055468916893005, 3183, 네, 같이 준비 해 두겠습니다.\n",
            "\n",
            "2위. 0.5809895992279053, 3324, 물론입니다 내일 편하신 시간에 오시면 준비해놓겠습니다\n",
            "\n",
            "3위. 0.5439537763595581, 3965, 네 저지는 카운터 오른쪽편에 있습니다\n",
            "\n",
            "4위. 0.5350192785263062, 4385, 네 여기있습니다\n",
            "\n",
            "5위. 0.5337527990341187, 1522, 사이즈 몇 신으세요?\n",
            "\n",
            "여기 화장실이 어디에요?\n",
            "1위. 0.7114323973655701, 1952, 45는 이쪽에 있어요\n",
            "\n",
            "2위. 0.6570717096328735, 1001, 여기 밖에 있어요\n",
            "\n",
            "3위. 0.5846936702728271, 293, 여기하고 바깥쪽에 있어요\n",
            "\n",
            "4위. 0.5687581300735474, 5318, 저쪽 청바지 코너 옆에 있습니다\n",
            "\n",
            "5위. 0.5587208271026611, 4639, 네\n",
            "\n",
            "이 가방 최대 몇 리터까지 들어갈까요?\n",
            "1위. 0.6282836198806763, 5577, 원하시는 만큼 가능합니다\n",
            "\n",
            "2위. 0.5721290111541748, 5252, 77사이즈까지 나옵니다\n",
            "\n",
            "3위. 0.5682280659675598, 3198, 7일에서 10일이면 연락드릴거에요\n",
            "\n",
            "4위. 0.5498993396759033, 6865, 저희 아홉시까지예요\n",
            "\n",
            "5위. 0.5479745268821716, 4857, 이 가방은 15인치 노트북까지 수납 가능합니다\n",
            "\n",
            "이거 끈은 분리하고 세탁기에 돌려야 하나요?\n",
            "1위. 0.5575487613677979, 675, 네 폴리 100%라 상관 없어요\n",
            "\n",
            "2위. 0.5556139349937439, 4547, 네\n",
            "\n",
            "3위. 0.5521867275238037, 6867, 등산복은 물세탁 하시면 돼요\n",
            "\n",
            "4위. 0.5354495644569397, 7160, 네\n",
            "\n",
            "5위. 0.5330848693847656, 7157, 네\n",
            "\n",
            "이거 방수 되는 거죠?\n",
            "1위. 0.5380845069885254, 5549, 네 겨울용 사계절용 있습니다\n",
            "\n",
            "2위. 0.5011100769042969, 408, 네 맞습니다\n",
            "\n",
            "3위. 0.4849046468734741, 3390, 네 진짜입니다\n",
            "\n",
            "4위. 0.46181607246398926, 5588, 네 그럼요\n",
            "\n",
            "5위. 0.4542136788368225, 3358, 네 새제품으로 꺼내 드릴게요\n",
            "\n",
            "우리 애가 이번에 초등학교 들어가는데 가방 추천좀 해주세요.\n",
            "1위. 0.6242796182632446, 4479, 아이 성별이 어떻게 돼요\n",
            "\n",
            "2위. 0.4942323863506317, 4362, 네 더 필요하신 건 없으세요?\n",
            "\n",
            "3위. 0.48080796003341675, 3580, 이 제품이 요즘 잘 나가요\n",
            "\n",
            "4위. 0.47662195563316345, 4360, 15000원입니다\n",
            "\n",
            "5위. 0.4753028452396393, 6300, 사이즈가 얼마에요?\n",
            "\n",
            "내구성 좋은 가방은 요즘 어떤게 잘나가요?\n",
            "1위. 0.7245970964431763, 1290, 조금 달랑달랑 하는 게 잘 나가요 \n",
            "\n",
            "2위. 0.7029327154159546, 2865, 개인 취향이기 때문에 그거는 정해진 게 없어요 \n",
            "\n",
            "3위. 0.6965255737304688, 268, 다양하게 잘 나가요\n",
            "\n",
            "4위. 0.6829897165298462, 4279, 검정색 미니 토드백이무난하니 제일 잘나가요\n",
            "\n",
            "5위. 0.6828212738037109, 1300, 알레르기 있으세요?\n",
            "\n"
          ],
          "name": "stdout"
        },
        {
          "output_type": "stream",
          "text": [
            "/usr/local/lib/python3.6/dist-packages/gensim/matutils.py:737: FutureWarning: Conversion of the second argument of issubdtype from `int` to `np.signedinteger` is deprecated. In future, it will be treated as `np.int64 == np.dtype(int).type`.\n",
            "  if np.issubdtype(vec.dtype, np.int):\n"
          ],
          "name": "stderr"
        }
      ]
    },
    {
      "cell_type": "code",
      "metadata": {
        "id": "VtMtBDf7Fgln",
        "outputId": "b566365e-b760-4c51-a9ce-c70d1ce77c14",
        "colab": {
          "base_uri": "https://localhost:8080/"
        }
      },
      "source": [
        "for input_question in question_list_dress:\n",
        "   token_test = tokenizer_kkma(input_question)\n",
        "   predict_vector = d2v_faqs.infer_vector(token_test)\n",
        "   result = d2v_faqs.docvecs.most_similar([predict_vector],topn=5)\n",
        "   print(input_question)\n",
        "   for i in range(5):\n",
        "     print(\"{}위. {}, {}, {}\".format(i+1, result[i][1], result[i][0], faqs[int(result[i][0])-1][2]))\n",
        "     print(\"\")"
      ],
      "execution_count": 42,
      "outputs": [
        {
          "output_type": "stream",
          "text": [
            "/usr/local/lib/python3.6/dist-packages/gensim/matutils.py:737: FutureWarning: Conversion of the second argument of issubdtype from `int` to `np.signedinteger` is deprecated. In future, it will be treated as `np.int64 == np.dtype(int).type`.\n",
            "  if np.issubdtype(vec.dtype, np.int):\n"
          ],
          "name": "stderr"
        },
        {
          "output_type": "stream",
          "text": [
            "이 라이더 자켓 어제 샀는데 영수증 없어도 환불 되나요?\n",
            "1위. 0.5431357622146606, 5295, 구입하신 블라우스 좀 보여주시겠어요?\n",
            "\n",
            "2위. 0.5288113951683044, 6723, 네\n",
            "\n",
            "3위. 0.5242164134979248, 4565, 죄송하지만 이 제품은 환불은 불가능하고 교환은 가능하십니다 고객님\n",
            "\n",
            "4위. 0.5196164846420288, 3749, 네 그럼요\n",
            "\n",
            "5위. 0.4963870346546173, 749, 네 가능합니다\n",
            "\n",
            "가볍고 따뜻한 패딩조끼 있나요?,물 잘 안빠지는 청바지 있나요?\n",
            "1위. 0.44456756114959717, 380, 가격대는 다양해요\n",
            "\n",
            "2위. 0.4361600875854492, 7014, 패딩 조끼 사이즈는 110까지 있어요\n",
            "\n",
            "3위. 0.43015050888061523, 615, 안에 기모가 살짝 들어 있어요\n",
            "\n",
            "4위. 0.4241315424442291, 175, 내일 들어와요\n",
            "\n",
            "5위. 0.42337968945503235, 6856, 저렴한 옷은 이런 제품 괜찮아요\n",
            "\n",
            "이 스웨터 여기 살짝 올이 나갔는데 할인 안해주시나요?\n",
            "1위. 0.5781936645507812, 5753, 네 바로 바꿔드릴게요\n",
            "\n",
            "2위. 0.4338272213935852, 3789, 현금결제로 하시면 10프로 할인해드립니다.\n",
            "\n",
            "3위. 0.4257911443710327, 5072, 저희 앞 쪽에 걸려있는 상품이 현재 가장 인기 있는 제품이에요\n",
            "\n",
            "4위. 0.4200326204299927, 3631, 이 부분만 교체해드리면 되나요?\n",
            "\n",
            "5위. 0.4198552072048187, 5098, 네 알겠습니다\n",
            "\n",
            "가게 앞 마네킹에 피팅된 바지 다른 색깔 있나요?,수선 맡기고 옷 택배로 받아 볼 수 있나요?\n",
            "1위. 0.4900781810283661, 3801, 지금 전국품절이라 2주 이상 대기하셔야합니다.\n",
            "\n",
            "2위. 0.468337744474411, 4548, 일주일 후에 가능합니다\n",
            "\n",
            "3위. 0.43664926290512085, 1554, 저희 센터가 있기 때문에 가능하세요\n",
            "\n",
            "4위. 0.4224213659763336, 2564, 오래되진 않았고 17년에 시작했어요\n",
            "\n",
            "5위. 0.4181000590324402, 3943, 네 몇개월로 해드릴까요?\n",
            "\n",
            "지역상품권 결제 가능한가요?\n",
            "1위. 0.8555927276611328, 4311, 네, 그럼요.\n",
            "\n",
            "2위. 0.785840630531311, 5771, 네 가능합니다\n",
            "\n",
            "3위. 0.7834374904632568, 6566, 예\n",
            "\n",
            "4위. 0.7785932421684265, 4455, 네 가능합니다\n",
            "\n",
            "5위. 0.7768113613128662, 5418, 네 가능합니다\n",
            "\n",
            "카운터에 있는 점원이 입고 있는 옷 맘에 드는데 어떤 제품인가요?\n",
            "1위. 0.5537364482879639, 5632, 네 피팅룸은 이쪽입니다\n",
            "\n",
            "2위. 0.5523680448532104, 4565, 죄송하지만 이 제품은 환불은 불가능하고 교환은 가능하십니다 고객님\n",
            "\n",
            "3위. 0.5421031713485718, 5048, 이쪽 거울 앞에서 입어보세요 \n",
            "\n",
            "4위. 0.5249876379966736, 3372, 색상은 은색과 금색 두 종류 뿐입니다\n",
            "\n",
            "5위. 0.5188565850257874, 5121, 슬림핏은 현재 한가지 종류인데 보여드리겠습니다\n",
            "\n",
            "소개팅에 입고 나갈만한 옷 추천 가능한가요?\n",
            "1위. 0.6125073432922363, 796, 언제든 갖고 오세요 제가 다 해드립니다\n",
            "\n",
            "2위. 0.5884444713592529, 5771, 네 가능합니다\n",
            "\n",
            "3위. 0.5641719102859497, 4455, 네 가능합니다\n",
            "\n",
            "4위. 0.549146831035614, 6527, 네 기모라 가능한데, 굳이 드라이 할 필욘 없고 건조기 돌리지 마시고 손빨래면 돼요\n",
            "\n",
            "5위. 0.545545220375061, 4428, 이제품은 할인중이라 쿠폰사용은 불가능하세요\n",
            "\n",
            "이 가게 단골이고 사장님이랑 잘 아는데 현금 결제하면 할인 없나요?\n",
            "1위. 0.560854434967041, 6538, 이미 할인가라서, 현금결제할인 되지 않아요\n",
            "\n",
            "2위. 0.5216036438941956, 3537, 현금 결제시 20%세일 외에 10% 추가로 할인해 드립니다\n",
            "\n",
            "3위. 0.4962425231933594, 1994, 그럼 카드주세요\n",
            "\n",
            "4위. 0.4929982125759125, 5573, 현금 결제하시면 DC 해 드리고 있습니다\n",
            "\n",
            "5위. 0.4862784147262573, 6912, 이 제품 현금할인으로 이천원 세일해드릴 수 있어요\n",
            "\n"
          ],
          "name": "stdout"
        }
      ]
    },
    {
      "cell_type": "code",
      "metadata": {
        "id": "LirEpRhRFkHo",
        "outputId": "f7e387f7-7741-448a-bc94-6f2c9ce10ea9",
        "colab": {
          "base_uri": "https://localhost:8080/"
        }
      },
      "source": [
        "for input_question in question_list_acs:\n",
        "   token_test = tokenizer_kkma(input_question)\n",
        "   predict_vector = d2v_faqs.infer_vector(token_test)\n",
        "   result = d2v_faqs.docvecs.most_similar([predict_vector],topn=5)\n",
        "   print(input_question)\n",
        "   for i in range(5):\n",
        "     print(\"{}위. {}, {}, {}\".format(i+1, result[i][1], result[i][0], faqs[int(result[i][0])-1][2]))\n",
        "     print(\"\")"
      ],
      "execution_count": 43,
      "outputs": [
        {
          "output_type": "stream",
          "text": [
            "침은 모두 알러지 방지 침인가요?\n",
            "1위. 0.7525830864906311, 3292, 네\n",
            "\n",
            "2위. 0.746813178062439, 3202, 만원짜리들은 다 알러지 방지에요\n",
            "\n",
            "3위. 0.737785816192627, 3234, 네, 있습니다. \n",
            "\n",
            "4위. 0.6926695108413696, 3398, 네 이 제품입니다\n",
            "\n",
            "5위. 0.6262699961662292, 60, 액세서리예요 금 아니예요\n",
            "\n",
            "로즈골드 색상도 있나요?\n",
            "1위. 0.7377068996429443, 1258, 네\n",
            "\n",
            "2위. 0.6879805326461792, 3269, 네 포장해드릴게요 잠시만 기다려주세요 \n",
            "\n",
            "3위. 0.6684713959693909, 1379, 바는 없어요. 한 돈에 23만 8천 원 예상하시면 됩니다\n",
            "\n",
            "4위. 0.5889818668365479, 3534, 네 이쪽에 있습니다\n",
            "\n",
            "5위. 0.5509798526763916, 1217, 네\n",
            "\n",
            "귀걸이는 어떻게 관리해야 하나요?\n",
            "1위. 0.6887160539627075, 444, 세탁소에 세탁 맡기는 게 제일 좋아요\n",
            "\n",
            "2위. 0.6884642839431763, 4867, 부드러운 천으로 닦아주세요\n",
            "\n",
            "3위. 0.6535139083862305, 4472, 물세탁 간단하게 해주시면 됩니다\n",
            "\n",
            "4위. 0.5767284631729126, 4547, 네\n",
            "\n",
            "5위. 0.5725282430648804, 1228, 별도로 비닐에 담아서 깔끔한 상태로 보관해주는 게 좋아요\n",
            "\n",
            "요즘 잘나가는 제품은 뭔가요?,이 목걸이랑 세트인 귀걸이도 있나요?\n",
            "1위. 0.5848991870880127, 3228, 네 고객님  그 귀걸이는 단품만 구매 가능합니다.\n",
            "\n",
            "2위. 0.5728444457054138, 3661, 백금이에요\n",
            "\n",
            "3위. 0.5627347230911255, 1290, 조금 달랑달랑 하는 게 잘 나가요 \n",
            "\n",
            "4위. 0.4981006681919098, 3525, 은 제품은 아니에요\n",
            "\n",
            "5위. 0.4921590983867645, 142, 앞에만 은인 거도 있고 침까지 은인 거도 있어요\n",
            "\n"
          ],
          "name": "stdout"
        },
        {
          "output_type": "stream",
          "text": [
            "/usr/local/lib/python3.6/dist-packages/gensim/matutils.py:737: FutureWarning: Conversion of the second argument of issubdtype from `int` to `np.signedinteger` is deprecated. In future, it will be treated as `np.int64 == np.dtype(int).type`.\n",
            "  if np.issubdtype(vec.dtype, np.int):\n"
          ],
          "name": "stderr"
        }
      ]
    },
    {
      "cell_type": "code",
      "metadata": {
        "id": "BOG1jVE4Fnso",
        "outputId": "00739023-a996-4e02-e2e4-8a216d3aa5c3",
        "colab": {
          "base_uri": "https://localhost:8080/"
        }
      },
      "source": [
        "for input_question in question_list_shoes:\n",
        "   token_test = tokenizer_kkma(input_question)\n",
        "   predict_vector = d2v_faqs.infer_vector(token_test)\n",
        "   result = d2v_faqs.docvecs.most_similar([predict_vector],topn=5)\n",
        "   print(input_question)\n",
        "   for i in range(5):\n",
        "     print(\"{}위. {}, {}, {}\".format(i+1, result[i][1], result[i][0], faqs[int(result[i][0])-1][2]))\n",
        "     print(\"\")"
      ],
      "execution_count": 44,
      "outputs": [
        {
          "output_type": "stream",
          "text": [
            "신어보고 구매 가능할까요?\n",
            "1위. 0.5756327509880066, 4836, 네 영수증 지참하시면 가능합니다\n",
            "\n",
            "2위. 0.5537137985229492, 5145, 아니요 품절이에요\n",
            "\n",
            "3위. 0.5292538404464722, 3184, 네, 가능합니다.\n",
            "\n",
            "4위. 0.5291168689727783, 5241, 네 가능하세요\n",
            "\n",
            "5위. 0.5227987766265869, 3617, 네 가능한데 사이즈가 어떻게 되세요?\n",
            "\n",
            "겨울에 신기는 너무 춥죠?\n",
            "1위. 0.5846367478370667, 695, 네 그렇긴해요\n",
            "\n",
            "2위. 0.4799661338329315, 1938, 천이 좀 두껍게 나온건데 그것도 봄 신발이예요\n",
            "\n",
            "3위. 0.45976895093917847, 578, 인디언 핑크와 조끼 한 번 입어보세요\n",
            "\n",
            "4위. 0.4581145942211151, 587, 원피스예요\n",
            "\n",
            "5위. 0.45733484625816345, 6371, 그거는 원래 9만 9천원인데 세일해서 6만원이에요\n",
            "\n",
            "밖에 날씨가 너무 춥네요\n",
            "1위. 0.4933239817619324, 7168, 그 제품이 펄이라서 그래요\n",
            "\n",
            "2위. 0.45893675088882446, 3419, 다음에 또 들려주세요\n",
            "\n",
            "3위. 0.45887666940689087, 6784, 네, 저런 제품도 괜찮고 이 제품도 얇게 봄신상으로 나왔어요\n",
            "\n",
            "4위. 0.4425618052482605, 2570, 네\n",
            "\n",
            "5위. 0.43961089849472046, 3876, 그럼 이 디자인 어떠세요?\n",
            "\n",
            "신발이 너무 가벼운거같아요 좀 무게감있는건 없나요?\n",
            "1위. 0.5984174609184265, 4381, 그럼 이 가방은 어떠세요?\n",
            "\n",
            "2위. 0.5915377140045166, 2595, 저거보다 작은 걸로요?\n",
            "\n",
            "3위. 0.5821505784988403, 4871, 어깨끈을 조절 해보세요\n",
            "\n",
            "4위. 0.5692281723022461, 3886, 그럼 9센티힐 추천해 드릴게요\n",
            "\n",
            "5위. 0.5543965697288513, 1669, 이거 신어보세요 이게 제일 낮은 거예요\n",
            "\n",
            "다른브랜드에서는 비슷한게있나요?\n",
            "1위. 0.5467038154602051, 4521, 이 제품이 제일 잘 나가고 있어요\n",
            "\n",
            "2위. 0.5173684358596802, 3275, 이 디자인이랑 비슷해 보입니다\n",
            "\n",
            "3위. 0.49979904294013977, 6656, 이젠 비슷한 제품도 없어요\n",
            "\n",
            "4위. 0.4965090751647949, 4597, 옆의 가방은 할인행사중입니다\n",
            "\n",
            "5위. 0.4920691251754761, 2637, 아까 한 개 팔았어요\n",
            "\n"
          ],
          "name": "stdout"
        },
        {
          "output_type": "stream",
          "text": [
            "/usr/local/lib/python3.6/dist-packages/gensim/matutils.py:737: FutureWarning: Conversion of the second argument of issubdtype from `int` to `np.signedinteger` is deprecated. In future, it will be treated as `np.int64 == np.dtype(int).type`.\n",
            "  if np.issubdtype(vec.dtype, np.int):\n"
          ],
          "name": "stderr"
        }
      ]
    }
  ]
}