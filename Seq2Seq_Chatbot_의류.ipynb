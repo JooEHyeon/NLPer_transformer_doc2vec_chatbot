{
  "nbformat": 4,
  "nbformat_minor": 0,
  "metadata": {
    "kernelspec": {
      "display_name": "Python 3",
      "language": "python",
      "name": "python3"
    },
    "language_info": {
      "codemirror_mode": {
        "name": "ipython",
        "version": 3
      },
      "file_extension": ".py",
      "mimetype": "text/x-python",
      "name": "python",
      "nbconvert_exporter": "python",
      "pygments_lexer": "ipython3",
      "version": "3.6.5"
    },
    "colab": {
      "name": "Seq2Seq_Chatbot_의류.ipynb",
      "provenance": [],
      "collapsed_sections": [],
      "machine_shape": "hm",
      "include_colab_link": true
    },
    "accelerator": "GPU"
  },
  "cells": [
    {
      "cell_type": "markdown",
      "metadata": {
        "id": "view-in-github",
        "colab_type": "text"
      },
      "source": [
        "<a href=\"https://colab.research.google.com/github/ideablast/NLPer_chatbot/blob/kdg/Seq2Seq_Chatbot_%EC%9D%98%EB%A5%98.ipynb\" target=\"_parent\"><img src=\"https://colab.research.google.com/assets/colab-badge.svg\" alt=\"Open In Colab\"/></a>"
      ]
    },
    {
      "cell_type": "code",
      "metadata": {
        "id": "Une6bYuSo1oW",
        "outputId": "c430e8e6-3bc4-436e-dbe6-da84d3d42a41",
        "colab": {
          "base_uri": "https://localhost:8080/"
        }
      },
      "source": [
        "!pip install konlpy"
      ],
      "execution_count": null,
      "outputs": [
        {
          "output_type": "stream",
          "text": [
            "Collecting konlpy\n",
            "\u001b[?25l  Downloading https://files.pythonhosted.org/packages/85/0e/f385566fec837c0b83f216b2da65db9997b35dd675e107752005b7d392b1/konlpy-0.5.2-py2.py3-none-any.whl (19.4MB)\n",
            "\u001b[K     |████████████████████████████████| 19.4MB 1.2MB/s \n",
            "\u001b[?25hRequirement already satisfied: lxml>=4.1.0 in /usr/local/lib/python3.6/dist-packages (from konlpy) (4.2.6)\n",
            "Collecting colorama\n",
            "  Downloading https://files.pythonhosted.org/packages/44/98/5b86278fbbf250d239ae0ecb724f8572af1c91f4a11edf4d36a206189440/colorama-0.4.4-py2.py3-none-any.whl\n",
            "Collecting tweepy>=3.7.0\n",
            "  Downloading https://files.pythonhosted.org/packages/bb/7c/99d51f80f3b77b107ebae2634108717362c059a41384a1810d13e2429a81/tweepy-3.9.0-py2.py3-none-any.whl\n",
            "Collecting beautifulsoup4==4.6.0\n",
            "\u001b[?25l  Downloading https://files.pythonhosted.org/packages/9e/d4/10f46e5cfac773e22707237bfcd51bbffeaf0a576b0a847ec7ab15bd7ace/beautifulsoup4-4.6.0-py3-none-any.whl (86kB)\n",
            "\u001b[K     |████████████████████████████████| 92kB 4.9MB/s \n",
            "\u001b[?25hRequirement already satisfied: numpy>=1.6 in /usr/local/lib/python3.6/dist-packages (from konlpy) (1.18.5)\n",
            "Collecting JPype1>=0.7.0\n",
            "\u001b[?25l  Downloading https://files.pythonhosted.org/packages/fd/96/1030895dea70855a2e1078e3fe0d6a63dcb7c212309e07dc9ee39d33af54/JPype1-1.1.2-cp36-cp36m-manylinux2010_x86_64.whl (450kB)\n",
            "\u001b[K     |████████████████████████████████| 460kB 54.4MB/s \n",
            "\u001b[?25hRequirement already satisfied: requests-oauthlib>=0.7.0 in /usr/local/lib/python3.6/dist-packages (from tweepy>=3.7.0->konlpy) (1.3.0)\n",
            "Requirement already satisfied: requests[socks]>=2.11.1 in /usr/local/lib/python3.6/dist-packages (from tweepy>=3.7.0->konlpy) (2.23.0)\n",
            "Requirement already satisfied: six>=1.10.0 in /usr/local/lib/python3.6/dist-packages (from tweepy>=3.7.0->konlpy) (1.15.0)\n",
            "Requirement already satisfied: typing-extensions; python_version < \"3.8\" in /usr/local/lib/python3.6/dist-packages (from JPype1>=0.7.0->konlpy) (3.7.4.3)\n",
            "Requirement already satisfied: oauthlib>=3.0.0 in /usr/local/lib/python3.6/dist-packages (from requests-oauthlib>=0.7.0->tweepy>=3.7.0->konlpy) (3.1.0)\n",
            "Requirement already satisfied: certifi>=2017.4.17 in /usr/local/lib/python3.6/dist-packages (from requests[socks]>=2.11.1->tweepy>=3.7.0->konlpy) (2020.6.20)\n",
            "Requirement already satisfied: urllib3!=1.25.0,!=1.25.1,<1.26,>=1.21.1 in /usr/local/lib/python3.6/dist-packages (from requests[socks]>=2.11.1->tweepy>=3.7.0->konlpy) (1.24.3)\n",
            "Requirement already satisfied: chardet<4,>=3.0.2 in /usr/local/lib/python3.6/dist-packages (from requests[socks]>=2.11.1->tweepy>=3.7.0->konlpy) (3.0.4)\n",
            "Requirement already satisfied: idna<3,>=2.5 in /usr/local/lib/python3.6/dist-packages (from requests[socks]>=2.11.1->tweepy>=3.7.0->konlpy) (2.10)\n",
            "Requirement already satisfied: PySocks!=1.5.7,>=1.5.6; extra == \"socks\" in /usr/local/lib/python3.6/dist-packages (from requests[socks]>=2.11.1->tweepy>=3.7.0->konlpy) (1.7.1)\n",
            "Installing collected packages: colorama, tweepy, beautifulsoup4, JPype1, konlpy\n",
            "  Found existing installation: tweepy 3.6.0\n",
            "    Uninstalling tweepy-3.6.0:\n",
            "      Successfully uninstalled tweepy-3.6.0\n",
            "  Found existing installation: beautifulsoup4 4.6.3\n",
            "    Uninstalling beautifulsoup4-4.6.3:\n",
            "      Successfully uninstalled beautifulsoup4-4.6.3\n",
            "Successfully installed JPype1-1.1.2 beautifulsoup4-4.6.0 colorama-0.4.4 konlpy-0.5.2 tweepy-3.9.0\n"
          ],
          "name": "stdout"
        }
      ]
    },
    {
      "cell_type": "code",
      "metadata": {
        "id": "1DAFy5c7ydzC"
      },
      "source": [
        "from keras import models\n",
        "from keras import layers\n",
        "from keras import optimizers, losses, metrics\n",
        "from keras import preprocessing\n",
        "\n",
        "import numpy as np\n",
        "import pandas as pd\n",
        "import matplotlib.pyplot as plt\n",
        "import re\n",
        "\n",
        "from konlpy.tag import Okt"
      ],
      "execution_count": null,
      "outputs": []
    },
    {
      "cell_type": "markdown",
      "metadata": {
        "id": "TYNjPCy5T_TS"
      },
      "source": [
        "## Hyper parameter"
      ]
    },
    {
      "cell_type": "code",
      "metadata": {
        "id": "P9YUdE1OydzG"
      },
      "source": [
        "# 태그 단어\n",
        "PAD = \"<PADDING>\"   # 패딩\n",
        "STA = \"<START>\"     # 시작\n",
        "END = \"<END>\"       # 끝\n",
        "OOV = \"<OOV>\"       # 없는 단어(Out of Vocabulary)\n",
        "\n",
        "# 태그 인덱스\n",
        "PAD_INDEX = 0\n",
        "STA_INDEX = 1\n",
        "END_INDEX = 2\n",
        "OOV_INDEX = 3\n",
        "\n",
        "# 데이터 타입\n",
        "ENCODER_INPUT  = 0\n",
        "DECODER_INPUT  = 1\n",
        "DECODER_TARGET = 2\n",
        "\n",
        "# 한 문장에서 단어의 최대 개수\n",
        "max_sequences = 30\n",
        "\n",
        "# 임베딩 벡터 차원\n",
        "embedding_dim = 100\n",
        "\n",
        "# LSTM 히든레이어 차원\n",
        "lstm_hidden_dim = 128\n",
        "\n",
        "# 정규 표현식 필터\n",
        "RE_FILTER = re.compile(\"[.,!?\\\"':;~()]\")"
      ],
      "execution_count": null,
      "outputs": []
    },
    {
      "cell_type": "markdown",
      "metadata": {
        "id": "zLjERlTlTM2k"
      },
      "source": [
        "## Load Data"
      ]
    },
    {
      "cell_type": "code",
      "metadata": {
        "id": "80IauV0FpUv2",
        "outputId": "c7916829-e772-410b-c077-b9e85219b2d9",
        "colab": {
          "base_uri": "https://localhost:8080/"
        }
      },
      "source": [
        "from google.colab import drive\n",
        "drive.mount('/content/drive')"
      ],
      "execution_count": null,
      "outputs": [
        {
          "output_type": "stream",
          "text": [
            "Mounted at /content/drive\n"
          ],
          "name": "stdout"
        }
      ]
    },
    {
      "cell_type": "code",
      "metadata": {
        "id": "NEHDnPXNzZlM",
        "outputId": "4d5bc653-6534-4be3-c6e8-a7f5b9b17eef",
        "colab": {
          "base_uri": "https://localhost:8080/"
        }
      },
      "source": [
        "wear_data = pd.read_csv(\"/content/drive/My Drive/wear.csv\")\n",
        "print(wear_data.shape)\n",
        "customer = wear_data[wear_data.SPEAKER == \"고객\"].SENTENCE\n",
        "store = wear_data[wear_data.SPEAKER == \"점원\"].SENTENCE\n",
        "print(customer.shape, store.shape) # 질문의 개수와 답의 개수가 일치하지 않는다."
      ],
      "execution_count": null,
      "outputs": [
        {
          "output_type": "stream",
          "text": [
            "(15826, 20)\n",
            "(8381,) (7445,)\n"
          ],
          "name": "stdout"
        }
      ]
    },
    {
      "cell_type": "markdown",
      "metadata": {
        "id": "sE6teEzlTjo0"
      },
      "source": [
        "## Preprocessing"
      ]
    },
    {
      "cell_type": "code",
      "metadata": {
        "id": "FLNSiqcHM4WY",
        "outputId": "d60e6fc7-b7f6-44a8-f225-02f230641b74",
        "colab": {
          "base_uri": "https://localhost:8080/"
        }
      },
      "source": [
        "# 질문과 답변의 쌍을 맞춰주기 위한 전처리\n",
        "prev = \"고객\"\n",
        "store_arr = []\n",
        "customer_arr = []\n",
        "store_stc = \"\"\n",
        "customer_stc = \"\"\n",
        "\n",
        "for i in range(wear_data.shape[0]):\n",
        "    if (prev == wear_data.iloc[i].SPEAKER):\n",
        "        if prev == \"점원\":\n",
        "            store_stc += (\" \"+wear_data.iloc[i].SENTENCE)\n",
        "        else : \n",
        "            customer_stc += (\" \"+wear_data.iloc[i].SENTENCE)\n",
        "            \n",
        "    elif prev == \"점원\":\n",
        "        store_arr.append(store_stc)\n",
        "        customer_stc = wear_data.iloc[i].SENTENCE\n",
        "        prev = \"고객\"\n",
        "    else :\n",
        "        customer_arr.append(customer_stc)\n",
        "        store_stc = wear_data.iloc[i].SENTENCE\n",
        "        prev = \"점원\"\n",
        "\n",
        "print(len(store_arr))\n",
        "print(len(customer_arr))\n",
        "print(store_arr[-1])\n",
        "print(customer_arr[-1]) # 자료 상에서 이후에는 계속 고객의 물음만 계속된다. 코드 레벨에서 이 부분은 빼게 구현했다. (stc는 만들어지지만 arr에 append 안하게 된다.)"
      ],
      "execution_count": null,
      "outputs": [
        {
          "output_type": "stream",
          "text": [
            "7301\n",
            "7301\n",
            "요즘 파스텔 톤이 유행이에요\n",
            "요즘 유행하는 색깔이 뭐예요?\n"
          ],
          "name": "stdout"
        }
      ]
    },
    {
      "cell_type": "code",
      "metadata": {
        "id": "WNvig2FMzjXj",
        "outputId": "99ca78eb-5cdf-46f8-e964-c0a28b356b5b",
        "colab": {
          "base_uri": "https://localhost:8080/"
        }
      },
      "source": [
        "question = []\n",
        "answer = []\n",
        "\n",
        "for Q in customer_arr:\n",
        "    question.append(Q.replace(\"[^\\w]\", \" \"))\n",
        "\n",
        "for A in store_arr:\n",
        "    answer.append(A.replace(\"[^\\w]\", \" \"))\n",
        "\n",
        "len(question), len(answer)"
      ],
      "execution_count": null,
      "outputs": [
        {
          "output_type": "execute_result",
          "data": {
            "text/plain": [
              "(7301, 7301)"
            ]
          },
          "metadata": {
            "tags": []
          },
          "execution_count": 13
        }
      ]
    },
    {
      "cell_type": "code",
      "metadata": {
        "id": "qbivSckMydzN"
      },
      "source": [
        "# 형태소분석된 문장의 리스트형태로 변환\n",
        "def pos_tag(sentences):\n",
        "    \n",
        "    # KoNLPy 형태소분석기 설정\n",
        "    tagger = Okt()\n",
        "    \n",
        "    # 문장 품사 변수 초기화\n",
        "    sentences_pos = []\n",
        "    \n",
        "    # 모든 문장 반복\n",
        "    for sentence in sentences:\n",
        "        # 특수기호 제거\n",
        "        sentence = re.sub(RE_FILTER, \"\", sentence)\n",
        "        \n",
        "        # 배열인 형태소분석의 출력을 띄어쓰기로 구분하여 붙임\n",
        "        sentence = \" \".join(tagger.morphs(sentence))\n",
        "        sentences_pos.append(sentence)\n",
        "        \n",
        "    return sentences_pos"
      ],
      "execution_count": null,
      "outputs": []
    },
    {
      "cell_type": "code",
      "metadata": {
        "id": "4seqSNWcydzP",
        "outputId": "2efc6100-b88b-40a0-8bd7-c18e80e61020",
        "colab": {
          "base_uri": "https://localhost:8080/"
        }
      },
      "source": [
        "# 형태소분석 수행\n",
        "question = pos_tag(question)\n",
        "answer = pos_tag(answer)\n",
        "\n",
        "# 형태소분석으로 변환된 챗봇 데이터 출력\n",
        "for i in range(3):\n",
        "    print('Q : ' + question[i])\n",
        "    print('A : ' + answer[i])\n",
        "    print()\n"
      ],
      "execution_count": null,
      "outputs": [
        {
          "output_type": "stream",
          "text": [
            "Q : 신발 은 여기 있는 게 다예 요\n",
            "A : 네 성인 이나 아동 다 있어요 발 사이즈 몇 신으세요\n",
            "\n",
            "Q : 230 이요\n",
            "A : 편하게 신 을 수 있는 거 찾으세요\n",
            "\n",
            "Q : 네 봄 이니까 편하게 신 을 수 있는 거\n",
            "A : 이런 건 어떠세요 이런 거도 신발 무척 편하거든요\n",
            "\n"
          ],
          "name": "stdout"
        }
      ]
    },
    {
      "cell_type": "code",
      "metadata": {
        "id": "Yrnct_nzydzR"
      },
      "source": [
        "# 질문과 대답 문장들을 하나로 합침\n",
        "sentences = []\n",
        "sentences.extend(question)\n",
        "sentences.extend(answer)\n",
        "\n",
        "words = []\n",
        "\n",
        "# 단어들의 배열 생성\n",
        "for sentence in sentences:\n",
        "    for word in sentence.split():\n",
        "        words.append(word)\n",
        "\n",
        "# 길이가 0인 단어는 삭제\n",
        "words = [word for word in words if len(word) > 0]\n",
        "\n",
        "# 중복된 단어 삭제\n",
        "words = list(set(words))\n",
        "\n",
        "# 제일 앞에 태그 단어 삽입\n",
        "words[:0] = [PAD, STA, END, OOV]"
      ],
      "execution_count": null,
      "outputs": []
    },
    {
      "cell_type": "code",
      "metadata": {
        "id": "fE9ZhJpEy_rT",
        "outputId": "c8755f62-cf70-4204-834a-4f9da61a000b",
        "colab": {
          "base_uri": "https://localhost:8080/",
          "height": 34
        }
      },
      "source": [
        "print(\"손님과 점원의 말에서 사용된 총 단어의 수 :\",len(words))"
      ],
      "execution_count": null,
      "outputs": [
        {
          "output_type": "stream",
          "text": [
            "손님과 점원의 말에서 사용된 총 단어의 수 : 6403\n"
          ],
          "name": "stdout"
        }
      ]
    },
    {
      "cell_type": "code",
      "metadata": {
        "id": "i0jXcjybydzV",
        "outputId": "e87d8ad8-ccbd-4441-9ca0-d2fa8a9bf182",
        "colab": {
          "base_uri": "https://localhost:8080/"
        }
      },
      "source": [
        "# 단어 출력\n",
        "words[:20]"
      ],
      "execution_count": null,
      "outputs": [
        {
          "output_type": "execute_result",
          "data": {
            "text/plain": [
              "['<PADDING>',\n",
              " '<START>',\n",
              " '<END>',\n",
              " '<OOV>',\n",
              " '충분할거에요',\n",
              " '21만원',\n",
              " '깔구',\n",
              " '25만',\n",
              " '1',\n",
              " '미키',\n",
              " '반드시',\n",
              " '8',\n",
              " '성복',\n",
              " '드롭형',\n",
              " '하구',\n",
              " '남학생',\n",
              " '필요하세요',\n",
              " '신을까요',\n",
              " '안되시고',\n",
              " '달려있는게']"
            ]
          },
          "metadata": {
            "tags": []
          },
          "execution_count": 17
        }
      ]
    },
    {
      "cell_type": "code",
      "metadata": {
        "id": "AkvyOnSvydzX"
      },
      "source": [
        "# 단어와 인덱스의 딕셔너리 생성\n",
        "word_to_index = {word: index for index, word in enumerate(words)}\n",
        "index_to_word = {index: word for index, word in enumerate(words)}"
      ],
      "execution_count": null,
      "outputs": []
    },
    {
      "cell_type": "code",
      "metadata": {
        "id": "rfoTztrvydzc"
      },
      "source": [
        "# 문장이 들어가는 곳에 따라 토큰을 붙여주고, 패딩된 index sequence로 변환\n",
        "def convert_text_to_index(sentences, vocabulary, type): \n",
        "    \n",
        "    sentences_index = []\n",
        "    \n",
        "    # 모든 문장에 대해서 반복\n",
        "    for sentence in sentences:\n",
        "        sentence_index = []\n",
        "        \n",
        "        # 디코더 입력일 경우 맨 앞에 START 태그 추가\n",
        "        if type == DECODER_INPUT:\n",
        "            sentence_index.extend([vocabulary[STA]])\n",
        "        \n",
        "        # 문장의 단어들을 띄어쓰기로 분리\n",
        "        for word in sentence.split():\n",
        "            if vocabulary.get(word) is not None:\n",
        "                # 사전에 있는 단어면 해당 인덱스를 추가\n",
        "                sentence_index.extend([vocabulary[word]])\n",
        "            else:\n",
        "                # 사전에 없는 단어면 OOV 인덱스를 추가\n",
        "                sentence_index.extend([vocabulary[OOV]])\n",
        "\n",
        "        # 최대 길이 검사\n",
        "        if type == DECODER_TARGET:\n",
        "            # 디코더 목표일 경우 맨 뒤에 END 태그 추가\n",
        "            if len(sentence_index) >= max_sequences:\n",
        "                sentence_index = sentence_index[:max_sequences-1] + [vocabulary[END]]\n",
        "            else:\n",
        "                sentence_index += [vocabulary[END]]\n",
        "        else:\n",
        "            if len(sentence_index) > max_sequences:\n",
        "                sentence_index = sentence_index[:max_sequences]\n",
        "            \n",
        "        # 최대 길이에 없는 공간은 패딩 인덱스로 채움\n",
        "        sentence_index += (max_sequences - len(sentence_index)) * [vocabulary[PAD]]\n",
        "        \n",
        "        # 문장의 인덱스 배열을 추가\n",
        "        sentences_index.append(sentence_index)\n",
        "\n",
        "    return np.asarray(sentences_index)"
      ],
      "execution_count": null,
      "outputs": []
    },
    {
      "cell_type": "code",
      "metadata": {
        "id": "Gxi2B-vjydzt"
      },
      "source": [
        "# index sequence를 문장으로 변환\n",
        "def convert_index_to_text(indexs, vocabulary): \n",
        "    \n",
        "    sentence = ''\n",
        "    \n",
        "    # 모든 문장에 대해서 반복\n",
        "    for index in indexs:\n",
        "        if index == END_INDEX:\n",
        "            # 종료 인덱스면 중지\n",
        "            break;\n",
        "        if vocabulary.get(index) is not None:\n",
        "            # 사전에 있는 인덱스면 해당 단어를 추가\n",
        "            sentence += vocabulary[index]\n",
        "        else:\n",
        "            # 사전에 없는 인덱스면 OOV 단어를 추가\n",
        "            sentence.extend([vocabulary[OOV_INDEX]])\n",
        "            \n",
        "        # 빈칸 추가\n",
        "        sentence += ' '\n",
        "\n",
        "    return sentence"
      ],
      "execution_count": null,
      "outputs": []
    },
    {
      "cell_type": "code",
      "metadata": {
        "id": "zezFPTvcydzf",
        "outputId": "d5cb9ab2-eebd-4ce5-eb53-e64bf68d806c",
        "colab": {
          "base_uri": "https://localhost:8080/"
        }
      },
      "source": [
        "# 인코더 입력 인덱스 변환\n",
        "x_encoder = convert_text_to_index(question, word_to_index, ENCODER_INPUT)\n",
        "\n",
        "# 첫 번째 인코더 입력 출력 (신발 은 여기 있는 게 다예 요)\n",
        "print(question[0])\n",
        "x_encoder[0]\n"
      ],
      "execution_count": null,
      "outputs": [
        {
          "output_type": "stream",
          "text": [
            "신발 은 여기 있는 게 다예 요\n"
          ],
          "name": "stdout"
        },
        {
          "output_type": "execute_result",
          "data": {
            "text/plain": [
              "array([2361, 3453,  889,  370, 5695, 3345, 3419,    0,    0,    0,    0,\n",
              "          0,    0,    0,    0,    0,    0,    0,    0,    0,    0,    0,\n",
              "          0,    0,    0,    0,    0,    0,    0,    0])"
            ]
          },
          "metadata": {
            "tags": []
          },
          "execution_count": 20
        }
      ]
    },
    {
      "cell_type": "code",
      "metadata": {
        "id": "fmql1Lf_ydzh",
        "outputId": "90f339b6-f089-4464-a08e-82d4825d8f64",
        "colab": {
          "base_uri": "https://localhost:8080/"
        }
      },
      "source": [
        "# 디코더 입력 인덱스 변환\n",
        "x_decoder = convert_text_to_index(answer, word_to_index, DECODER_INPUT)\n",
        "\n",
        "# 첫 번째 디코더 입력 출력 (<START> 신발 은 여기 있는 게 다예 요)\n",
        "print(question[0])\n",
        "x_decoder[0]\n"
      ],
      "execution_count": null,
      "outputs": [
        {
          "output_type": "stream",
          "text": [
            "신발 은 여기 있는 게 다예 요\n"
          ],
          "name": "stdout"
        },
        {
          "output_type": "execute_result",
          "data": {
            "text/plain": [
              "array([   1, 6266, 1933, 1091,  356, 3240, 6016,  706, 4282,  101, 4741,\n",
              "          0,    0,    0,    0,    0,    0,    0,    0,    0,    0,    0,\n",
              "          0,    0,    0,    0,    0,    0,    0,    0])"
            ]
          },
          "metadata": {
            "tags": []
          },
          "execution_count": 21
        }
      ]
    },
    {
      "cell_type": "code",
      "metadata": {
        "id": "-qIhDbaLydzk",
        "outputId": "92a1c8c8-418b-4814-b521-813d6ce3d570",
        "colab": {
          "base_uri": "https://localhost:8080/"
        }
      },
      "source": [
        "# 디코더 목표 인덱스 변환\n",
        "y_decoder = convert_text_to_index(answer, word_to_index, DECODER_TARGET)\n",
        "\n",
        "# 첫 번째 디코더 입력 출력 (신발 은 여기 있는 게 다예 요 <END>)\n",
        "print(question[0])\n",
        "y_decoder[0]\n"
      ],
      "execution_count": null,
      "outputs": [
        {
          "output_type": "stream",
          "text": [
            "신발 은 여기 있는 게 다예 요\n"
          ],
          "name": "stdout"
        },
        {
          "output_type": "execute_result",
          "data": {
            "text/plain": [
              "array([6266, 1933, 1091,  356, 3240, 6016,  706, 4282,  101, 4741,    2,\n",
              "          0,    0,    0,    0,    0,    0,    0,    0,    0,    0,    0,\n",
              "          0,    0,    0,    0,    0,    0,    0,    0])"
            ]
          },
          "metadata": {
            "tags": []
          },
          "execution_count": 22
        }
      ]
    },
    {
      "cell_type": "markdown",
      "metadata": {
        "id": "Pav-8Jd3ydzp"
      },
      "source": [
        "## Model"
      ]
    },
    {
      "cell_type": "code",
      "metadata": {
        "id": "I8y-mjWtydzp"
      },
      "source": [
        "#--------------------------------------------\n",
        "# 훈련 모델 인코더 정의\n",
        "#--------------------------------------------\n",
        "\n",
        "# 입력 문장의 인덱스 시퀀스를 입력으로 받음\n",
        "encoder_inputs = layers.Input(shape=(None,))\n",
        "\n",
        "# 임베딩 레이어\n",
        "encoder_outputs = layers.Embedding(len(words), embedding_dim)(encoder_inputs)\n",
        "\n",
        "# return_state가 True면 상태값 리턴\n",
        "# LSTM은 state_h(hidden state)와 state_c(cell state) 2개의 상태 존재\n",
        "encoder_outputs, state_h, state_c = layers.LSTM(lstm_hidden_dim,\n",
        "                                                return_state=True)(encoder_outputs)\n",
        "\n",
        "# 히든 상태와 셀 상태를 하나로 묶음\n",
        "encoder_states = [state_h, state_c]\n",
        "\n",
        "#--------------------------------------------\n",
        "# 훈련 모델 디코더 정의\n",
        "#--------------------------------------------\n",
        "\n",
        "# 목표 문장의 인덱스 시퀀스를 입력으로 받음\n",
        "decoder_inputs = layers.Input(shape=(None,))\n",
        "\n",
        "# 임베딩 레이어\n",
        "decoder_embedding = layers.Embedding(len(words), embedding_dim)\n",
        "decoder_outputs = decoder_embedding(decoder_inputs)\n",
        "\n",
        "# 인코더와 달리 return_sequences를 True로 설정하여 모든 타임 스텝 출력값 리턴\n",
        "# 모든 타임 스텝의 출력값들을 다음 레이어의 Dense()로 처리하기 위함\n",
        "decoder_lstm = layers.LSTM(lstm_hidden_dim,\n",
        "                           return_state=True,\n",
        "                           return_sequences=True)\n",
        "\n",
        "# initial_state를 인코더의 상태로 초기화\n",
        "decoder_outputs, _, _ = decoder_lstm(decoder_outputs,\n",
        "                                     initial_state=encoder_states)\n",
        "\n",
        "# 단어의 개수만큼 노드의 개수를 설정하여 원핫 형식으로 각 단어 인덱스를 출력\n",
        "decoder_dense = layers.Dense(len(words), activation='softmax')\n",
        "decoder_outputs = decoder_dense(decoder_outputs)\n",
        "\n",
        "\n",
        "\n",
        "#--------------------------------------------\n",
        "# 훈련 모델 정의\n",
        "#--------------------------------------------\n",
        "\n",
        "# 입력과 출력으로 함수형 API 모델 생성\n",
        "model = models.Model([encoder_inputs, decoder_inputs], decoder_outputs)\n",
        "\n",
        "# 학습 방법 설정\n",
        "model.compile(optimizer='rmsprop',\n",
        "              loss='sparse_categorical_crossentropy',\n",
        "              metrics=['accuracy'])    "
      ],
      "execution_count": null,
      "outputs": []
    },
    {
      "cell_type": "code",
      "metadata": {
        "id": "N1bkvRU0ydzr"
      },
      "source": [
        "#--------------------------------------------\n",
        "#  예측 모델 인코더 정의\n",
        "#--------------------------------------------\n",
        "\n",
        "# 훈련 모델의 인코더 상태를 사용하여 예측 모델 인코더 설정\n",
        "encoder_model = models.Model(encoder_inputs, encoder_states)\n",
        "\n",
        "#--------------------------------------------\n",
        "# 예측 모델 디코더 정의\n",
        "#--------------------------------------------\n",
        "\n",
        "# 예측시에는 훈련시와 달리 타임 스텝을 한 단계씩 수행\n",
        "# 매번 이전 디코더 상태를 입력으로 받아서 새로 설정\n",
        "decoder_state_input_h = layers.Input(shape=(lstm_hidden_dim,))\n",
        "decoder_state_input_c = layers.Input(shape=(lstm_hidden_dim,))\n",
        "decoder_states_inputs = [decoder_state_input_h, decoder_state_input_c]    \n",
        "\n",
        "# 임베딩 레이어\n",
        "decoder_outputs = decoder_embedding(decoder_inputs)\n",
        "\n",
        "# LSTM 레이어\n",
        "decoder_outputs, state_h, state_c = decoder_lstm(decoder_outputs,\n",
        "                                                 initial_state=decoder_states_inputs)\n",
        "\n",
        "# 히든 상태와 셀 상태를 하나로 묶음\n",
        "decoder_states = [state_h, state_c]\n",
        "\n",
        "# Dense 레이어를 통해 원핫 형식으로 각 단어 인덱스를 출력\n",
        "decoder_outputs = decoder_dense(decoder_outputs)\n",
        "\n",
        "# 예측 모델 디코더 설정\n",
        "decoder_model = models.Model([decoder_inputs] + decoder_states_inputs,\n",
        "                      [decoder_outputs] + decoder_states)"
      ],
      "execution_count": null,
      "outputs": []
    },
    {
      "cell_type": "markdown",
      "metadata": {
        "id": "QOEiyOizydzt"
      },
      "source": [
        "## Train"
      ]
    },
    {
      "cell_type": "code",
      "metadata": {
        "id": "DeEaQyYRydzv",
        "outputId": "7eabf78d-3b1a-4c00-8c54-31cb829d2cd2",
        "colab": {
          "base_uri": "https://localhost:8080/"
        }
      },
      "source": [
        "# 에폭 반복\n",
        "for epoch in range(20):\n",
        "    print('Total Epoch :', epoch + 1)\n",
        "\n",
        "    # 훈련 시작\n",
        "    history = model.fit([x_encoder, x_decoder],\n",
        "                        y_decoder,\n",
        "                        epochs=1,\n",
        "                        batch_size=64,\n",
        "                        verbose=1)\n",
        "    # '네 봄 이니까 편하게 신 을 수 있는 거'에 대한 대답\n",
        "    input_encoder = x_encoder[2].reshape(1, x_encoder[2].shape[0])\n",
        "    input_decoder = x_decoder[2].reshape(1, x_decoder[2].shape[0])\n",
        "    results = model.predict([input_encoder, input_decoder])\n",
        "    \n",
        "    # 결과의 원핫인코딩 형식을 인덱스로 변환\n",
        "    # 1축을 기준으로 가장 높은 값의 위치를 구함\n",
        "    indexs = np.argmax(results[0], 1)\n",
        "    \n",
        "    # 인덱스를 문장으로 변환\n",
        "    sentence = convert_index_to_text(indexs, index_to_word)\n",
        "    print(sentence)\n",
        "    print()"
      ],
      "execution_count": null,
      "outputs": [
        {
          "output_type": "stream",
          "text": [
            "Total Epoch : 1\n",
            "115/115 [==============================] - 3s 23ms/step - loss: 2.0933 - accuracy: 0.7730\n",
            "네 \n",
            "\n",
            "Total Epoch : 2\n",
            "115/115 [==============================] - 2s 21ms/step - loss: 1.2827 - accuracy: 0.8147\n",
            "네 이 이 \n",
            "\n",
            "Total Epoch : 3\n",
            "115/115 [==============================] - 3s 23ms/step - loss: 1.2192 - accuracy: 0.8182\n",
            "네 \n",
            "\n",
            "Total Epoch : 4\n",
            "115/115 [==============================] - 2s 21ms/step - loss: 1.1843 - accuracy: 0.8210\n",
            "네 이 있어요 \n",
            "\n",
            "Total Epoch : 5\n",
            "115/115 [==============================] - 3s 23ms/step - loss: 1.1515 - accuracy: 0.8244\n",
            "네 옷 쪽 \n",
            "\n",
            "Total Epoch : 6\n",
            "115/115 [==============================] - 2s 21ms/step - loss: 1.1190 - accuracy: 0.8285\n",
            "네 옷 이 \n",
            "\n",
            "Total Epoch : 7\n",
            "115/115 [==============================] - 2s 21ms/step - loss: 1.0844 - accuracy: 0.8335\n",
            "이 거 없어요 \n",
            "\n",
            "Total Epoch : 8\n",
            "115/115 [==============================] - 3s 23ms/step - loss: 1.0517 - accuracy: 0.8376\n",
            "네 제품 없어요 \n",
            "\n",
            "Total Epoch : 9\n",
            "115/115 [==============================] - 2s 21ms/step - loss: 1.0240 - accuracy: 0.8403\n",
            "네 거 없어요 \n",
            "\n",
            "Total Epoch : 10\n",
            "115/115 [==============================] - 2s 21ms/step - loss: 0.9998 - accuracy: 0.8426\n",
            "네 쪽 어떻게 \n",
            "\n",
            "Total Epoch : 11\n",
            "115/115 [==============================] - 2s 20ms/step - loss: 0.9780 - accuracy: 0.8448\n",
            "네 제품 어떠세요 \n",
            "\n",
            "Total Epoch : 12\n",
            "115/115 [==============================] - 2s 20ms/step - loss: 0.9581 - accuracy: 0.8463\n",
            "네 쪽 어떠세요 \n",
            "\n",
            "Total Epoch : 13\n",
            "115/115 [==============================] - 3s 22ms/step - loss: 0.9393 - accuracy: 0.8480\n",
            "네 제품 어떠세요 \n",
            "\n",
            "Total Epoch : 14\n",
            "115/115 [==============================] - 2s 20ms/step - loss: 0.9207 - accuracy: 0.8498\n",
            "네 제품 어떠세요 \n",
            "\n",
            "Total Epoch : 15\n",
            "115/115 [==============================] - 2s 20ms/step - loss: 0.9030 - accuracy: 0.8517\n",
            "네 제품 어떠세요 \n",
            "\n",
            "Total Epoch : 16\n",
            "115/115 [==============================] - 2s 20ms/step - loss: 0.8875 - accuracy: 0.8530\n",
            "네 제품 어떠세요 \n",
            "\n",
            "Total Epoch : 17\n",
            "115/115 [==============================] - 2s 20ms/step - loss: 0.8725 - accuracy: 0.8544\n",
            "네 거 어떠세요 \n",
            "\n",
            "Total Epoch : 18\n",
            "115/115 [==============================] - 3s 23ms/step - loss: 0.8579 - accuracy: 0.8555\n",
            "네 제품 어떠세요 \n",
            "\n",
            "Total Epoch : 19\n",
            "115/115 [==============================] - 2s 20ms/step - loss: 0.8440 - accuracy: 0.8572\n",
            "이 거 어떠세요 \n",
            "\n",
            "Total Epoch : 20\n",
            "115/115 [==============================] - 2s 20ms/step - loss: 0.8304 - accuracy: 0.8583\n",
            "이 거 어떠세요 \n",
            "\n"
          ],
          "name": "stdout"
        }
      ]
    },
    {
      "cell_type": "markdown",
      "metadata": {
        "id": "GTaUvGrqydzy"
      },
      "source": [
        "학습이 진행될수록 예측 문장이 제대로 생성되는 것을 볼 수 있습니다. 다만 여기서의 예측은 단순히 테스트를 위한 것이라, 인코더 입력과 디코더 입력 데이터가 동시에 사용됩니다. 아래 문장 생성에서는 예측 모델을 적용하기 때문에, 오직 인코더 입력 데이터만 집어 넣습니다."
      ]
    },
    {
      "cell_type": "markdown",
      "metadata": {
        "id": "Q3wHpkRaydzy"
      },
      "source": [
        "<br>\n",
        "<br>\n",
        "# 문장 생성"
      ]
    },
    {
      "cell_type": "code",
      "metadata": {
        "id": "2E66RpbXydzy"
      },
      "source": [
        "# 예측을 위한 입력 생성\n",
        "def make_predict_input(sentence):\n",
        "\n",
        "    sentences = []\n",
        "    sentences.append(sentence)\n",
        "    sentences = pos_tag(sentences)\n",
        "    input_seq = convert_text_to_index(sentences, word_to_index, ENCODER_INPUT)\n",
        "    \n",
        "    return input_seq"
      ],
      "execution_count": null,
      "outputs": []
    },
    {
      "cell_type": "code",
      "metadata": {
        "id": "nUV-fKE0ydz0"
      },
      "source": [
        "# 텍스트 생성\n",
        "def generate_text(input_seq):\n",
        "    \n",
        "    # 입력을 인코더에 넣어 마지막 상태 구함\n",
        "    states = encoder_model.predict(input_seq)\n",
        "\n",
        "    # 목표 시퀀스 초기화\n",
        "    target_seq = np.zeros((1, 1))\n",
        "    \n",
        "    # 목표 시퀀스의 첫 번째에 <START> 태그 추가\n",
        "    target_seq[0, 0] = STA_INDEX\n",
        "    \n",
        "    # 인덱스 초기화\n",
        "    indexs = []\n",
        "    \n",
        "    # 디코더 타임 스텝 반복\n",
        "    while 1:\n",
        "        # 디코더로 현재 타임 스텝 출력 구함\n",
        "        # 처음에는 인코더 상태를, 다음부터 이전 디코더 상태로 초기화\n",
        "        decoder_outputs, state_h, state_c = decoder_model.predict(\n",
        "                                                [target_seq] + states)\n",
        "\n",
        "        # 결과의 원핫인코딩 형식을 인덱스로 변환\n",
        "        index = np.argmax(decoder_outputs[0, 0, :])\n",
        "        indexs.append(index)\n",
        "        \n",
        "        # 종료 검사\n",
        "        if index == END_INDEX or len(indexs) >= max_sequences:\n",
        "            break\n",
        "\n",
        "        # 목표 시퀀스를 바로 이전의 출력으로 설정\n",
        "        target_seq = np.zeros((1, 1))\n",
        "        target_seq[0, 0] = index\n",
        "        \n",
        "        # 디코더의 이전 상태를 다음 디코더 예측에 사용\n",
        "        states = [state_h, state_c]\n",
        "\n",
        "    # 인덱스를 문장으로 변환\n",
        "    sentence = convert_index_to_text(indexs, index_to_word)\n",
        "        \n",
        "    return sentence"
      ],
      "execution_count": null,
      "outputs": []
    },
    {
      "cell_type": "code",
      "metadata": {
        "id": "xghcWc8Gydz2",
        "outputId": "83dbc472-54cf-4781-9333-0540560eac35",
        "colab": {
          "base_uri": "https://localhost:8080/",
          "height": 70
        }
      },
      "source": [
        "# 문장을 인덱스로 변환\n",
        "input_seq = make_predict_input('이 티셔츠 사이즈 있나요')\n",
        "input_seq\n"
      ],
      "execution_count": null,
      "outputs": [
        {
          "output_type": "execute_result",
          "data": {
            "text/plain": [
              "array([[1541,  307, 1754, 1072,    0,    0,    0,    0,    0,    0,    0,\n",
              "           0,    0,    0,    0,    0,    0,    0,    0,    0,    0,    0,\n",
              "           0,    0,    0,    0,    0,    0,    0,    0]])"
            ]
          },
          "metadata": {
            "tags": []
          },
          "execution_count": 34
        }
      ]
    },
    {
      "cell_type": "code",
      "metadata": {
        "id": "SAVCqw5kydz4",
        "outputId": "f89a1daf-0daf-451b-b3a1-ac6d340c66fb",
        "colab": {
          "base_uri": "https://localhost:8080/",
          "height": 35
        }
      },
      "source": [
        "# 예측 모델로 텍스트 생성\n",
        "sentence = generate_text(input_seq)\n",
        "sentence\n"
      ],
      "execution_count": null,
      "outputs": [
        {
          "output_type": "execute_result",
          "data": {
            "application/vnd.google.colaboratory.intrinsic+json": {
              "type": "string"
            },
            "text/plain": [
              "'네 잠시 만 기다려주세요 '"
            ]
          },
          "metadata": {
            "tags": []
          },
          "execution_count": 35
        }
      ]
    },
    {
      "cell_type": "markdown",
      "metadata": {
        "id": "tTJaDU2Oydz9"
      },
      "source": [
        "데이터셋 문장에서는 없던 '같이'라는 단어를 추가해 보았습니다. 그래도 비슷한 의미란 것을 파악하여 동일한 답변이 나왔습니다.\n",
        "<br>\n",
        "<br>\n",
        "<br>"
      ]
    },
    {
      "cell_type": "code",
      "metadata": {
        "id": "0nfzs40Jydz9",
        "outputId": "c14560de-e79a-4e5b-990e-99d1ffd90106",
        "colab": {
          "base_uri": "https://localhost:8080/",
          "height": 70
        }
      },
      "source": [
        "# 문장을 인덱스로 변환\n",
        "input_seq = make_predict_input('교환 가능한가요?')\n",
        "input_seq\n"
      ],
      "execution_count": null,
      "outputs": [
        {
          "output_type": "execute_result",
          "data": {
            "text/plain": [
              "array([[2393, 5592,    0,    0,    0,    0,    0,    0,    0,    0,    0,\n",
              "           0,    0,    0,    0,    0,    0,    0,    0,    0,    0,    0,\n",
              "           0,    0,    0,    0,    0,    0,    0,    0]])"
            ]
          },
          "metadata": {
            "tags": []
          },
          "execution_count": 36
        }
      ]
    },
    {
      "cell_type": "code",
      "metadata": {
        "id": "CfAuRhDwydz_",
        "outputId": "d7ada4a4-b142-47a7-d9dc-94b296b8d301",
        "colab": {
          "base_uri": "https://localhost:8080/",
          "height": 35
        }
      },
      "source": [
        "# 예측 모델로 텍스트 생성\n",
        "sentence = generate_text(input_seq)\n",
        "sentence\n"
      ],
      "execution_count": null,
      "outputs": [
        {
          "output_type": "execute_result",
          "data": {
            "application/vnd.google.colaboratory.intrinsic+json": {
              "type": "string"
            },
            "text/plain": [
              "'네 가능합니다 '"
            ]
          },
          "metadata": {
            "tags": []
          },
          "execution_count": 37
        }
      ]
    },
    {
      "cell_type": "code",
      "metadata": {
        "id": "z3YqOZ-MEOVW",
        "outputId": "16e4dc25-59d5-41d1-cba9-5adce2067109",
        "colab": {
          "base_uri": "https://localhost:8080/",
          "height": 1000
        }
      },
      "source": [
        "# for train data predict\n",
        "for seq_index in range(0,100):\n",
        "\n",
        "  print(\"고객 : \",question[seq_index])\n",
        "  print(\"정답점원 :\",answer[seq_index])\n",
        "  print(\"AI점원 :\",generate_text(make_predict_input(question[seq_index])))\n",
        "  print(\"\\n\")"
      ],
      "execution_count": null,
      "outputs": [
        {
          "output_type": "stream",
          "text": [
            "고객 :  신발 은 여기 있는 게 다예 요\n",
            "정답점원 : 네 성인 이나 아동 다 있어요 발 사이즈 몇 신으세요\n",
            "AI점원 : 네 \n",
            "\n",
            "\n",
            "고객 :  230 이요\n",
            "정답점원 : 편하게 신 을 수 있는 거 찾으세요\n",
            "AI점원 : 네 그럼요 \n",
            "\n",
            "\n",
            "고객 :  네 봄 이니까 편하게 신 을 수 있는 거\n",
            "정답점원 : 이런 건 어떠세요 이런 거도 신발 무척 편하거든요\n",
            "AI점원 : 네 \n",
            "\n",
            "\n",
            "고객 :  굽 좀 높은 거 없나요\n",
            "정답점원 : 봄 상품 은 아직 어른 제품 이 많이 안 나왔습니다\n",
            "AI점원 : 네 이 쪽 에 있습니다 \n",
            "\n",
            "\n",
            "고객 :  언제 들어와요\n",
            "정답점원 : 이번 주 지나면 들어올 거 예요\n",
            "AI점원 : 네 \n",
            "\n",
            "\n",
            "고객 :  이 거 는 가죽 이에요\n",
            "정답점원 : 가죽 아니고 쎄 무예 요\n",
            "AI점원 : 네 \n",
            "\n",
            "\n",
            "고객 :  가죽 은 얼마 예요\n",
            "정답점원 : 2만 9천 원 입니다\n",
            "AI점원 : 그 옷 은 이만 원 이에요 \n",
            "\n",
            "\n",
            "고객 :  털 달린 거 저 거 는 사이즈 있어요\n",
            "정답점원 : 230 이 없어요 이 거 한 번 신어 보세요\n",
            "AI점원 : 네 \n",
            "\n",
            "\n",
            "고객 :  좀 크네 또 안 들어와요\n",
            "정답점원 : 네 이건 다 끝났어요\n",
            "AI점원 : 네 \n",
            "\n",
            "\n",
            "고객 :  가방 매는 거 보고 있어요\n",
            "정답점원 : 여기 있어요\n",
            "AI점원 : 네 \n",
            "\n",
            "\n",
            "고객 :  가격 이 얼마 예요\n",
            "정답점원 : 이 종류 는 2만 원 이고 이 종류 는 3만 8천 원 이에요\n",
            "AI점원 : 이 거 는 삼만 원 이에요 \n",
            "\n",
            "\n",
            "고객 :  가죽 으로 된 거 는 없어요\n",
            "정답점원 : 가죽 은 없고 레자 만 있어요\n",
            "AI점원 : 네 \n",
            "\n",
            "\n",
            "고객 :  레자 는 얼마 예요\n",
            "정답점원 : 5만 5천 원요\n",
            "AI점원 : 그 가방 은 이만 원 이에요 \n",
            "\n",
            "\n",
            "고객 :  이 거 는 천이 죠\n",
            "정답점원 : 네 맞아요\n",
            "AI점원 : 네 \n",
            "\n",
            "\n",
            "고객 :  이건 얼마 예요\n",
            "정답점원 : 그것 도 5만 5천 원요\n",
            "AI점원 : 그 가방 은 이만 원 이에요 \n",
            "\n",
            "\n",
            "고객 :  이 거 끈 은 따로 없어요\n",
            "정답점원 : 안 에 있어요\n",
            "AI점원 : 네 \n",
            "\n",
            "\n",
            "고객 :  내일 은 문 열어요\n",
            "정답점원 : 휴무 입니다\n",
            "AI점원 : 네 \n",
            "\n",
            "\n",
            "고객 :  며칠 까지 휴무 예요\n",
            "정답점원 : 설 까지 쉬 고 다음 날 열 거 같아요\n",
            "AI점원 : 네 \n",
            "\n",
            "\n",
            "고객 :  여기 마스크 는 얼마 예요\n",
            "정답점원 : 5천 원요\n",
            "AI점원 : 이 거 는 삼만 원 이에요 \n",
            "\n",
            "\n",
            "고객 :  이 거 나무 예요 다 돌 인가요\n",
            "정답점원 : 나무 도 있고 도자기 도 있어요\n",
            "AI점원 : 네 \n",
            "\n",
            "\n",
            "고객 :  이런 건 세트 로 팔아요\n",
            "정답점원 : 네 세트 로만 팔아요\n",
            "AI점원 : 네 \n",
            "\n",
            "\n",
            "고객 :  이건 뭐 예요\n",
            "정답점원 : 마블 이라고 종이 를 말아가지고 하는 거 예요\n",
            "AI점원 : 네 \n",
            "\n",
            "\n",
            "고객 :  제일 큰 거 는 얼마 인데 요\n",
            "정답점원 : 세트 에 7만 원 이요\n",
            "AI점원 : 이 거 는 삼만 원 이에요 \n",
            "\n",
            "\n",
            "고객 :  스카프 좀 보려구요\n",
            "정답점원 : 네 천천히 보세요\n",
            "AI점원 : 네 잠시 만 기다려주세요 \n",
            "\n",
            "\n",
            "고객 :  실크 스카프 도 봄 에 하나요\n",
            "정답점원 : 실크 봄 가을 에 하죠\n",
            "AI점원 : 네 \n",
            "\n",
            "\n",
            "고객 :  이 거 는 뭐 예요\n",
            "정답점원 : 토시 예요\n",
            "AI점원 : 네 \n",
            "\n",
            "\n",
            "고객 :  여기 가격 은 그대로 파시 는 거 예요\n",
            "정답점원 : 네 핸드 메이드 로 해가지고 그 가격 으로 팔아요\n",
            "AI점원 : 네 \n",
            "\n",
            "\n",
            "고객 :  착용 해볼 수 있어요\n",
            "정답점원 : 네 가능하세요\n",
            "AI점원 : 네 알겠습니다 \n",
            "\n",
            "\n",
            "고객 :  이 거 는 요즘 들어온 거 예요\n",
            "정답점원 : 네 어제 들어왔어요\n",
            "AI점원 : 네 \n",
            "\n",
            "\n",
            "고객 :  세탁 은 물 세탁 되죠\n",
            "정답점원 : 끝 부분 이 가죽 이라서 조심해야 해 요\n",
            "AI점원 : 네 \n",
            "\n",
            "\n",
            "고객 :  지금 여기 있는 게 다예 요\n",
            "정답점원 : 네 다예 요\n",
            "AI점원 : 네 \n",
            "\n",
            "\n",
            "고객 :  몇 시 에 문 닫아요\n",
            "정답점원 : 8시 까지 합니다\n",
            "AI점원 : 그거 는 삼만 원 이에요 \n",
            "\n",
            "\n",
            "고객 :  일요일 도 하세요\n",
            "정답점원 : 아뇨 닫아요\n",
            "AI점원 : 네 \n",
            "\n",
            "\n",
            "고객 :  스카프 있어요\n",
            "정답점원 : 네 여기는 2 단 이 거 는 3 단 제품 있어요\n",
            "AI점원 : 네 이 쪽 에 있습니다 \n",
            "\n",
            "\n",
            "고객 :  이런 건 세탁 을 어떻게 해 요\n",
            "정답점원 : 울 샴푸 를 물 에 몇 방울 떨어뜨려서 조물조물 하면 됩니다\n",
            "AI점원 : 네 \n",
            "\n",
            "\n",
            "고객 :  원단 은 뭐 예요\n",
            "정답점원 : 원단 이 구김 안 가고 참 괜찮아요\n",
            "AI점원 : 네 \n",
            "\n",
            "\n",
            "고객 :  얼마 인데 요\n",
            "정답점원 : 2만 원 입니다\n",
            "AI점원 : 그 가방 은 이만 원 이에요 \n",
            "\n",
            "\n",
            "고객 :  브로치 같은 건 어디 있나요\n",
            "정답점원 : 여기 있는 거 밖에 없어요\n",
            "AI점원 : 이 거 는 어떠세요 \n",
            "\n",
            "\n",
            "고객 :  이런 거도 2만 원 이예 요\n",
            "정답점원 : 헤르메스 인데 이 것 도 괜찮아요\n",
            "AI점원 : 네 \n",
            "\n",
            "\n",
            "고객 :  명품 이랑 똑같이 한 거 예요\n",
            "정답점원 : 네 원단 만 다르고 디자인 을 똑같이 만든 거 예요\n",
            "AI점원 : 네 \n",
            "\n",
            "\n",
            "고객 :  온누리 상품권 도 되죠\n",
            "정답점원 : 네 됩니다\n",
            "AI점원 : 네 가능합니다 \n",
            "\n",
            "\n",
            "고객 :  브로치 하고 머리핀 하고 보려고요\n",
            "정답점원 : 머리핀 은 밖에 있고 브로치 는 안 에 있습니다\n",
            "AI점원 : 네 \n",
            "\n",
            "\n",
            "고객 :  도자기 같은 거 말고 구슬 이나 진주 같은 거 는 없어요\n",
            "정답점원 : 지금 옷 에 가볍게 하려면 진주 도 예쁘지만 이 것 도 깔끔합니다 보석 은 싫으세요\n",
            "AI점원 : 네 \n",
            "\n",
            "\n",
            "고객 :  그건 흥미 없고 안 에 하면 안 떨어져요\n",
            "정답점원 : 안 떨어져요\n",
            "AI점원 : 네 \n",
            "\n",
            "\n",
            "고객 :  얼마 예요\n",
            "정답점원 : 핀 꼽는 거 는 좀 싼 거고 이 거 는 3만 원대 예요\n",
            "AI점원 : 그 가방 은 이만 원 이에요 \n",
            "\n",
            "\n",
            "고객 :  이 우산 은 얼마 인데 요\n",
            "정답점원 : 4만 2천 원 이요\n",
            "AI점원 : 이 거 는 삼만 원 이에요 \n",
            "\n",
            "\n",
            "고객 :  무겁지 않아요\n",
            "정답점원 : 좋은 재료 를 쓰기 때문 에 무겁지 않아요\n",
            "AI점원 : 네 \n",
            "\n",
            "\n",
            "고객 :  이렇게 다는 거 맞아요\n",
            "정답점원 : 그렇게 달 면 안되고 이렇게 달아야 해 요\n",
            "AI점원 : 네 \n",
            "\n",
            "\n",
            "고객 :  자석 은 다 3만 원\n",
            "정답점원 : 3만 원 짜 리도 있고 2만 원 짜 리도 있어요\n",
            "AI점원 : 네 \n",
            "\n",
            "\n",
            "고객 :  머리핀 종류 도 한 번 보여주세요 곱창 은 요새 안 나와요\n",
            "정답점원 : 곱창 밴드 는 안 나와요 촌스러워서 유행 다 지났어요\n",
            "AI점원 : 네 \n",
            "\n",
            "\n",
            "고객 :  브로치 종류 도 있어요\n",
            "정답점원 : 아뇨 없어요\n",
            "AI점원 : 네 \n",
            "\n",
            "\n",
            "고객 :  스카프 도 없어요\n",
            "정답점원 : 스카프 는 이 쪽 에 종류 가 있어요\n",
            "AI점원 : 네 \n",
            "\n",
            "\n",
            "고객 :  이런 거 실크 입 니까\n",
            "정답점원 : 실크 아니예요\n",
            "AI점원 : 네 \n",
            "\n",
            "\n",
            "고객 :  이런 거 는 뭐라 그래요\n",
            "정답점원 : 실캣 으로 만든 거 죠\n",
            "AI점원 : 네 \n",
            "\n",
            "\n",
            "고객 :  이런 거 는 얼마 예요\n",
            "정답점원 : 대충 2만 원 내외 요\n",
            "AI점원 : 이 거 는 삼만 원 이에요 \n",
            "\n",
            "\n",
            "고객 :  이런 거 는 물 세탁 됩니까\n",
            "정답점원 : 물 세탁 조금 해도 상관 은 없으세요\n",
            "AI점원 : 네 \n",
            "\n",
            "\n",
            "고객 :  근데 이 거 제 가 한 거 아닌데 약간 올이 나갔네요\n",
            "정답점원 : 이 거 원하시면 주문 가능하세요\n",
            "AI점원 : 네 그럼요 \n",
            "\n",
            "\n",
            "고객 :  또 언제 들어와요\n",
            "정답점원 : 스카프 는 많이 들어오지 않아서 주문 하시는 게 좋아요\n",
            "AI점원 : 네 \n",
            "\n",
            "\n",
            "고객 :  이 거 는 목걸이 링 이에요\n",
            "정답점원 : 아뇨 반지 예요\n",
            "AI점원 : 네 \n",
            "\n",
            "\n",
            "고객 :  금 이에요\n",
            "정답점원 : 액세서리 예요 금 아니예요\n",
            "AI점원 : 네 \n",
            "\n",
            "\n",
            "고객 :  이 거 한 번 해봐도 돼요\n",
            "정답점원 : 네 가능합니다\n",
            "AI점원 : 네 \n",
            "\n",
            "\n",
            "고객 :  신 상품 더 들어오죠\n",
            "정답점원 : 네 들어올 거 예요\n",
            "AI점원 : 네 \n",
            "\n",
            "\n",
            "고객 :  이 모양 으로 목걸이 팔찌 세트 구입 할까 하는데\n",
            "정답점원 : 똑같은 모양 은 주문 을 넣어야 할 거 같은데요\n",
            "AI점원 : 네 \n",
            "\n",
            "\n",
            "고객 :  가격 은 어떻게 돼요\n",
            "정답점원 : 모양 을 보고 견적 을 내 봐야 해 요\n",
            "AI점원 : 이 거 는 없어요 \n",
            "\n",
            "\n",
            "고객 :  이 금 팔찌 는 무게 가 얼마 정도 인지 확인 할 수 있어요\n",
            "정답점원 : 세 돈 이 조금 넘네요\n",
            "AI점원 : 그거 는 만 원 이에요 \n",
            "\n",
            "\n",
            "고객 :  견본 인 팔찌 가 있어요\n",
            "정답점원 : 여기 있습니다\n",
            "AI점원 : 네 잠시 만 기다려주세요 \n",
            "\n",
            "\n",
            "고객 :  여기는 금 매입 도 해 요\n",
            "정답점원 : 네 해 요\n",
            "AI점원 : 네 \n",
            "\n",
            "\n",
            "고객 :  이 거 판다 고 얼마 정도 받을 수 있어요\n",
            "정답점원 : 대충 39만 3천 원 정도 나오네요\n",
            "AI점원 : 그 가방 은 이만 원 이에요 \n",
            "\n",
            "\n",
            "고객 :  팔찌 두 돈 짜 리도 한 번 보여주시고 다른 거도 보여주세요\n",
            "정답점원 : 유행 하는 로 즈 골드 하셔도 되고 골드 하셔도 돼요\n",
            "AI점원 : 네 \n",
            "\n",
            "\n",
            "고객 :  가격 이 구입 하려면 얼마 인데 요\n",
            "정답점원 : 현금 가격 기준 으로 62만 9천 원 이요\n",
            "AI점원 : 이 거 는 삼만 원 이에요 \n",
            "\n",
            "\n",
            "고객 :  이 거 18 케이 예요\n",
            "정답점원 : 네 18 케이 예요\n",
            "AI점원 : 네 \n",
            "\n",
            "\n",
            "고객 :  시내 에 있는 금 도매 상 하고 여기 랑 가격 차이 가 많이 나 요\n",
            "정답점원 : 그 쪽 은 유지비 가 많이 나가니까 아무래도 여기 가 더 싸죠\n",
            "AI점원 : 네 \n",
            "\n",
            "\n",
            "고객 :  액세서리 세 일 제품 이 있나요\n",
            "정답점원 : 악세서리 어떤 거 찾으세요\n",
            "AI점원 : 네 \n",
            "\n",
            "\n",
            "고객 :  스카프 같은 거\n",
            "정답점원 : 이 거 괜찮아요\n",
            "AI점원 : 네 잠시 만 기다려주세요 \n",
            "\n",
            "\n",
            "고객 :  이건 소재 가 뭐 예요\n",
            "정답점원 : 폴리에스테르 라고 적혀 있네요\n",
            "AI점원 : 네 \n",
            "\n",
            "\n",
            "고객 :  색상 은 이 거 하나 뿐 이고\n",
            "정답점원 : 네 다 빠지고 이 거 하나 예요\n",
            "AI점원 : 네 \n",
            "\n",
            "\n",
            "고객 :  빨 면 좀 그렇지 않을까\n",
            "정답점원 : 조심해야 하는데 면 이 아니니까 집 에서 손 드라이 해도 돼요\n",
            "AI점원 : 네 \n",
            "\n",
            "\n",
            "고객 :  이 거 는 가격 이 얼마 예요\n",
            "정답점원 : 16000원 인데 몇 천 원 빼 드릴게요\n",
            "AI점원 : 이 거 는 삼만 원 이에요 \n",
            "\n",
            "\n",
            "고객 :  이건 얼마 예요\n",
            "정답점원 : 13000원 입니다\n",
            "AI점원 : 그 가방 은 이만 원 이에요 \n",
            "\n",
            "\n",
            "고객 :  이 핑크색 모자 는 애기 들 꺼예요\n",
            "정답점원 : 애기 용 입니다\n",
            "AI점원 : 네 \n",
            "\n",
            "\n",
            "고객 :  어른 들 꺼는 없어요\n",
            "정답점원 : 다 빠졌어요\n",
            "AI점원 : 네 \n",
            "\n",
            "\n",
            "고객 :  팔찌 제품 따로 있나요\n",
            "정답점원 : 고객 님 이 하실 거 예요\n",
            "AI점원 : 네 이 쪽 에 있습니다 \n",
            "\n",
            "\n",
            "고객 :  네 지금 세 일 기간 이에요\n",
            "정답점원 : 네 당분간 은 할 거 같아요\n",
            "AI점원 : 네 \n",
            "\n",
            "\n",
            "고객 :  한 몇 프로 하는데요\n",
            "정답점원 : 정가 에서 한 40 프로 합니다\n",
            "AI점원 : 네 \n",
            "\n",
            "\n",
            "고객 :  이 거 는 가격 대가 얼마 예요\n",
            "정답점원 : 이 거 샘플 이 14 케이 인데 뭘 로 봐 드릴 까요\n",
            "AI점원 : 이 거 는 삼만 원 이에요 \n",
            "\n",
            "\n",
            "고객 :  18 케이 로\n",
            "정답점원 : 18 케이 로 하시면 49만 원 이요\n",
            "AI점원 : 네 \n",
            "\n",
            "\n",
            "고객 :  팔찌 좀 핫 한 제품 뭐 가 있어요\n",
            "정답점원 : 깔끔하게 이런 거 잘나가요\n",
            "AI점원 : 네 \n",
            "\n",
            "\n",
            "고객 :  18 케이 예요\n",
            "정답점원 : 네 맞아요\n",
            "AI점원 : 네 \n",
            "\n",
            "\n",
            "고객 :  돈 수로 따지면 몇 돈 이에요\n",
            "정답점원 : 두 돈반 조금 안 돼요\n",
            "AI점원 : 네 \n",
            "\n",
            "\n",
            "고객 :  얼마 예요\n",
            "정답점원 : 48만 원 정도 요\n",
            "AI점원 : 그 가방 은 이만 원 이에요 \n",
            "\n",
            "\n",
            "고객 :  굵은 게 이 거 다예 요\n",
            "정답점원 : 5 돈 6 돈 짜 리도 있어요 굵은 거 찾으시면 이런 건 어떠세요\n",
            "AI점원 : 네 \n",
            "\n",
            "\n",
            "고객 :  너무 사치스러운데 핸드폰 케이스 파는 거 예요\n",
            "정답점원 : 네 맞습니다\n",
            "AI점원 : 네 \n",
            "\n",
            "\n",
            "고객 :  여기는 가격 이 어떤 게 있어요\n",
            "정답점원 : 기 종이 어떻게 되죠\n",
            "AI점원 : 네 \n",
            "\n",
            "\n",
            "고객 :  엘지 인데\n",
            "정답점원 : 만 오천 원대 부터 시작 해서 이만 오천 원 까지 있습니다\n",
            "AI점원 : 네 \n",
            "\n",
            "\n",
            "고객 :  그건 얼마 예요\n",
            "정답점원 : 3만 원 정도 해 요\n",
            "AI점원 : 그 가방 은 이만 원 이에요 \n",
            "\n",
            "\n",
            "고객 :  색상 은 이 게 전부 예요\n",
            "정답점원 : 레드 색 인데 핑크 도 있고 보랏빛 퍼플 색도 있고 색상 종류 가 다양해요\n",
            "AI점원 : 네 \n",
            "\n",
            "\n",
            "고객 :  엘지 지 식스 케이스 로 좀 보여주세요\n",
            "정답점원 : 그 기종은 여기 있어요\n",
            "AI점원 : 네 \n",
            "\n",
            "\n",
            "고객 :  이건 얼마 예요\n",
            "정답점원 : 3만 5천 원 입니다\n",
            "AI점원 : 그 가방 은 이만 원 이에요 \n",
            "\n",
            "\n",
            "고객 :  현금 으로 사면 할인 이 된다거나 그런 게 있나요\n",
            "정답점원 : 현금 으로 하면 좀 디씨 해드려요\n",
            "AI점원 : 네 \n",
            "\n",
            "\n",
            "고객 :  반지 이 거 세척 가능해요\n",
            "정답점원 : 월요일 에 해야 해 요\n",
            "AI점원 : 네 \n",
            "\n",
            "\n"
          ],
          "name": "stdout"
        }
      ]
    },
    {
      "cell_type": "code",
      "metadata": {
        "id": "fOBDpAVqFOW_"
      },
      "source": [
        ""
      ],
      "execution_count": null,
      "outputs": []
    }
  ]
}