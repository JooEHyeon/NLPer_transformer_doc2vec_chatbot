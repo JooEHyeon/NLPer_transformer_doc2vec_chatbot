{
  "nbformat": 4,
  "nbformat_minor": 0,
  "metadata": {
    "kernelspec": {
      "display_name": "Python 3",
      "language": "python",
      "name": "python3"
    },
    "language_info": {
      "codemirror_mode": {
        "name": "ipython",
        "version": 3
      },
      "file_extension": ".py",
      "mimetype": "text/x-python",
      "name": "python",
      "nbconvert_exporter": "python",
      "pygments_lexer": "ipython3",
      "version": "3.6.5"
    },
    "colab": {
      "name": "Chatbot_Transformer_okt.ipynb",
      "provenance": [],
      "collapsed_sections": [
        "9UA-8fQ2EDnp",
        "ioT3c4eLEKon",
        "HhVVnW_uEWT1",
        "lsf4tJl61Xi9",
        "Pav-8Jd3ydzp"
      ],
      "toc_visible": true,
      "machine_shape": "hm",
      "include_colab_link": true
    },
    "accelerator": "GPU"
  },
  "cells": [
    {
      "cell_type": "markdown",
      "metadata": {
        "id": "view-in-github",
        "colab_type": "text"
      },
      "source": [
        "<a href=\"https://colab.research.google.com/github/ideablast/NLPer_chatbot/blob/toram/Chatbot_Transformer_okt.ipynb\" target=\"_parent\"><img src=\"https://colab.research.google.com/assets/colab-badge.svg\" alt=\"Open In Colab\"/></a>"
      ]
    },
    {
      "cell_type": "code",
      "metadata": {
        "id": "RsiilWsMNHHL",
        "outputId": "6d31f7a3-af53-433d-85f1-71ccb6c663f6",
        "colab": {
          "base_uri": "https://localhost:8080/"
        }
      },
      "source": [
        "!pip install konlpy"
      ],
      "execution_count": 1,
      "outputs": [
        {
          "output_type": "stream",
          "text": [
            "Collecting konlpy\n",
            "\u001b[?25l  Downloading https://files.pythonhosted.org/packages/85/0e/f385566fec837c0b83f216b2da65db9997b35dd675e107752005b7d392b1/konlpy-0.5.2-py2.py3-none-any.whl (19.4MB)\n",
            "\u001b[K     |████████████████████████████████| 19.4MB 1.2MB/s \n",
            "\u001b[?25hCollecting colorama\n",
            "  Downloading https://files.pythonhosted.org/packages/44/98/5b86278fbbf250d239ae0ecb724f8572af1c91f4a11edf4d36a206189440/colorama-0.4.4-py2.py3-none-any.whl\n",
            "Collecting tweepy>=3.7.0\n",
            "  Downloading https://files.pythonhosted.org/packages/bb/7c/99d51f80f3b77b107ebae2634108717362c059a41384a1810d13e2429a81/tweepy-3.9.0-py2.py3-none-any.whl\n",
            "Collecting JPype1>=0.7.0\n",
            "\u001b[?25l  Downloading https://files.pythonhosted.org/packages/fd/96/1030895dea70855a2e1078e3fe0d6a63dcb7c212309e07dc9ee39d33af54/JPype1-1.1.2-cp36-cp36m-manylinux2010_x86_64.whl (450kB)\n",
            "\u001b[K     |████████████████████████████████| 460kB 53.5MB/s \n",
            "\u001b[?25hRequirement already satisfied: numpy>=1.6 in /usr/local/lib/python3.6/dist-packages (from konlpy) (1.18.5)\n",
            "Collecting beautifulsoup4==4.6.0\n",
            "\u001b[?25l  Downloading https://files.pythonhosted.org/packages/9e/d4/10f46e5cfac773e22707237bfcd51bbffeaf0a576b0a847ec7ab15bd7ace/beautifulsoup4-4.6.0-py3-none-any.whl (86kB)\n",
            "\u001b[K     |████████████████████████████████| 92kB 3.8MB/s \n",
            "\u001b[?25hRequirement already satisfied: lxml>=4.1.0 in /usr/local/lib/python3.6/dist-packages (from konlpy) (4.2.6)\n",
            "Requirement already satisfied: six>=1.10.0 in /usr/local/lib/python3.6/dist-packages (from tweepy>=3.7.0->konlpy) (1.15.0)\n",
            "Requirement already satisfied: requests-oauthlib>=0.7.0 in /usr/local/lib/python3.6/dist-packages (from tweepy>=3.7.0->konlpy) (1.3.0)\n",
            "Requirement already satisfied: requests[socks]>=2.11.1 in /usr/local/lib/python3.6/dist-packages (from tweepy>=3.7.0->konlpy) (2.23.0)\n",
            "Requirement already satisfied: typing-extensions; python_version < \"3.8\" in /usr/local/lib/python3.6/dist-packages (from JPype1>=0.7.0->konlpy) (3.7.4.3)\n",
            "Requirement already satisfied: oauthlib>=3.0.0 in /usr/local/lib/python3.6/dist-packages (from requests-oauthlib>=0.7.0->tweepy>=3.7.0->konlpy) (3.1.0)\n",
            "Requirement already satisfied: chardet<4,>=3.0.2 in /usr/local/lib/python3.6/dist-packages (from requests[socks]>=2.11.1->tweepy>=3.7.0->konlpy) (3.0.4)\n",
            "Requirement already satisfied: urllib3!=1.25.0,!=1.25.1,<1.26,>=1.21.1 in /usr/local/lib/python3.6/dist-packages (from requests[socks]>=2.11.1->tweepy>=3.7.0->konlpy) (1.24.3)\n",
            "Requirement already satisfied: idna<3,>=2.5 in /usr/local/lib/python3.6/dist-packages (from requests[socks]>=2.11.1->tweepy>=3.7.0->konlpy) (2.10)\n",
            "Requirement already satisfied: certifi>=2017.4.17 in /usr/local/lib/python3.6/dist-packages (from requests[socks]>=2.11.1->tweepy>=3.7.0->konlpy) (2020.6.20)\n",
            "Requirement already satisfied: PySocks!=1.5.7,>=1.5.6; extra == \"socks\" in /usr/local/lib/python3.6/dist-packages (from requests[socks]>=2.11.1->tweepy>=3.7.0->konlpy) (1.7.1)\n",
            "Installing collected packages: colorama, tweepy, JPype1, beautifulsoup4, konlpy\n",
            "  Found existing installation: tweepy 3.6.0\n",
            "    Uninstalling tweepy-3.6.0:\n",
            "      Successfully uninstalled tweepy-3.6.0\n",
            "  Found existing installation: beautifulsoup4 4.6.3\n",
            "    Uninstalling beautifulsoup4-4.6.3:\n",
            "      Successfully uninstalled beautifulsoup4-4.6.3\n",
            "Successfully installed JPype1-1.1.2 beautifulsoup4-4.6.0 colorama-0.4.4 konlpy-0.5.2 tweepy-3.9.0\n"
          ],
          "name": "stdout"
        }
      ]
    },
    {
      "cell_type": "markdown",
      "metadata": {
        "id": "9UA-8fQ2EDnp"
      },
      "source": [
        "## Import"
      ]
    },
    {
      "cell_type": "code",
      "metadata": {
        "id": "1DAFy5c7ydzC"
      },
      "source": [
        "from keras import models\n",
        "from keras import layers\n",
        "from keras import optimizers, losses, metrics\n",
        "from keras import preprocessing\n",
        "\n",
        "import tensorflow as tf\n",
        "import numpy as np\n",
        "import pandas as pd\n",
        "import matplotlib.pyplot as plt\n",
        "import os\n",
        "import re\n",
        "\n",
        "from konlpy.tag import Okt"
      ],
      "execution_count": 2,
      "outputs": []
    },
    {
      "cell_type": "markdown",
      "metadata": {
        "id": "ioT3c4eLEKon"
      },
      "source": [
        "## Hyperparameter"
      ]
    },
    {
      "cell_type": "code",
      "metadata": {
        "id": "P9YUdE1OydzG"
      },
      "source": [
        "# 태그 단어\n",
        "PAD = \"<PADDING>\"   # 패딩\n",
        "STA = \"<START>\"     # 시작\n",
        "END = \"<END>\"       # 끝\n",
        "OOV = \"<OOV>\"       # 없는 단어(Out of Vocabulary)\n",
        "\n",
        "# 태그 인덱스\n",
        "PAD_INDEX = 0\n",
        "STA_INDEX = 1\n",
        "END_INDEX = 2\n",
        "OOV_INDEX = 3\n",
        "\n",
        "# 데이터 타입\n",
        "ENCODER_INPUT  = 0\n",
        "DECODER_INPUT  = 1\n",
        "DECODER_TARGET = 2\n",
        "\n",
        "# Hyper-parameters\n",
        "NUM_LAYERS = 2\n",
        "D_MODEL = 256 ##word embedding dim\n",
        "NUM_HEADS = 8 ## D_Model % NUM_HEADS == 0이 되야하므로...\n",
        "UNITS = 512\n",
        "DROPOUT = 0.1\n",
        "EPOCHS = 50\n",
        "# for data pipelining\n",
        "BATCH_SIZE = 64\n",
        "BUFFER_SIZE = 1000\n",
        "\n",
        "VOCAB_SIZE = 0 # 후에 len(words) 로 바뀜.\n",
        "\n",
        "# 한 문장에서 단어 시퀀스의 최대 개수\n",
        "max_sequences = 30\n",
        "\n",
        "# 정규 표현식 필터\n",
        "RE_FILTER = re.compile(\"[\\\"':;~()]\")"
      ],
      "execution_count": 3,
      "outputs": []
    },
    {
      "cell_type": "markdown",
      "metadata": {
        "id": "HhVVnW_uEWT1"
      },
      "source": [
        "## Data Load & Preprocessing"
      ]
    },
    {
      "cell_type": "code",
      "metadata": {
        "id": "80IauV0FpUv2",
        "outputId": "2a60d999-b006-4119-8450-7b8b13e316ae",
        "colab": {
          "base_uri": "https://localhost:8080/"
        }
      },
      "source": [
        "from google.colab import drive\n",
        "drive.mount('/content/drive')"
      ],
      "execution_count": 5,
      "outputs": [
        {
          "output_type": "stream",
          "text": [
            "Drive already mounted at /content/drive; to attempt to forcibly remount, call drive.mount(\"/content/drive\", force_remount=True).\n"
          ],
          "name": "stdout"
        }
      ]
    },
    {
      "cell_type": "code",
      "metadata": {
        "id": "NEHDnPXNzZlM",
        "outputId": "95767219-1c0e-41f6-f30e-fb8d46a19233",
        "colab": {
          "base_uri": "https://localhost:8080/"
        }
      },
      "source": [
        "wear_data = pd.read_csv(\"/content/drive/My Drive/wear.csv\")\n",
        "print(wear_data.shape)\n",
        "customer = wear_data[wear_data.SPEAKER == \"고객\"].SENTENCE\n",
        "store = wear_data[wear_data.SPEAKER == \"점원\"].SENTENCE\n",
        "print(customer.shape, store.shape) # 질문의 개수와 답의 개수가 일치하지 않는다."
      ],
      "execution_count": 6,
      "outputs": [
        {
          "output_type": "stream",
          "text": [
            "(15826, 20)\n",
            "(8381,) (7445,)\n"
          ],
          "name": "stdout"
        }
      ]
    },
    {
      "cell_type": "code",
      "metadata": {
        "id": "FLNSiqcHM4WY",
        "outputId": "63b2ceef-3aaf-48b8-a41b-94f909d0108f",
        "colab": {
          "base_uri": "https://localhost:8080/"
        }
      },
      "source": [
        "prev = \"고객\"\n",
        "store_arr = []\n",
        "customer_arr = []\n",
        "store_stc = \"\"\n",
        "customer_stc = \"\"\n",
        "\n",
        "for i in range(wear_data.shape[0]):\n",
        "    if (prev == wear_data.iloc[i].SPEAKER):\n",
        "        if prev == \"점원\":\n",
        "             store_stc += (\" \"+wear_data.iloc[i].SENTENCE)\n",
        "        else : \n",
        "             customer_stc += (\" \"+wear_data.iloc[i].SENTENCE)\n",
        "            \n",
        "    elif prev == \"점원\":\n",
        "        store_arr.append(store_stc)\n",
        "        customer_stc = wear_data.iloc[i].SENTENCE\n",
        "        prev = \"고객\"\n",
        "    else :\n",
        "        customer_arr.append(customer_stc)\n",
        "        store_stc = wear_data.iloc[i].SENTENCE\n",
        "        prev = \"점원\"\n",
        "\n",
        "print(len(store_arr))\n",
        "print(len(customer_arr))\n",
        "print(store_arr[-1])\n",
        "print(customer_arr[-1]) # 자료 상에서 이후에는 계속 고객의 물음만 계속된다. 코드 레벨에서 이 부분은 빼게 구현했다. (stc는 만들어지지만 arr에 append 안하게 된다.)"
      ],
      "execution_count": 7,
      "outputs": [
        {
          "output_type": "stream",
          "text": [
            "7301\n",
            "7301\n",
            "요즘 파스텔 톤이 유행이에요\n",
            "요즘 유행하는 색깔이 뭐예요?\n"
          ],
          "name": "stdout"
        }
      ]
    },
    {
      "cell_type": "code",
      "metadata": {
        "id": "WNvig2FMzjXj",
        "outputId": "840c197d-b159-4680-f56f-8611a43c2cd7",
        "colab": {
          "base_uri": "https://localhost:8080/"
        }
      },
      "source": [
        "question = []\n",
        "answer = []\n",
        "\n",
        "for Q in customer_arr:\n",
        "    question.append(Q.replace(\"[^\\w]\", \" \"))\n",
        "\n",
        "for A in store_arr:\n",
        "    answer.append(A.replace(\"[^\\w]\", \" \"))\n",
        "\n",
        "len(question), len(answer)"
      ],
      "execution_count": 8,
      "outputs": [
        {
          "output_type": "execute_result",
          "data": {
            "text/plain": [
              "(7301, 7301)"
            ]
          },
          "metadata": {
            "tags": []
          },
          "execution_count": 8
        }
      ]
    },
    {
      "cell_type": "code",
      "metadata": {
        "id": "qbivSckMydzN"
      },
      "source": [
        "# 형태소분석 함수\n",
        "def pos_tag(sentences):\n",
        "    \n",
        "    # KoNLPy 형태소분석기 설정\n",
        "    tagger = Okt()\n",
        "    \n",
        "    # 문장 품사 변수 초기화\n",
        "    sentences_pos = []\n",
        "    \n",
        "    # 모든 문장 반복\n",
        "    for sentence in sentences:\n",
        "        # [\\\"':;~()] 특수기호 제거\n",
        "        sentence = re.sub(RE_FILTER, \"\", sentence)\n",
        "        \n",
        "        # 배열인 형태소분석의 출력을 띄어쓰기로 구분하여 붙임\n",
        "        sentence = \" \".join(tagger.morphs(sentence))\n",
        "        sentences_pos.append(sentence)\n",
        "        \n",
        "    return sentences_pos"
      ],
      "execution_count": 9,
      "outputs": []
    },
    {
      "cell_type": "code",
      "metadata": {
        "id": "4seqSNWcydzP",
        "outputId": "91257f8e-1ffa-47c6-b7b5-936785be4f49",
        "colab": {
          "base_uri": "https://localhost:8080/"
        }
      },
      "source": [
        "# 형태소분석 수행\n",
        "question = pos_tag(question)\n",
        "answer = pos_tag(answer)\n",
        "\n",
        "# 형태소분석으로 변환된 챗봇 데이터 출력\n",
        "for i in range(5):\n",
        "    print('Q : ' + question[i])\n",
        "    print('A : ' + answer[i])\n",
        "    print()\n"
      ],
      "execution_count": 10,
      "outputs": [
        {
          "output_type": "stream",
          "text": [
            "Q : 신발 은 여기 있는 게 다예 요 ?\n",
            "A : 네 성인 이나 아동 다 있어요 발 사이즈 몇 신으세요 ?\n",
            "\n",
            "Q : 230 이요\n",
            "A : 편하게 신 을 수 있는 거 찾으세요 ?\n",
            "\n",
            "Q : 네 봄 이니까 편하게 신 을 수 있는 거\n",
            "A : 이런 건 어떠세요 ? 이런 거도 신발 무척 편하거든요\n",
            "\n",
            "Q : 굽 좀 높은 거 없나요 ?\n",
            "A : 봄 상품 은 아직 어른 제품 이 많이 안 나왔습니다\n",
            "\n",
            "Q : 언제 들어와요 ?\n",
            "A : 이번 주 지나면 들어올 거 예요\n",
            "\n"
          ],
          "name": "stdout"
        }
      ]
    },
    {
      "cell_type": "code",
      "metadata": {
        "id": "Yrnct_nzydzR"
      },
      "source": [
        "# 질문과 대답 문장들을 하나로 합침\n",
        "sentences = []\n",
        "sentences.extend(question)\n",
        "sentences.extend(answer)\n",
        "\n",
        "words = []\n",
        "\n",
        "# 단어들의 배열 생성\n",
        "for sentence in sentences:\n",
        "    for word in sentence.split():\n",
        "        words.append(word)\n",
        "\n",
        "# 길이가 0인 단어는 삭제\n",
        "words = [word for word in words if len(word) > 0]\n",
        "\n",
        "# 중복된 단어 삭제\n",
        "words = list(set(words))\n",
        "\n",
        "# 제일 앞에 태그 단어 삽입\n",
        "words[:0] = [PAD, STA, END, OOV]"
      ],
      "execution_count": 11,
      "outputs": []
    },
    {
      "cell_type": "code",
      "metadata": {
        "id": "fE9ZhJpEy_rT",
        "outputId": "e23ca3ef-ac9e-4e35-b919-5aab63dcef41",
        "colab": {
          "base_uri": "https://localhost:8080/"
        }
      },
      "source": [
        "VOCAB_SIZE = len(words)\n",
        "print(\"손님과 점원의 말에서 사용된 총 단어의 수 :\",len(words))"
      ],
      "execution_count": 12,
      "outputs": [
        {
          "output_type": "stream",
          "text": [
            "손님과 점원의 말에서 사용된 총 단어의 수 : 6409\n"
          ],
          "name": "stdout"
        }
      ]
    },
    {
      "cell_type": "code",
      "metadata": {
        "id": "AkvyOnSvydzX"
      },
      "source": [
        "# 단어와 인덱스의 딕셔너리 생성\n",
        "word_to_index = {word: index for index, word in enumerate(words)}\n",
        "index_to_word = {index: word for index, word in enumerate(words)}"
      ],
      "execution_count": 13,
      "outputs": []
    },
    {
      "cell_type": "code",
      "metadata": {
        "id": "rfoTztrvydzc"
      },
      "source": [
        "# 문장을 인덱스로 변환\n",
        "def convert_text_to_index(sentences, vocabulary, type): \n",
        "    \n",
        "    sentences_index = []\n",
        "    \n",
        "    # 모든 문장에 대해서 반복\n",
        "    for sentence in sentences:\n",
        "        sentence_index = []\n",
        "        \n",
        "        # 디코더 입력일 경우 맨 앞에 START 태그 추가\n",
        "        if type == DECODER_INPUT:\n",
        "            sentence_index.extend([vocabulary[STA]])\n",
        "        \n",
        "        # 문장의 단어들을 띄어쓰기로 분리\n",
        "        for word in sentence.split():\n",
        "            if vocabulary.get(word) is not None:\n",
        "                # 사전에 있는 단어면 해당 인덱스를 추가\n",
        "                sentence_index.extend([vocabulary[word]])\n",
        "            else:\n",
        "                # 사전에 없는 단어면 OOV 인덱스를 추가\n",
        "                sentence_index.extend([vocabulary[OOV]])\n",
        "\n",
        "        # 최대 길이 검사\n",
        "        if type == DECODER_TARGET:\n",
        "            # 디코더 목표일 경우 맨 뒤에 END 태그 추가\n",
        "            if len(sentence_index) >= max_sequences:\n",
        "                sentence_index = sentence_index[:max_sequences-1] + [vocabulary[END]]\n",
        "            else:\n",
        "                sentence_index += [vocabulary[END]]\n",
        "        else:\n",
        "            if len(sentence_index) > max_sequences:\n",
        "                sentence_index = sentence_index[:max_sequences]\n",
        "            \n",
        "        # 최대 길이에 없는 공간은 패딩 인덱스로 채움\n",
        "        sentence_index += (max_sequences - len(sentence_index)) * [vocabulary[PAD]]\n",
        "        \n",
        "        # 문장의 인덱스 배열을 추가\n",
        "        sentences_index.append(sentence_index)\n",
        "\n",
        "    return np.asarray(sentences_index)"
      ],
      "execution_count": 14,
      "outputs": []
    },
    {
      "cell_type": "code",
      "metadata": {
        "id": "zezFPTvcydzf",
        "outputId": "2085a86d-509f-4387-92d6-e9b4b1c42867",
        "colab": {
          "base_uri": "https://localhost:8080/"
        }
      },
      "source": [
        "# 인코더 입력 인덱스 변환\n",
        "x_encoder = convert_text_to_index(question, word_to_index, ENCODER_INPUT)\n",
        "\n",
        "# 첫 번째 인코더 입력 출력 (신발 은 여기 있는 게 다예 요)\n",
        "print(question[0])\n",
        "x_encoder[0]\n"
      ],
      "execution_count": 15,
      "outputs": [
        {
          "output_type": "stream",
          "text": [
            "신발 은 여기 있는 게 다예 요 ?\n"
          ],
          "name": "stdout"
        },
        {
          "output_type": "execute_result",
          "data": {
            "text/plain": [
              "array([1923, 1329,  113, 4966, 6381,  171, 4307, 2788,    0,    0,    0,\n",
              "          0,    0,    0,    0,    0,    0,    0,    0,    0,    0,    0,\n",
              "          0,    0,    0,    0,    0,    0,    0,    0])"
            ]
          },
          "metadata": {
            "tags": []
          },
          "execution_count": 15
        }
      ]
    },
    {
      "cell_type": "code",
      "metadata": {
        "id": "fmql1Lf_ydzh",
        "outputId": "37ebd622-e73a-4b33-84e1-d40beadc1c24",
        "colab": {
          "base_uri": "https://localhost:8080/"
        }
      },
      "source": [
        "# 디코더 입력 인덱스 변환\n",
        "x_decoder = convert_text_to_index(answer, word_to_index, DECODER_INPUT)\n",
        "\n",
        "# 첫 번째 디코더 입력 출력 (<START> 신발 은 여기 있는 게 다예 요)\n",
        "print(question[0])\n",
        "x_decoder[0]\n"
      ],
      "execution_count": 16,
      "outputs": [
        {
          "output_type": "stream",
          "text": [
            "신발 은 여기 있는 게 다예 요 ?\n"
          ],
          "name": "stdout"
        },
        {
          "output_type": "execute_result",
          "data": {
            "text/plain": [
              "array([   1, 5068, 3604, 1511, 2726, 5487, 5795,  207,  886,  861, 4592,\n",
              "       2788,    0,    0,    0,    0,    0,    0,    0,    0,    0,    0,\n",
              "          0,    0,    0,    0,    0,    0,    0,    0])"
            ]
          },
          "metadata": {
            "tags": []
          },
          "execution_count": 16
        }
      ]
    },
    {
      "cell_type": "code",
      "metadata": {
        "id": "-qIhDbaLydzk",
        "outputId": "2f3e9f41-1515-47ca-a6b9-3a05322cb3d0",
        "colab": {
          "base_uri": "https://localhost:8080/"
        }
      },
      "source": [
        "# 디코더 목표 인덱스 변환\n",
        "y_decoder = convert_text_to_index(answer, word_to_index, DECODER_TARGET)\n",
        "\n",
        "# 첫 번째 디코더 입력 출력 (신발 은 여기 있는 게 다예 요 <END>)\n",
        "print(question[0])\n",
        "y_decoder[0]\n"
      ],
      "execution_count": 17,
      "outputs": [
        {
          "output_type": "stream",
          "text": [
            "신발 은 여기 있는 게 다예 요 ?\n"
          ],
          "name": "stdout"
        },
        {
          "output_type": "execute_result",
          "data": {
            "text/plain": [
              "array([5068, 3604, 1511, 2726, 5487, 5795,  207,  886,  861, 4592, 2788,\n",
              "          2,    0,    0,    0,    0,    0,    0,    0,    0,    0,    0,\n",
              "          0,    0,    0,    0,    0,    0,    0,    0])"
            ]
          },
          "metadata": {
            "tags": []
          },
          "execution_count": 17
        }
      ]
    },
    {
      "cell_type": "markdown",
      "metadata": {
        "id": "lsf4tJl61Xi9"
      },
      "source": [
        "## Transformer"
      ]
    },
    {
      "cell_type": "code",
      "metadata": {
        "id": "FsxmXWS41XVd"
      },
      "source": [
        "# decoder inputs use the previous target as input\n",
        "dataset = tf.data.Dataset.from_tensor_slices((\n",
        "    {\n",
        "        'inputs': x_encoder,\n",
        "        'dec_inputs': x_decoder\n",
        "    },\n",
        "    {\n",
        "        'outputs': y_decoder\n",
        "    },\n",
        "))\n",
        "\n",
        "dataset = dataset.cache()\n",
        "dataset = dataset.shuffle(BUFFER_SIZE)\n",
        "dataset = dataset.batch(BATCH_SIZE)\n",
        "dataset = dataset.prefetch(tf.data.experimental.AUTOTUNE)"
      ],
      "execution_count": 18,
      "outputs": []
    },
    {
      "cell_type": "code",
      "metadata": {
        "id": "cstXcPJo4rKD",
        "outputId": "fb34cd4f-eb8b-48bd-a7ca-f555a6b3bcc4",
        "colab": {
          "base_uri": "https://localhost:8080/"
        }
      },
      "source": [
        "dataset"
      ],
      "execution_count": 19,
      "outputs": [
        {
          "output_type": "execute_result",
          "data": {
            "text/plain": [
              "<PrefetchDataset shapes: ({inputs: (None, 30), dec_inputs: (None, 30)}, {outputs: (None, 30)}), types: ({inputs: tf.int64, dec_inputs: tf.int64}, {outputs: tf.int64})>"
            ]
          },
          "metadata": {
            "tags": []
          },
          "execution_count": 19
        }
      ]
    },
    {
      "cell_type": "markdown",
      "metadata": {
        "id": "ZxXCQWvw2jwx"
      },
      "source": [
        "$$\\Large{Attention(Q, K, V) = softmax_k(\\frac{QK^T}{\\sqrt{d_k}}) V} $$"
      ]
    },
    {
      "cell_type": "code",
      "metadata": {
        "id": "eH-k-kk_1_Vu"
      },
      "source": [
        "## scaled dot product Attention\n",
        "def scaled_dot_product_attention(query, key, value, mask):\n",
        "  matmul_qk = tf.matmul(query, key, transpose_b=True) # QK^T\n",
        "\n",
        "  depth = tf.cast(tf.shape(key)[-1], tf.float32)\n",
        "  logits = matmul_qk / tf.math.sqrt(depth) #  QK^T / sqrt(d_k)\n",
        "\n",
        "  if mask is not None:\n",
        "    logits += (mask * -1e9) # zero padding token softmax 결과가 0이 나오도록\n",
        "  \n",
        "  attention_weights = tf.nn.softmax(logits, axis = -1) # softmax(QK^T / sqrt(d_k))\n",
        "\n",
        "  output = tf.matmul(attention_weights, value) # softmax(QK^T / sqrt(d_k)) * V\n",
        "\n",
        "  return output"
      ],
      "execution_count": 20,
      "outputs": []
    },
    {
      "cell_type": "code",
      "metadata": {
        "id": "7orcKMr13xY8"
      },
      "source": [
        "## multi-head attention\n",
        "## each head need (scaled_dot_product_attention)\n",
        "class MultiHeadAttention(tf.keras.layers.Layer):\n",
        "  def __init__(self, d_model, num_heads, name=\"multi_head_attention\"):\n",
        "    super(MultiHeadAttention, self).__init__(name=name)\n",
        "    self.num_heads = num_heads\n",
        "    self.d_model = d_model\n",
        "\n",
        "    assert d_model % self.num_heads == 0 # 128,8\n",
        "\n",
        "    self.depth = d_model // self.num_heads\n",
        "\n",
        "    self.query_dense = tf.keras.layers.Dense(units=d_model)\n",
        "    self.key_dense = tf.keras.layers.Dense(units=d_model)\n",
        "    self.value_dense = tf.keras.layers.Dense(units=d_model)\n",
        "\n",
        "    self.dense = tf.keras.layers.Dense(units=d_model)\n",
        "  \n",
        "  def split_heads(self, inputs, batch_size):\n",
        "    inputs = tf.reshape(inputs, shape=(batch_size,-1,self.num_heads, self.depth))\n",
        "    return tf.transpose(inputs, perm=[0, 2, 1, 3]) ##????\n",
        "  \n",
        "  def call(self, inputs):\n",
        "    query, key, value, mask = inputs['query'], inputs['key'], inputs['value'], inputs['mask']\n",
        "    batch_size = tf.shape(query)[0]\n",
        "\n",
        "    #linear\n",
        "    query = self.query_dense(query)\n",
        "    key = self.key_dense(key)\n",
        "    value = self.value_dense(value)\n",
        "\n",
        "    #split heads\n",
        "    query = self.split_heads(query, batch_size)\n",
        "    key = self.split_heads(key, batch_size)\n",
        "    value = self.split_heads(value, batch_size)\n",
        "\n",
        "    #scaled dot-product attention\n",
        "    scaled_attention = scaled_dot_product_attention(query, key, value, mask)\n",
        "    scaled_attention = tf.transpose(scaled_attention, perm=[0, 2, 1, 3])\n",
        "\n",
        "    #concatenation of heads\n",
        "    concat_attention = tf.reshape(scaled_attention, (batch_size, -1, self.d_model))\n",
        "\n",
        "    #final linear\n",
        "    outputs = self.dense(concat_attention)\n",
        "\n",
        "    return outputs"
      ],
      "execution_count": 21,
      "outputs": []
    },
    {
      "cell_type": "code",
      "metadata": {
        "id": "vmlW0oi89nEC"
      },
      "source": [
        "def create_padding_mask(x):\n",
        "  mask = tf.cast(tf.math.equal(x, 0), tf.float32)\n",
        "  # (batch_size, 1, 1, sequence length)\n",
        "  return mask[:, tf.newaxis, tf.newaxis, :]"
      ],
      "execution_count": 22,
      "outputs": []
    },
    {
      "cell_type": "code",
      "metadata": {
        "id": "37sh3f8P-JUB",
        "outputId": "cf1ca8b6-5e4d-47a4-bada-840321ffb893",
        "colab": {
          "base_uri": "https://localhost:8080/"
        }
      },
      "source": [
        "print(create_padding_mask(tf.constant([[1, 2, 0, 3, 0], [0, 0, 0, 4, 5]])))"
      ],
      "execution_count": 23,
      "outputs": [
        {
          "output_type": "stream",
          "text": [
            "tf.Tensor(\n",
            "[[[[0. 0. 1. 0. 1.]]]\n",
            "\n",
            "\n",
            " [[[1. 1. 1. 0. 0.]]]], shape=(2, 1, 1, 5), dtype=float32)\n"
          ],
          "name": "stdout"
        }
      ]
    },
    {
      "cell_type": "code",
      "metadata": {
        "id": "5W7ld50z3vT2"
      },
      "source": [
        "# it handle mask future tokens in a sequence used decoder. and mask pad tokens\n",
        "def create_look_ahead_mask(x):\n",
        "  seq_len = tf.shape(x)[1]\n",
        "  look_ahead_mask = 1 - tf.linalg.band_part(tf.ones((seq_len, seq_len)), -1, 0)\n",
        "  padding_mask = create_padding_mask(x)\n",
        "  return tf.maximum(look_ahead_mask, padding_mask)"
      ],
      "execution_count": 24,
      "outputs": []
    },
    {
      "cell_type": "code",
      "metadata": {
        "id": "W25teKwt_F80",
        "outputId": "d7c7906b-be58-4f61-ee20-0198267e1151",
        "colab": {
          "base_uri": "https://localhost:8080/"
        }
      },
      "source": [
        "print(create_look_ahead_mask(tf.constant([[1, 2, 0, 4, 5]])))"
      ],
      "execution_count": 25,
      "outputs": [
        {
          "output_type": "stream",
          "text": [
            "tf.Tensor(\n",
            "[[[[0. 1. 1. 1. 1.]\n",
            "   [0. 0. 1. 1. 1.]\n",
            "   [0. 0. 1. 1. 1.]\n",
            "   [0. 0. 1. 0. 1.]\n",
            "   [0. 0. 1. 0. 0.]]]], shape=(1, 1, 5, 5), dtype=float32)\n"
          ],
          "name": "stdout"
        }
      ]
    },
    {
      "cell_type": "markdown",
      "metadata": {
        "id": "pLhXEIJgASo3"
      },
      "source": [
        "Positional encoding\n",
        "\n",
        "since we don't use any rnn, cnn, positional encoding give model position information of words in sentence.\n",
        "\n",
        "positional encoding vector is added to embedding vector\n",
        "\n",
        "$$\\Large{PE_{(pos, 2i)} = sin(pos / 10000^{2i / d_{model}})} $$\n",
        "$$\\Large{PE_{(pos, 2i+1)} = cos(pos / 10000^{2i / d_{model}})} $$"
      ]
    },
    {
      "cell_type": "code",
      "metadata": {
        "id": "B7s19-x3_Hpq"
      },
      "source": [
        "class PositionalEncoding(tf.keras.layers.Layer):\n",
        "  def __init__(self, position, d_model):\n",
        "    super(PositionalEncoding, self).__init__()\n",
        "    self.pos_encoding = self.positional_encoding(position, d_model)\n",
        "  \n",
        "  def get_angles(self, position, i, d_model):\n",
        "    angles = 1 / tf.pow(10000, (2 * (i // 2)) / tf.cast(d_model, tf.float32))\n",
        "    return position * angles #pos/10000^(2i/d_model)\n",
        "\n",
        "  def positional_encoding(self, position, d_model):\n",
        "    angle_rads = self.get_angles(\n",
        "        position = tf.range(position, dtype=tf.float32)[:, tf.newaxis],\n",
        "        i = tf.range(d_model, dtype=tf.float32)[tf.newaxis, :],\n",
        "        d_model = d_model)\n",
        "    sines = tf.math.sin(angle_rads[:, 0::2])\n",
        "    cosines = tf.math.cos(angle_rads[:, 1::2])\n",
        "\n",
        "    pos_encoding = tf.concat([sines, cosines], axis=-1)\n",
        "    pos_encoding = pos_encoding[tf.newaxis, ...]\n",
        "    return tf.cast(pos_encoding, tf.float32)\n",
        "  \n",
        "  def call(self, inputs):\n",
        "    return inputs + self.pos_encoding[:, :tf.shape(inputs)[1], :]"
      ],
      "execution_count": 26,
      "outputs": []
    },
    {
      "cell_type": "markdown",
      "metadata": {
        "id": "oLiumNZZDZGY"
      },
      "source": [
        "### Encoder Layer\n",
        "1. Multi-head attention (with padding mask)\n",
        "2. 2 dense layers followed by dropout\n",
        "\n",
        "also has residual connection followd by a layer normalization."
      ]
    },
    {
      "cell_type": "code",
      "metadata": {
        "id": "oarRWUMLDYnC"
      },
      "source": [
        "def encoder_layer(units, d_model, num_heads, dropout, name=\"encoder_layer\"):\n",
        "  inputs = tf.keras.Input(shape=(None, d_model), name=\"inputs\")\n",
        "  padding_mask = tf.keras.Input(shape=(1, 1, None), name=\"padding_mask\")\n",
        "\n",
        "  attention = MultiHeadAttention(\n",
        "      d_model, num_heads, name=\"attention\")({\n",
        "          'query':inputs,\n",
        "          'key':inputs,\n",
        "          'value':inputs,\n",
        "          'mask':padding_mask\n",
        "      })\n",
        "  attention = tf.keras.layers.Dropout(rate=dropout)(attention)\n",
        "  attention = tf.keras.layers.LayerNormalization(epsilon=1e-6)(inputs + attention)\n",
        "\n",
        "  outputs = tf.keras.layers.Dense(units=units, activation='relu')(attention)\n",
        "  outputs = tf.keras.layers.Dense(units=d_model)(outputs)\n",
        "  outputs = tf.keras.layers.Dropout(rate=dropout)(outputs)\n",
        "  outputs = tf.keras.layers.LayerNormalization(epsilon=1e-6)(attention + outputs)\n",
        "\n",
        "  return tf.keras.Model(inputs=[inputs, padding_mask], outputs=outputs, name=name)"
      ],
      "execution_count": 27,
      "outputs": []
    },
    {
      "cell_type": "markdown",
      "metadata": {
        "id": "N3rO9IcDHGE5"
      },
      "source": [
        "### Encoder\n",
        "1. Input Embedding\n",
        "2. Positional Encoding\n",
        "3. `num_layers` encoder layers\n",
        "\n",
        "Embedding + positional encoding : input\n",
        "\n",
        "going encoder layers.\n",
        "\n",
        "output going decoder"
      ]
    },
    {
      "cell_type": "code",
      "metadata": {
        "id": "uOwoi2_jHvbA"
      },
      "source": [
        "def encoder(vocab_size,\n",
        "            num_layers,\n",
        "            units,\n",
        "            d_model,\n",
        "            num_heads,\n",
        "            dropout,\n",
        "            name=\"encoder\"):\n",
        "  inputs = tf.keras.Input(shape=(None,), name=\"inputs\")\n",
        "  padding_mask = tf.keras.Input(shape=(1, 1, None), name=\"padding_mask\")\n",
        "\n",
        "  embeddings = tf.keras.layers.Embedding(vocab_size, d_model)(inputs)\n",
        "  embeddings *= tf.math.sqrt(tf.cast(d_model, tf.float32))\n",
        "  embeddings = PositionalEncoding(vocab_size, d_model)(embeddings)#??왜 vocab_size가 들어가지?\n",
        "\n",
        "  outputs = tf.keras.layers.Dropout(rate=dropout)(embeddings)\n",
        "\n",
        "  for i in range(num_layers):\n",
        "    outputs = encoder_layer(\n",
        "        units = units,\n",
        "        d_model = d_model,\n",
        "        num_heads = num_heads,\n",
        "        dropout = dropout,\n",
        "        name = \"encoder_layer_{}\".format(i),\n",
        "    )([outputs, padding_mask])\n",
        "  \n",
        "  return tf.keras.Model(\n",
        "      inputs = [inputs, padding_mask], outputs = outputs, name=name)"
      ],
      "execution_count": 28,
      "outputs": []
    },
    {
      "cell_type": "markdown",
      "metadata": {
        "id": "r8XHH5dpJr-G"
      },
      "source": [
        "### Decoder Layer\n",
        "1. Masked multi-head attention (with look ahead mask and padding mask)\n",
        "2. Multi-head attention (with padding mask). `value` and `key` is from encoder output. `query` is from Multi-head attention layer output\n",
        "3. 2 dense layers followed by dropout\n",
        "\n",
        "also has residual connection followd by a layer normalization."
      ]
    },
    {
      "cell_type": "code",
      "metadata": {
        "id": "WtAfKdk-JrxK"
      },
      "source": [
        "def decoder_layer(units, d_model, num_heads, dropout, name=\"decoder_layer\"):\n",
        "  inputs = tf.keras.Input(shape=(None, d_model), name=\"inputs\")\n",
        "  enc_outputs = tf.keras.Input(shape=(None, d_model), name=\"encoder_outputs\")\n",
        "  look_ahead_mask = tf.keras.Input(shape=(1,None,None), name=\"look_ahead_mask\")\n",
        "  padding_mask = tf.keras.Input(shape=(1,1,None), name=\"padding_mask\")\n",
        "\n",
        "  attention1 = MultiHeadAttention(\n",
        "      d_model, num_heads, name=\"attention_1\")(inputs={\n",
        "          'query' : inputs,\n",
        "          'key' : inputs,\n",
        "          'value' : inputs,\n",
        "          'mask' : look_ahead_mask\n",
        "      })\n",
        "  attention1 = tf.keras.layers.LayerNormalization(epsilon=1e-6)(attention1 + inputs)\n",
        "\n",
        "  attention2 = MultiHeadAttention(\n",
        "      d_model, num_heads, name=\"attention_2\")(inputs={\n",
        "          'query' : attention1,\n",
        "          'key' : enc_outputs,\n",
        "          'value' : enc_outputs,\n",
        "          'mask' : padding_mask\n",
        "      })\n",
        "  attention2 = tf.keras.layers.Dropout(rate=dropout)(attention2)\n",
        "  attention2 = tf.keras.layers.LayerNormalization(epsilon=1e-6)(attention2 + attention1)\n",
        "\n",
        "  outputs = tf.keras.layers.Dense(units=units, activation='relu')(attention2)\n",
        "  outputs = tf.keras.layers.Dense(units=d_model)(outputs)\n",
        "  outputs = tf.keras.layers.Dropout(rate=dropout)(outputs)\n",
        "  outputs = tf.keras.layers.LayerNormalization(epsilon=1e-6)(outputs + attention2)\n",
        "\n",
        "  return tf.keras.Model(\n",
        "      inputs = [inputs, enc_outputs, look_ahead_mask, padding_mask],\n",
        "      outputs = outputs,\n",
        "      name = name)"
      ],
      "execution_count": 29,
      "outputs": []
    },
    {
      "cell_type": "markdown",
      "metadata": {
        "id": "vnBSBcm1NAYv"
      },
      "source": [
        "### Decoder\n",
        "1. output Embedding\n",
        "2. Positional Encoding\n",
        "3. `num_layers` decoder layers\n",
        "\n",
        "Embedding + positional encoding : input (target)\n",
        "\n",
        "going decoder layers.\n",
        "\n",
        "output going final linear layer"
      ]
    },
    {
      "cell_type": "code",
      "metadata": {
        "id": "rnA-8FEAOT4F"
      },
      "source": [
        "def decoder(vocab_size,\n",
        "            num_layers,\n",
        "            units,\n",
        "            d_model,\n",
        "            num_heads,\n",
        "            dropout,\n",
        "            name=\"decoder\"):\n",
        "  inputs = tf.keras.Input(shape=(None,), name=\"inputs\")\n",
        "  enc_outputs = tf.keras.Input(shape=(None, d_model), name=\"encoder_outputs\")\n",
        "  look_ahead_mask = tf.keras.Input(shape=(1,None,None), name=\"look_ahead_mask\")\n",
        "  padding_mask = tf.keras.Input(shape=(1,1,None), name='padding_mask')\n",
        "\n",
        "  embeddings = tf.keras.layers.Embedding(vocab_size, d_model)(inputs)\n",
        "  embeddings *= tf.math.sqrt(tf.cast(d_model, tf.float32))\n",
        "  embeddings = PositionalEncoding(vocab_size, d_model)(embeddings)\n",
        "\n",
        "  outputs = tf.keras.layers.Dropout(rate=dropout)(embeddings)\n",
        "\n",
        "  for i in range(num_layers):\n",
        "    outputs = decoder_layer(\n",
        "        units = units,\n",
        "        d_model = d_model,\n",
        "        num_heads = num_heads,\n",
        "        dropout = dropout,\n",
        "        name = \"decoder_layer_{}\".format(i),\n",
        "    )(inputs = [outputs, enc_outputs, look_ahead_mask, padding_mask])\n",
        "  \n",
        "  return tf.keras.Model(\n",
        "      inputs = [inputs, enc_outputs, look_ahead_mask, padding_mask],\n",
        "      outputs = outputs,\n",
        "      name = name)"
      ],
      "execution_count": 30,
      "outputs": []
    },
    {
      "cell_type": "markdown",
      "metadata": {
        "id": "Jb-vmtqKQjhf"
      },
      "source": [
        "### Transformer\n",
        "1. encoder\n",
        "2. decoder\n",
        "3. final linear layer"
      ]
    },
    {
      "cell_type": "code",
      "metadata": {
        "id": "PEMfL5SFQqr4"
      },
      "source": [
        "def transformer(vocab_size,\n",
        "                num_layers,\n",
        "                units,\n",
        "                d_model,\n",
        "                num_heads,\n",
        "                dropout,\n",
        "                name=\"transformer\"):\n",
        "  inputs = tf.keras.Input(shape=(None,), name=\"inputs\")\n",
        "  dec_inputs = tf.keras.Input(shape=(None,), name=\"dec_inputs\")\n",
        "\n",
        "  enc_padding_mask = tf.keras.layers.Lambda(\n",
        "      create_padding_mask, output_shape=(1,1,None),\n",
        "      name=\"enc_padding_mask\")(inputs)\n",
        "  \n",
        "  #mask future tokens for decoder inputs at 1st attention block\n",
        "  look_ahead_mask = tf.keras.layers.Lambda(\n",
        "      create_look_ahead_mask, output_shape=(1,None,None),\n",
        "      name=\"look_ahead_mask\")(dec_inputs)\n",
        "  \n",
        "  #mask encoder outputs for the 2nd attention block\n",
        "  dec_padding_mask = tf.keras.layers.Lambda(\n",
        "      create_padding_mask, output_shape=(1,1,None),\n",
        "      name=\"dec_padding_mask\")(inputs)\n",
        "  \n",
        "  enc_outputs = encoder(\n",
        "      vocab_size=vocab_size,\n",
        "      num_layers=num_layers,\n",
        "      units=units,\n",
        "      d_model=d_model,\n",
        "      num_heads=num_heads,\n",
        "      dropout=dropout,\n",
        "  )(inputs=[inputs, enc_padding_mask])\n",
        "\n",
        "  dec_outputs = decoder(\n",
        "      vocab_size=vocab_size,\n",
        "      num_layers=num_layers,\n",
        "      units=units,\n",
        "      d_model=d_model,\n",
        "      num_heads=num_heads,\n",
        "      dropout=dropout,\n",
        "  )(inputs=[dec_inputs, enc_outputs, look_ahead_mask, dec_padding_mask])\n",
        "\n",
        "  outputs = tf.keras.layers.Dense(units=vocab_size, name=\"outputs\")(dec_outputs)\n",
        "\n",
        "  return tf.keras.Model(inputs=[inputs, dec_inputs], outputs=outputs, name=name)"
      ],
      "execution_count": 31,
      "outputs": []
    },
    {
      "cell_type": "markdown",
      "metadata": {
        "id": "Pav-8Jd3ydzp"
      },
      "source": [
        "## 모델 생성"
      ]
    },
    {
      "cell_type": "code",
      "metadata": {
        "id": "I8y-mjWtydzp"
      },
      "source": [
        "tf.keras.backend.clear_session()\n",
        "\n",
        "model = transformer(\n",
        "    vocab_size=VOCAB_SIZE,\n",
        "    num_layers=NUM_LAYERS,\n",
        "    units=UNITS,\n",
        "    d_model=D_MODEL,\n",
        "    num_heads=NUM_HEADS,\n",
        "    dropout=DROPOUT)"
      ],
      "execution_count": 32,
      "outputs": []
    },
    {
      "cell_type": "markdown",
      "metadata": {
        "id": "XK3IwtA4TOnN"
      },
      "source": [
        "### Loss function\n",
        "since target sequences are padded, deal this."
      ]
    },
    {
      "cell_type": "code",
      "metadata": {
        "id": "yi7YnqpVTYn2"
      },
      "source": [
        "def loss_function(y_true, y_pred):\n",
        "  y_true = tf.reshape(y_true, shape=(-1, max_sequences))\n",
        "\n",
        "  loss = tf.keras.losses.SparseCategoricalCrossentropy(\n",
        "      from_logits=True, reduction='none')(y_true, y_pred)\n",
        "  \n",
        "  mask = tf.cast(tf.not_equal(y_true,0), tf.float32)\n",
        "  loss = tf.multiply(loss, mask)\n",
        "\n",
        "  return tf.reduce_mean(loss)"
      ],
      "execution_count": 33,
      "outputs": []
    },
    {
      "cell_type": "markdown",
      "metadata": {
        "id": "bzHEmCzUVhTu"
      },
      "source": [
        "### Custom learning rate\n",
        "use Adam optimizer with custom learning rate\n",
        "$$\\Large{lrate = d_{model}^{-0.5} * min(step{\\_}num^{-0.5}, step{\\_}num * warmup{\\_}steps^{-1.5})}$$"
      ]
    },
    {
      "cell_type": "code",
      "metadata": {
        "id": "CkFm9m_LVt8c"
      },
      "source": [
        "class CustomSchedule(tf.keras.optimizers.schedules.LearningRateSchedule):\n",
        "\n",
        "  def __init__(self, d_model, warmup_steps=4000):\n",
        "    super(CustomSchedule, self).__init__()\n",
        "\n",
        "    self.d_model = d_model\n",
        "    self.d_model = tf.cast(self.d_model, tf.float32)\n",
        "\n",
        "    self.warmup_steps = warmup_steps\n",
        "\n",
        "  def __call__(self, step):\n",
        "    arg1 = tf.math.rsqrt(step)\n",
        "    arg2 = step * (self.warmup_steps**-1.5)\n",
        "\n",
        "    return tf.math.rsqrt(self.d_model) * tf.math.minimum(arg1, arg2)"
      ],
      "execution_count": 34,
      "outputs": []
    },
    {
      "cell_type": "markdown",
      "metadata": {
        "id": "gb8PGbKgWAbP"
      },
      "source": [
        "### Compile Model"
      ]
    },
    {
      "cell_type": "code",
      "metadata": {
        "id": "vql4FYFUV_3_"
      },
      "source": [
        "learning_rate = CustomSchedule(D_MODEL)\n",
        "\n",
        "optimizer = tf.keras.optimizers.Adam(\n",
        "    learning_rate, beta_1=0.9, beta_2=0.98, epsilon=1e-9)\n",
        "\n",
        "def accuracy(y_true, y_pred):\n",
        "  # ensure labels have shape (batch_size, MAX_LENGTH - 1)\n",
        "  y_true = tf.reshape(y_true, shape=(-1, max_sequences))\n",
        "  return tf.keras.metrics.sparse_categorical_accuracy(y_true, y_pred)\n",
        "\n",
        "model.compile(optimizer=optimizer, loss=loss_function, metrics=[accuracy])"
      ],
      "execution_count": 35,
      "outputs": []
    },
    {
      "cell_type": "markdown",
      "metadata": {
        "id": "mTXbb1Z2I4IM"
      },
      "source": [
        "## Train"
      ]
    },
    {
      "cell_type": "code",
      "metadata": {
        "id": "Dl3V7BllWWFG",
        "outputId": "1cea0ddf-7648-45e9-a178-c6b62be15c99",
        "colab": {
          "base_uri": "https://localhost:8080/"
        }
      },
      "source": [
        "model.fit(dataset, epochs=EPOCHS)"
      ],
      "execution_count": 36,
      "outputs": [
        {
          "output_type": "stream",
          "text": [
            "Epoch 1/50\n",
            "115/115 [==============================] - 5s 42ms/step - loss: 1.9741 - accuracy: 0.0217\n",
            "Epoch 2/50\n",
            "115/115 [==============================] - 5s 43ms/step - loss: 1.7307 - accuracy: 0.0334\n",
            "Epoch 3/50\n",
            "115/115 [==============================] - 5s 42ms/step - loss: 1.4735 - accuracy: 0.0425\n",
            "Epoch 4/50\n",
            "115/115 [==============================] - 5s 41ms/step - loss: 1.3216 - accuracy: 0.0464\n",
            "Epoch 5/50\n",
            "115/115 [==============================] - 5s 41ms/step - loss: 1.2286 - accuracy: 0.0563\n",
            "Epoch 6/50\n",
            "115/115 [==============================] - 5s 41ms/step - loss: 1.1410 - accuracy: 0.0667\n",
            "Epoch 7/50\n",
            "115/115 [==============================] - 5s 41ms/step - loss: 1.0582 - accuracy: 0.0747\n",
            "Epoch 8/50\n",
            "115/115 [==============================] - 5s 41ms/step - loss: 0.9873 - accuracy: 0.0816\n",
            "Epoch 9/50\n",
            "115/115 [==============================] - 5s 41ms/step - loss: 0.9230 - accuracy: 0.0870\n",
            "Epoch 10/50\n",
            "115/115 [==============================] - 5s 41ms/step - loss: 0.8656 - accuracy: 0.0921\n",
            "Epoch 11/50\n",
            "115/115 [==============================] - 5s 41ms/step - loss: 0.8102 - accuracy: 0.0971\n",
            "Epoch 12/50\n",
            "115/115 [==============================] - 5s 41ms/step - loss: 0.7591 - accuracy: 0.1018\n",
            "Epoch 13/50\n",
            "115/115 [==============================] - 5s 41ms/step - loss: 0.7107 - accuracy: 0.1064\n",
            "Epoch 14/50\n",
            "115/115 [==============================] - 5s 41ms/step - loss: 0.6618 - accuracy: 0.1116\n",
            "Epoch 15/50\n",
            "115/115 [==============================] - 5s 41ms/step - loss: 0.6127 - accuracy: 0.1172\n",
            "Epoch 16/50\n",
            "115/115 [==============================] - 5s 41ms/step - loss: 0.5622 - accuracy: 0.1237\n",
            "Epoch 17/50\n",
            "115/115 [==============================] - 5s 41ms/step - loss: 0.5121 - accuracy: 0.1306\n",
            "Epoch 18/50\n",
            "115/115 [==============================] - 5s 41ms/step - loss: 0.4654 - accuracy: 0.1373\n",
            "Epoch 19/50\n",
            "115/115 [==============================] - 5s 41ms/step - loss: 0.4169 - accuracy: 0.1453\n",
            "Epoch 20/50\n",
            "115/115 [==============================] - 5s 41ms/step - loss: 0.3692 - accuracy: 0.1542\n",
            "Epoch 21/50\n",
            "115/115 [==============================] - 5s 41ms/step - loss: 0.3231 - accuracy: 0.1630\n",
            "Epoch 22/50\n",
            "115/115 [==============================] - 5s 41ms/step - loss: 0.2818 - accuracy: 0.1715\n",
            "Epoch 23/50\n",
            "115/115 [==============================] - 5s 40ms/step - loss: 0.2460 - accuracy: 0.1784\n",
            "Epoch 24/50\n",
            "115/115 [==============================] - 5s 40ms/step - loss: 0.2135 - accuracy: 0.1856\n",
            "Epoch 25/50\n",
            "115/115 [==============================] - 5s 40ms/step - loss: 0.1868 - accuracy: 0.1906\n",
            "Epoch 26/50\n",
            "115/115 [==============================] - 5s 41ms/step - loss: 0.1635 - accuracy: 0.1952\n",
            "Epoch 27/50\n",
            "115/115 [==============================] - 5s 41ms/step - loss: 0.1490 - accuracy: 0.1980\n",
            "Epoch 28/50\n",
            "115/115 [==============================] - 5s 40ms/step - loss: 0.1394 - accuracy: 0.1989\n",
            "Epoch 29/50\n",
            "115/115 [==============================] - 5s 40ms/step - loss: 0.1242 - accuracy: 0.2028\n",
            "Epoch 30/50\n",
            "115/115 [==============================] - 5s 40ms/step - loss: 0.1186 - accuracy: 0.2036\n",
            "Epoch 31/50\n",
            "115/115 [==============================] - 5s 41ms/step - loss: 0.1112 - accuracy: 0.2053\n",
            "Epoch 32/50\n",
            "115/115 [==============================] - 5s 41ms/step - loss: 0.1057 - accuracy: 0.2063\n",
            "Epoch 33/50\n",
            "115/115 [==============================] - 5s 41ms/step - loss: 0.1032 - accuracy: 0.2073\n",
            "Epoch 34/50\n",
            "115/115 [==============================] - 5s 40ms/step - loss: 0.1035 - accuracy: 0.2067\n",
            "Epoch 35/50\n",
            "115/115 [==============================] - 5s 41ms/step - loss: 0.0977 - accuracy: 0.2081\n",
            "Epoch 36/50\n",
            "115/115 [==============================] - 5s 41ms/step - loss: 0.0955 - accuracy: 0.2088\n",
            "Epoch 37/50\n",
            "115/115 [==============================] - 5s 41ms/step - loss: 0.0871 - accuracy: 0.2106\n",
            "Epoch 38/50\n",
            "115/115 [==============================] - 5s 41ms/step - loss: 0.0823 - accuracy: 0.2121\n",
            "Epoch 39/50\n",
            "115/115 [==============================] - 5s 41ms/step - loss: 0.0760 - accuracy: 0.2140\n",
            "Epoch 40/50\n",
            "115/115 [==============================] - 5s 41ms/step - loss: 0.0727 - accuracy: 0.2146\n",
            "Epoch 41/50\n",
            "115/115 [==============================] - 5s 41ms/step - loss: 0.0688 - accuracy: 0.2161\n",
            "Epoch 42/50\n",
            "115/115 [==============================] - 5s 41ms/step - loss: 0.0656 - accuracy: 0.2168\n",
            "Epoch 43/50\n",
            "115/115 [==============================] - 5s 41ms/step - loss: 0.0628 - accuracy: 0.2176\n",
            "Epoch 44/50\n",
            "115/115 [==============================] - 5s 41ms/step - loss: 0.0581 - accuracy: 0.2189\n",
            "Epoch 45/50\n",
            "115/115 [==============================] - 5s 41ms/step - loss: 0.0569 - accuracy: 0.2192\n",
            "Epoch 46/50\n",
            "115/115 [==============================] - 5s 41ms/step - loss: 0.0538 - accuracy: 0.2200\n",
            "Epoch 47/50\n",
            "115/115 [==============================] - 5s 41ms/step - loss: 0.0521 - accuracy: 0.2206\n",
            "Epoch 48/50\n",
            "115/115 [==============================] - 5s 41ms/step - loss: 0.0503 - accuracy: 0.2209\n",
            "Epoch 49/50\n",
            "115/115 [==============================] - 5s 41ms/step - loss: 0.0475 - accuracy: 0.2219\n",
            "Epoch 50/50\n",
            "115/115 [==============================] - 5s 41ms/step - loss: 0.0449 - accuracy: 0.2226\n"
          ],
          "name": "stdout"
        },
        {
          "output_type": "execute_result",
          "data": {
            "text/plain": [
              "<tensorflow.python.keras.callbacks.History at 0x7f29d6062e10>"
            ]
          },
          "metadata": {
            "tags": []
          },
          "execution_count": 36
        }
      ]
    },
    {
      "cell_type": "markdown",
      "metadata": {
        "id": "jx-jxXncYmlp"
      },
      "source": [
        "## Category Classification"
      ]
    },
    {
      "cell_type": "code",
      "metadata": {
        "id": "seok_9PxYrlV"
      },
      "source": [
        "main = wear_data['MAIN']\n",
        "category = wear_data['CATEGORY']\n",
        "all_stc = wear_data['SENTENCE']\n",
        "\n",
        "category_info = pd.DataFrame({\"stc\":all_stc, \"cate\":main})\n",
        "rough_info = pd.DataFrame({\"stc\":all_stc, \"cate\":category})"
      ],
      "execution_count": 97,
      "outputs": []
    },
    {
      "cell_type": "code",
      "metadata": {
        "id": "-uawcREfY87l",
        "outputId": "eb511356-7e52-4546-f600-7f7ae75d2cd0",
        "colab": {
          "base_uri": "https://localhost:8080/"
        }
      },
      "source": [
        "category_info.dropna(inplace = True)\n",
        "category_info.reset_index(drop=True, inplace = True)\n",
        "\n",
        "rough_info.dropna(inplace = True)\n",
        "rough_info.reset_index(drop=True, inplace = True)\n",
        "\n",
        "print(category_info.shape, rough_info.shape)"
      ],
      "execution_count": 98,
      "outputs": [
        {
          "output_type": "stream",
          "text": [
            "(15725, 2) (15826, 2)\n"
          ],
          "name": "stdout"
        }
      ]
    },
    {
      "cell_type": "code",
      "metadata": {
        "id": "w-h0d_06Y_GA"
      },
      "source": [
        "def make_tokenize(info):\n",
        "    tagger = Okt()\n",
        "\n",
        "    for i in range(info.shape[0]):\n",
        "        info['stc'][i] = tagger.morphs(info['stc'][i])\n",
        "\n",
        "make_tokenize(category_info)\n",
        "make_tokenize(rough_info)"
      ],
      "execution_count": 99,
      "outputs": []
    },
    {
      "cell_type": "code",
      "metadata": {
        "id": "gmGrD5juZ_ET"
      },
      "source": [
        "category_list = pd.factorize(category_info['cate'])[1]\n",
        "category_info['cate'] = pd.factorize(category_info['cate'])[0]\n",
        "\n",
        "rough_category_list = pd.factorize(rough_info['cate'])[1]\n",
        "rough_info['cate'] = pd.factorize(rough_info['cate'])[0]"
      ],
      "execution_count": 100,
      "outputs": []
    },
    {
      "cell_type": "code",
      "metadata": {
        "id": "MQLKF7FkbRAi"
      },
      "source": [
        "from tensorflow.keras.utils import to_categorical\n",
        "category_ans = to_categorical(category_info['cate']) # 카테고리 관련 원핫벡터 카테고리\n",
        "rough_ans = to_categorical(rough_info['cate']) # 4개 카테고리 관련 원핫벡터 카테고리"
      ],
      "execution_count": 101,
      "outputs": []
    },
    {
      "cell_type": "code",
      "metadata": {
        "id": "bZavgRPJdM79"
      },
      "source": [
        "from tensorflow.keras.preprocessing.text import Tokenizer\n",
        "\n",
        "ctokenizer = Tokenizer(5000) \n",
        "ctokenizer.fit_on_texts(category_info['stc'])\n",
        "ctoken_stc = ctokenizer.texts_to_sequences(category_info['stc'])\n",
        "category_stc = ctoken_stc\n",
        "\n",
        "rtokenizer = Tokenizer(5000) \n",
        "rtokenizer.fit_on_texts(rough_info['stc'])\n",
        "rtoken_stc = rtokenizer.texts_to_sequences(rough_info['stc'])\n",
        "rough_stc = rtoken_stc"
      ],
      "execution_count": 102,
      "outputs": []
    },
    {
      "cell_type": "code",
      "metadata": {
        "id": "soNw3c6Cen_G"
      },
      "source": [
        "from tensorflow.keras.preprocessing.sequence import pad_sequences\n",
        "\n",
        "max_len = 15\n",
        "category_stc = pad_sequences(category_stc, maxlen=max_len) # 카테고리 관련 패딩까지 마친 문장 모음\n",
        "rough_stc = pad_sequences(rough_stc, maxlen=max_len) # 4개 카테고리 관련 패딩까지 마친 문장 모음"
      ],
      "execution_count": 103,
      "outputs": []
    },
    {
      "cell_type": "code",
      "metadata": {
        "id": "i2SP7QT_a-4n"
      },
      "source": [
        "from sklearn.model_selection import train_test_split\n",
        "\n",
        "cX_train, cX_test, cy_train, cy_test = train_test_split(\n",
        "    category_stc, category_ans, test_size = 0.2, shuffle = True, random_state = 11)\n",
        "\n",
        "rX_train, rX_test, ry_train, ry_test = train_test_split(\n",
        "    rough_stc, rough_ans, test_size = 0.2, shuffle = True, random_state = 11)"
      ],
      "execution_count": 104,
      "outputs": []
    },
    {
      "cell_type": "code",
      "metadata": {
        "id": "mW-r-YFCfVgv"
      },
      "source": [
        "from tensorflow.keras.models import Sequential\n",
        "from tensorflow.keras.layers import Dense, LSTM, Embedding\n",
        "\n",
        "cmodel = Sequential()\n",
        "cmodel.add(Embedding(5000, 128))\n",
        "cmodel.add(LSTM(128))\n",
        "cmodel.add(Dense(405, activation='softmax'))\n",
        "\n",
        "rmodel = Sequential()\n",
        "rmodel.add(Embedding(5000, 100))\n",
        "rmodel.add(LSTM(128))\n",
        "rmodel.add(Dense(4, activation='softmax'))"
      ],
      "execution_count": 105,
      "outputs": []
    },
    {
      "cell_type": "code",
      "metadata": {
        "id": "MHQoXs8wfkYk",
        "outputId": "815fec0d-f097-4c87-a4d6-d7c1d04fa9fe",
        "colab": {
          "base_uri": "https://localhost:8080/"
        }
      },
      "source": [
        "cmodel.compile(loss='categorical_crossentropy', optimizer='adam', metrics=['acc'])\n",
        "cmodel.fit(cX_train, cy_train, validation_data=(cX_test, cy_test), batch_size=32, epochs=30) # 128 64 32 실험"
      ],
      "execution_count": 106,
      "outputs": [
        {
          "output_type": "stream",
          "text": [
            "Epoch 1/30\n",
            "394/394 [==============================] - 4s 9ms/step - loss: 4.8167 - acc: 0.1217 - val_loss: 4.4723 - val_acc: 0.1507\n",
            "Epoch 2/30\n",
            "394/394 [==============================] - 3s 8ms/step - loss: 4.2464 - acc: 0.1688 - val_loss: 3.9656 - val_acc: 0.2067\n",
            "Epoch 3/30\n",
            "394/394 [==============================] - 3s 8ms/step - loss: 3.6378 - acc: 0.2473 - val_loss: 3.5139 - val_acc: 0.2817\n",
            "Epoch 4/30\n",
            "394/394 [==============================] - 3s 8ms/step - loss: 3.1184 - acc: 0.3281 - val_loss: 3.2750 - val_acc: 0.3256\n",
            "Epoch 5/30\n",
            "394/394 [==============================] - 3s 8ms/step - loss: 2.7117 - acc: 0.3969 - val_loss: 3.1228 - val_acc: 0.3501\n",
            "Epoch 6/30\n",
            "394/394 [==============================] - 3s 8ms/step - loss: 2.3610 - acc: 0.4624 - val_loss: 3.0201 - val_acc: 0.3781\n",
            "Epoch 7/30\n",
            "394/394 [==============================] - 3s 8ms/step - loss: 2.0521 - acc: 0.5224 - val_loss: 2.9694 - val_acc: 0.3949\n",
            "Epoch 8/30\n",
            "394/394 [==============================] - 3s 8ms/step - loss: 1.7952 - acc: 0.5793 - val_loss: 2.9682 - val_acc: 0.3952\n",
            "Epoch 9/30\n",
            "394/394 [==============================] - 3s 8ms/step - loss: 1.5727 - acc: 0.6286 - val_loss: 3.0039 - val_acc: 0.3968\n",
            "Epoch 10/30\n",
            "394/394 [==============================] - 3s 8ms/step - loss: 1.3951 - acc: 0.6687 - val_loss: 3.0776 - val_acc: 0.3978\n",
            "Epoch 11/30\n",
            "394/394 [==============================] - 3s 8ms/step - loss: 1.2416 - acc: 0.7058 - val_loss: 3.0688 - val_acc: 0.3975\n",
            "Epoch 12/30\n",
            "394/394 [==============================] - 3s 8ms/step - loss: 1.1122 - acc: 0.7373 - val_loss: 3.1300 - val_acc: 0.4006\n",
            "Epoch 13/30\n",
            "394/394 [==============================] - 3s 8ms/step - loss: 0.9983 - acc: 0.7657 - val_loss: 3.1723 - val_acc: 0.4006\n",
            "Epoch 14/30\n",
            "394/394 [==============================] - 3s 8ms/step - loss: 0.9104 - acc: 0.7848 - val_loss: 3.2468 - val_acc: 0.4003\n",
            "Epoch 15/30\n",
            "394/394 [==============================] - 3s 8ms/step - loss: 0.8373 - acc: 0.7994 - val_loss: 3.3308 - val_acc: 0.4019\n",
            "Epoch 16/30\n",
            "394/394 [==============================] - 3s 8ms/step - loss: 0.7646 - acc: 0.8177 - val_loss: 3.3716 - val_acc: 0.3965\n",
            "Epoch 17/30\n",
            "394/394 [==============================] - 3s 8ms/step - loss: 0.7004 - acc: 0.8339 - val_loss: 3.4521 - val_acc: 0.4032\n",
            "Epoch 18/30\n",
            "394/394 [==============================] - 3s 8ms/step - loss: 0.6501 - acc: 0.8432 - val_loss: 3.5235 - val_acc: 0.4032\n",
            "Epoch 19/30\n",
            "394/394 [==============================] - 3s 8ms/step - loss: 0.6004 - acc: 0.8567 - val_loss: 3.5431 - val_acc: 0.3994\n",
            "Epoch 20/30\n",
            "394/394 [==============================] - 3s 8ms/step - loss: 0.5633 - acc: 0.8648 - val_loss: 3.6709 - val_acc: 0.3965\n",
            "Epoch 21/30\n",
            "394/394 [==============================] - 3s 8ms/step - loss: 0.5209 - acc: 0.8746 - val_loss: 3.6827 - val_acc: 0.3984\n",
            "Epoch 22/30\n",
            "394/394 [==============================] - 3s 8ms/step - loss: 0.4920 - acc: 0.8807 - val_loss: 3.8017 - val_acc: 0.3911\n",
            "Epoch 23/30\n",
            "394/394 [==============================] - 3s 8ms/step - loss: 0.4683 - acc: 0.8839 - val_loss: 3.8498 - val_acc: 0.3952\n",
            "Epoch 24/30\n",
            "394/394 [==============================] - 3s 8ms/step - loss: 0.4448 - acc: 0.8901 - val_loss: 3.8919 - val_acc: 0.3905\n",
            "Epoch 25/30\n",
            "394/394 [==============================] - 3s 8ms/step - loss: 0.4172 - acc: 0.8979 - val_loss: 3.9511 - val_acc: 0.3984\n",
            "Epoch 26/30\n",
            "394/394 [==============================] - 3s 8ms/step - loss: 0.4013 - acc: 0.9010 - val_loss: 4.0453 - val_acc: 0.3927\n",
            "Epoch 27/30\n",
            "394/394 [==============================] - 3s 8ms/step - loss: 0.3828 - acc: 0.9045 - val_loss: 4.0974 - val_acc: 0.3895\n",
            "Epoch 28/30\n",
            "394/394 [==============================] - 3s 8ms/step - loss: 0.3680 - acc: 0.9078 - val_loss: 4.1301 - val_acc: 0.3955\n",
            "Epoch 29/30\n",
            "394/394 [==============================] - 3s 8ms/step - loss: 0.3567 - acc: 0.9112 - val_loss: 4.1816 - val_acc: 0.3924\n",
            "Epoch 30/30\n",
            "394/394 [==============================] - 3s 8ms/step - loss: 0.3376 - acc: 0.9137 - val_loss: 4.2235 - val_acc: 0.3959\n"
          ],
          "name": "stdout"
        },
        {
          "output_type": "execute_result",
          "data": {
            "text/plain": [
              "<tensorflow.python.keras.callbacks.History at 0x7f2959a93eb8>"
            ]
          },
          "metadata": {
            "tags": []
          },
          "execution_count": 106
        }
      ]
    },
    {
      "cell_type": "code",
      "metadata": {
        "id": "ZYqy-6NEfrXJ",
        "outputId": "1f37544b-ff01-41a2-bdac-0f339d833cba",
        "colab": {
          "base_uri": "https://localhost:8080/"
        }
      },
      "source": [
        "rmodel.compile(loss='categorical_crossentropy', optimizer='adam', metrics=['acc'])\n",
        "rmodel.fit(rX_train, ry_train, validation_data=(rX_test, ry_test), batch_size=10, epochs=10) # 128 64 32 실험"
      ],
      "execution_count": 107,
      "outputs": [
        {
          "output_type": "stream",
          "text": [
            "Epoch 1/10\n",
            "1266/1266 [==============================] - 9s 7ms/step - loss: 1.0196 - acc: 0.5454 - val_loss: 0.9090 - val_acc: 0.5976\n",
            "Epoch 2/10\n",
            "1266/1266 [==============================] - 9s 7ms/step - loss: 0.7527 - acc: 0.6879 - val_loss: 0.8943 - val_acc: 0.6153\n",
            "Epoch 3/10\n",
            "1266/1266 [==============================] - 8s 7ms/step - loss: 0.6410 - acc: 0.7333 - val_loss: 0.9671 - val_acc: 0.6115\n",
            "Epoch 4/10\n",
            "1266/1266 [==============================] - 8s 6ms/step - loss: 0.5707 - acc: 0.7600 - val_loss: 1.0908 - val_acc: 0.6105\n",
            "Epoch 5/10\n",
            "1266/1266 [==============================] - 8s 7ms/step - loss: 0.5219 - acc: 0.7739 - val_loss: 1.0765 - val_acc: 0.6011\n",
            "Epoch 6/10\n",
            "1266/1266 [==============================] - 8s 7ms/step - loss: 0.4822 - acc: 0.7874 - val_loss: 1.1738 - val_acc: 0.6014\n",
            "Epoch 7/10\n",
            "1266/1266 [==============================] - 8s 6ms/step - loss: 0.4504 - acc: 0.8006 - val_loss: 1.3290 - val_acc: 0.5963\n",
            "Epoch 8/10\n",
            "1266/1266 [==============================] - 8s 6ms/step - loss: 0.4228 - acc: 0.8121 - val_loss: 1.4049 - val_acc: 0.5951\n",
            "Epoch 9/10\n",
            "1266/1266 [==============================] - 8s 6ms/step - loss: 0.3986 - acc: 0.8212 - val_loss: 1.4980 - val_acc: 0.6008\n",
            "Epoch 10/10\n",
            "1266/1266 [==============================] - 8s 7ms/step - loss: 0.3772 - acc: 0.8304 - val_loss: 1.4421 - val_acc: 0.5979\n"
          ],
          "name": "stdout"
        },
        {
          "output_type": "execute_result",
          "data": {
            "text/plain": [
              "<tensorflow.python.keras.callbacks.History at 0x7f2958554d68>"
            ]
          },
          "metadata": {
            "tags": []
          },
          "execution_count": 107
        }
      ]
    },
    {
      "cell_type": "code",
      "metadata": {
        "id": "iXEMQH_jf5jl"
      },
      "source": [
        "def find_category(stc,tokenizer,model,category_list):\n",
        "    tagger = Okt()\n",
        "    stc = tagger.morphs(stc)\n",
        "    encode_stc = tokenizer.texts_to_sequences([stc])\n",
        "    pad_stc = pad_sequences(encode_stc, maxlen=15)\n",
        "    score = model.predict(pad_stc)\n",
        "    return (category_list[score.argmax()], score[0, score.argmax()])"
      ],
      "execution_count": 108,
      "outputs": []
    },
    {
      "cell_type": "code",
      "metadata": {
        "id": "fIlguUGEf-ow",
        "outputId": "6ac18924-f439-4467-b712-6c681c5e17d3",
        "colab": {
          "base_uri": "https://localhost:8080/"
        }
      },
      "source": [
        "sentence = \"이 코트에 어울리는 치마 있나요?\"\n",
        "print(find_category(sentence,ctokenizer,cmodel,category_list))\n",
        "sentence = \"같은 디자인으로 혹시 더 저렴한 상품 있나요?\"\n",
        "print(find_category(sentence,ctokenizer,cmodel,category_list))\n",
        "sentence = \"겨울이니까 좀 길게 입으셔야죠\"\n",
        "print(find_category(sentence,ctokenizer,cmodel,category_list))"
      ],
      "execution_count": 109,
      "outputs": [
        {
          "output_type": "stream",
          "text": [
            "('착용계절문의', 0.42494887)\n",
            "('가격대별문의', 0.6789745)\n",
            "('착용후어울리는지문의', 0.99848723)\n"
          ],
          "name": "stdout"
        }
      ]
    },
    {
      "cell_type": "code",
      "metadata": {
        "id": "ODrJYTQ6f_70",
        "outputId": "d8876684-f0d7-4c89-be98-abb9f563a639",
        "colab": {
          "base_uri": "https://localhost:8080/"
        }
      },
      "source": [
        "sentence = \"이 코트에 어울리는 치마 있나요?\"\n",
        "print(find_category(sentence,rtokenizer,rmodel,rough_category_list))\n",
        "sentence = \"굽 좀 높은 거 없나요?\"\n",
        "print(find_category(sentence,rtokenizer,rmodel,rough_category_list))\n",
        "sentence = \"겨울이니까 좀 길게 입으셔야죠\"\n",
        "print(find_category(sentence,rtokenizer,rmodel,rough_category_list))\n",
        "sentence = \"순금으로 된 제품인가요?\"\n",
        "print(find_category(sentence,rtokenizer,rmodel,rough_category_list))\n",
        "sentence = \"이 제품 얼마인가요?\"\n",
        "print(find_category(sentence,rtokenizer,rmodel,rough_category_list))"
      ],
      "execution_count": 112,
      "outputs": [
        {
          "output_type": "stream",
          "text": [
            "('의류', 0.99995494)\n",
            "('신발', 0.999851)\n",
            "('의류', 0.99921274)\n",
            "('액세서리', 0.99991155)\n",
            "('의류', 0.4943354)\n"
          ],
          "name": "stdout"
        }
      ]
    },
    {
      "cell_type": "markdown",
      "metadata": {
        "id": "e6EDnEOwI_G7"
      },
      "source": [
        "## Predict"
      ]
    },
    {
      "cell_type": "code",
      "metadata": {
        "id": "Gxi2B-vjydzt"
      },
      "source": [
        "# 인덱스를 문장으로 변환\n",
        "def convert_index_to_text(indexs, vocabulary): \n",
        "    \n",
        "    sentence = ''\n",
        "    \n",
        "    # 모든 문장에 대해서 반복\n",
        "    for index in indexs:\n",
        "        if index == END_INDEX:\n",
        "            # 종료 인덱스면 중지\n",
        "            break;\n",
        "        if vocabulary.get(index) is not None:\n",
        "            # 사전에 있는 인덱스면 해당 단어를 추가\n",
        "            sentence += vocabulary[index]\n",
        "        else:\n",
        "            # 사전에 없는 인덱스면 OOV 단어를 추가\n",
        "            sentence.extend([vocabulary[OOV_INDEX]])\n",
        "            \n",
        "        # 빈칸 추가\n",
        "        sentence += ' '\n",
        "\n",
        "    return sentence"
      ],
      "execution_count": 113,
      "outputs": []
    },
    {
      "cell_type": "code",
      "metadata": {
        "id": "2E66RpbXydzy"
      },
      "source": [
        "# 예측을 위한 입력 생성\n",
        "def make_predict_input(sentence):\n",
        "\n",
        "    sentences = []\n",
        "    sentences.append(sentence)\n",
        "    sentences = pos_tag(sentences)\n",
        "    input_seq = convert_text_to_index(sentences, word_to_index, ENCODER_INPUT)\n",
        "    \n",
        "    return input_seq"
      ],
      "execution_count": 114,
      "outputs": []
    },
    {
      "cell_type": "code",
      "metadata": {
        "id": "umBNECObKCJj"
      },
      "source": [
        "def evaluate(input_seq):\n",
        "\n",
        "  input_seq = input_seq.squeeze()\n",
        "  sentence = tf.expand_dims(input_seq, axis=0)\n",
        "  output = tf.expand_dims([1], 0)\n",
        "\n",
        "  for i in range(max_sequences):\n",
        "    predictions = model(inputs=[sentence, output], training=False)\n",
        "\n",
        "    # select the last word from the seq_len dimension\n",
        "    predictions = predictions[:, -1:, :]\n",
        "    predicted_id = tf.cast(tf.argmax(predictions, axis=-1), tf.int32)\n",
        "\n",
        "    # return the result if the predicted_id is equal to the end token\n",
        "    if tf.equal(predicted_id, 2):\n",
        "      break\n",
        "\n",
        "    # concatenated the predicted_id to the output which is given to the decoder\n",
        "    # as its input.\n",
        "    output = tf.concat([output, predicted_id], axis=-1)\n",
        "\n",
        "  return tf.squeeze(output, axis=0)"
      ],
      "execution_count": 115,
      "outputs": []
    },
    {
      "cell_type": "code",
      "metadata": {
        "id": "GBxzil_NWNLX",
        "outputId": "92c13524-8b04-4405-dc27-69ac9234f8df",
        "colab": {
          "base_uri": "https://localhost:8080/"
        }
      },
      "source": [
        "tmp_test_stc = convert_index_to_text(evaluate(make_predict_input('내일 뭐해요?')).numpy()[1:],index_to_word)\n",
        "print(tmp_test_stc)\n",
        "print(find_category(tmp_test_stc,ctokenizer,cmodel,category_list))\n",
        "print(find_category(tmp_test_stc,rtokenizer,rmodel,rough_category_list))"
      ],
      "execution_count": 123,
      "outputs": [
        {
          "output_type": "stream",
          "text": [
            "내일 오전 에 오세요 \n",
            "('제품의세척방법문의', 0.5144914)\n",
            "('의류', 0.9452579)\n"
          ],
          "name": "stdout"
        }
      ]
    },
    {
      "cell_type": "code",
      "metadata": {
        "id": "CUDsxhUxWaa9",
        "outputId": "391f4537-2db5-4f4c-cdaa-4374c861179e",
        "colab": {
          "base_uri": "https://localhost:8080/"
        }
      },
      "source": [
        "tmp_test_stc = convert_index_to_text(evaluate(make_predict_input('이거 사이즈 큰거 있어요?')).numpy()[1:],index_to_word)\n",
        "print(tmp_test_stc)\n",
        "print(find_category(tmp_test_stc,ctokenizer,cmodel,category_list))\n",
        "print(find_category(tmp_test_stc,rtokenizer,rmodel,rough_category_list))"
      ],
      "execution_count": 124,
      "outputs": [
        {
          "output_type": "stream",
          "text": [
            "그 바지 는 어깨 가 맞아요 \n",
            "('동제품타사이즈문의', 0.7414804)\n",
            "('의류', 0.9999809)\n"
          ],
          "name": "stdout"
        }
      ]
    },
    {
      "cell_type": "code",
      "metadata": {
        "id": "GFym9Kw4Wkb9",
        "outputId": "6862a7ef-8a9e-45e2-cb59-9684b1e3566e",
        "colab": {
          "base_uri": "https://localhost:8080/"
        }
      },
      "source": [
        "tmp_test_stc = convert_index_to_text(evaluate(make_predict_input('이거 사이즈 230 있어요?')).numpy()[1:],index_to_word)\n",
        "print(tmp_test_stc)\n",
        "print(find_category(tmp_test_stc,ctokenizer,cmodel,category_list))\n",
        "print(find_category(tmp_test_stc,rtokenizer,rmodel,rough_category_list))"
      ],
      "execution_count": 125,
      "outputs": [
        {
          "output_type": "stream",
          "text": [
            "아니요 그거 한 개 남았어요 \n",
            "('제품별색깔종류문의', 0.996079)\n",
            "('신발', 0.5090867)\n"
          ],
          "name": "stdout"
        }
      ]
    },
    {
      "cell_type": "code",
      "metadata": {
        "id": "uPixonr7g-FT",
        "outputId": "3bb1a6f7-fadd-4d01-9c95-e4e29eff2e10",
        "colab": {
          "base_uri": "https://localhost:8080/"
        }
      },
      "source": [
        "tmp_test_stc = convert_index_to_text(evaluate(make_predict_input('할인 되요?')).numpy()[1:],index_to_word)\n",
        "print(tmp_test_stc)\n",
        "print(find_category(tmp_test_stc,ctokenizer,cmodel,category_list))\n",
        "print(find_category(tmp_test_stc,rtokenizer,rmodel,rough_category_list))"
      ],
      "execution_count": 126,
      "outputs": [
        {
          "output_type": "stream",
          "text": [
            "현재 할인 적용 해서 99000원 입니다 \n",
            "('제품가격문의', 0.99876416)\n",
            "('가방', 0.987318)\n"
          ],
          "name": "stdout"
        }
      ]
    },
    {
      "cell_type": "code",
      "metadata": {
        "id": "z3YqOZ-MEOVW",
        "outputId": "75d42f6f-613b-486f-9c09-212e2fce18c6",
        "colab": {
          "base_uri": "https://localhost:8080/"
        }
      },
      "source": [
        "# for train data predict\n",
        "for seq_index in range(0,10):\n",
        "\n",
        "  print(\"고객 : \",question[seq_index])\n",
        "  print(find_category(question[seq_index],ctokenizer,cmodel,category_list))\n",
        "  print(find_category(question[seq_index],rtokenizer,rmodel,rough_category_list))\n",
        "  print(\"정답점원 :\",answer[seq_index])\n",
        "  print(find_category(answer[seq_index],ctokenizer,cmodel,category_list))\n",
        "  print(find_category(answer[seq_index],rtokenizer,rmodel,rough_category_list))\n",
        "  print(\"AI점원 :\",convert_index_to_text(evaluate(make_predict_input(question[seq_index])).numpy()[1:],index_to_word))\n",
        "  print(find_category(convert_index_to_text(evaluate(make_predict_input(question[seq_index])).numpy()[1:],index_to_word),ctokenizer,cmodel,category_list))\n",
        "  print(find_category(convert_index_to_text(evaluate(make_predict_input(question[seq_index])).numpy()[1:],index_to_word),rtokenizer,rmodel,rough_category_list))\n",
        "  print(\"\\n\")"
      ],
      "execution_count": 128,
      "outputs": [
        {
          "output_type": "stream",
          "text": [
            "고객 :  신발 은 여기 있는 게 다예 요 ?\n",
            "('종류별신발제품문의요청', 0.95872086)\n",
            "('신발', 0.99629575)\n",
            "정답점원 : 네 성인 이나 아동 다 있어요 발 사이즈 몇 신으세요 ?\n",
            "('종류별신발제품문의요청', 0.9257242)\n",
            "('신발', 0.9923907)\n",
            "AI점원 : 네 성인 이나 아동 다 있어요 발 사이즈 몇 신으세요 ? \n",
            "('종류별신발제품문의요청', 0.9257242)\n",
            "('신발', 0.9923907)\n",
            "\n",
            "\n",
            "고객 :  230 이요\n",
            "('종류별신발제품문의요청', 0.9245791)\n",
            "('신발', 0.99590635)\n",
            "정답점원 : 편하게 신 을 수 있는 거 찾으세요 ?\n",
            "('착화감', 0.97774)\n",
            "('신발', 0.98447627)\n",
            "AI점원 : 신발 신어 보시겠어요 ? \n",
            "('종류별신발제품문의요청', 0.92674464)\n",
            "('신발', 0.99777764)\n",
            "\n",
            "\n",
            "고객 :  네 봄 이니까 편하게 신 을 수 있는 거\n",
            "('착화감', 0.9650011)\n",
            "('신발', 0.9878648)\n",
            "정답점원 : 이런 건 어떠세요 ? 이런 거도 신발 무척 편하거든요\n",
            "('종류별신발제품문의요청', 0.9580269)\n",
            "('신발', 0.99867636)\n",
            "AI점원 : 이런 건 어떠세요 ? 이런 거도 신발 무척 편하거든요 \n",
            "('종류별신발제품문의요청', 0.9580269)\n",
            "('신발', 0.99867636)\n",
            "\n",
            "\n",
            "고객 :  굽 좀 높은 거 없나요 ?\n",
            "('굽높이문의', 0.9776847)\n",
            "('신발', 0.999851)\n",
            "정답점원 : 봄 상품 은 아직 어른 제품 이 많이 안 나왔습니다\n",
            "('굽높이문의', 0.9534118)\n",
            "('신발', 0.9880861)\n",
            "AI점원 : 봄 상품 은 아직 어른 제품 이 많이 안 나왔습니다 \n",
            "('굽높이문의', 0.9534118)\n",
            "('신발', 0.9880861)\n",
            "\n",
            "\n",
            "고객 :  언제 들어와요 ?\n",
            "('재입고문의', 0.94650376)\n",
            "('의류', 0.4747065)\n",
            "정답점원 : 이번 주 지나면 들어올 거 예요\n",
            "('재입고문의', 0.9960162)\n",
            "('신발', 0.78532857)\n",
            "AI점원 : 이번 주 지나면 들어올 거 예요 \n",
            "('재입고문의', 0.9960162)\n",
            "('신발', 0.78532857)\n",
            "\n",
            "\n",
            "고객 :  이 거 는 가죽 이에요 ?\n",
            "('소재문의', 0.5702147)\n",
            "('가방', 0.516826)\n",
            "정답점원 : 가죽 아니고 쎄 무예 요\n",
            "('소재문의', 0.99898106)\n",
            "('신발', 0.9967199)\n",
            "AI점원 : 그거 는 합피 예요 인조 가죽 그래서 물 에 좀 강하고요 \n",
            "('가방소재문의', 0.99489284)\n",
            "('가방', 0.9999049)\n",
            "\n",
            "\n",
            "고객 :  가죽 은 얼마 예요 ?\n",
            "('제품가격문의', 0.9859162)\n",
            "('신발', 0.60295117)\n",
            "정답점원 : 2만 9천 원 입니다\n",
            "('제품가격문의', 0.9999747)\n",
            "('신발', 0.5233954)\n",
            "AI점원 : 2만 9천 원 입니다 \n",
            "('제품가격문의', 0.9999747)\n",
            "('신발', 0.5233954)\n",
            "\n",
            "\n",
            "고객 :  털 달린 거 저 거 는 사이즈 있어요 ?\n",
            "('사이즈재고문의', 0.95902544)\n",
            "('신발', 0.6193947)\n",
            "정답점원 : 230 이 없어요 이 거 한 번 신어 보세요\n",
            "('매장에서착용문의', 0.9547148)\n",
            "('신발', 0.99815255)\n",
            "AI점원 : 230 이 없어요 이 거 한 번 신어 보세요 \n",
            "('매장에서착용문의', 0.9547148)\n",
            "('신발', 0.99815255)\n",
            "\n",
            "\n",
            "고객 :  좀 크네 또 안 들어와요 ?\n",
            "('재입고문의', 0.9892274)\n",
            "('신발', 0.9231811)\n",
            "정답점원 : 네 이건 다 끝났어요\n",
            "('재입고문의', 0.93807614)\n",
            "('신발', 0.96612227)\n",
            "AI점원 : 네 이건 다 끝났어요 \n",
            "('재입고문의', 0.93807614)\n",
            "('신발', 0.96612227)\n",
            "\n",
            "\n",
            "고객 :  가방 매는 거 보고 있어요\n",
            "('종류별가방제품문의요청', 0.99808717)\n",
            "('가방', 0.9997429)\n",
            "정답점원 : 여기 있어요\n",
            "('종류별가방제품문의요청', 0.17128745)\n",
            "('의류', 0.43772206)\n",
            "AI점원 : 여기 있어요 \n",
            "('종류별가방제품문의요청', 0.17128745)\n",
            "('의류', 0.43772206)\n",
            "\n",
            "\n"
          ],
          "name": "stdout"
        }
      ]
    },
    {
      "cell_type": "markdown",
      "metadata": {
        "id": "FYv7EewQhIAd"
      },
      "source": [
        "## Test data prediction\n",
        " - 문장중 14900행부터의 문장 100개에 대한 예측."
      ]
    },
    {
      "cell_type": "code",
      "metadata": {
        "id": "8uZiQH0Ziu_h"
      },
      "source": [
        "test_question_arr = []\n",
        "test_question = \"\"\n",
        "\n",
        "for i in range(14900,wear_data.shape[0]):\n",
        "        test_question = wear_data.iloc[i].SENTENCE\n",
        "        test_question_arr.append(test_question)\n",
        "\n",
        "# test_question_arr = pos_tag(test_question_arr)"
      ],
      "execution_count": 129,
      "outputs": []
    },
    {
      "cell_type": "code",
      "metadata": {
        "id": "RroUo2wthdA-",
        "outputId": "bc275185-51fe-4424-81c7-1c79aa85b228",
        "colab": {
          "base_uri": "https://localhost:8080/"
        }
      },
      "source": [
        "# for train data predict\n",
        "for seq_index in range(0,10):\n",
        "\n",
        "  print(\"고객 : \",test_question_arr[seq_index])\n",
        "  print(find_category(test_question_arr[seq_index],ctokenizer,cmodel,category_list))\n",
        "  print(find_category(test_question_arr[seq_index],rtokenizer,rmodel,rough_category_list))\n",
        "  print(\"AI점원 :\",convert_index_to_text(evaluate(make_predict_input(test_question_arr[seq_index])).numpy()[1:],index_to_word))\n",
        "  print(find_category(convert_index_to_text(evaluate(make_predict_input(test_question_arr[seq_index])).numpy()[1:],index_to_word),ctokenizer,cmodel,category_list))\n",
        "  print(find_category(convert_index_to_text(evaluate(make_predict_input(test_question_arr[seq_index])).numpy()[1:],index_to_word),rtokenizer,rmodel,rough_category_list))\n",
        "  print(\"\\n\")"
      ],
      "execution_count": 131,
      "outputs": [
        {
          "output_type": "stream",
          "text": [
            "고객 :  구제는 뭐예요?\n",
            "('신제품,구제품관련문의', 0.99233705)\n",
            "('의류', 0.99975735)\n",
            "AI점원 : 예 \n",
            "('원하는제품재고여부확인', 0.120788075)\n",
            "('가방', 0.471872)\n",
            "\n",
            "\n",
            "고객 :  구제 옷도 있네요?\n",
            "('신제품,구제품관련문의', 0.99220467)\n",
            "('의류', 0.99997735)\n",
            "AI점원 : 예 , 그 옷 은 봄 옷 이 전부 에요 \n",
            "('계절상품문의', 0.3881231)\n",
            "('의류', 0.99920744)\n",
            "\n",
            "\n",
            "고객 :  구제품은 다 세탁해서 나온 거예요?\n",
            "('구제품세탁여부문의', 0.9989729)\n",
            "('의류', 0.99877924)\n",
            "AI점원 : 네 고객 님 께 저 제품 소재 가 요즘 에는 아이보리 가 낫고요 \n",
            "('제품특징문의', 0.6134685)\n",
            "('신발', 0.96028894)\n",
            "\n",
            "\n",
            "고객 :  이건 다 세탁이 된 거죠?\n",
            "('구제품세탁여부문의', 0.973141)\n",
            "('의류', 0.9701384)\n",
            "AI점원 : 네 \n",
            "('가방소재문의', 0.054704018)\n",
            "('의류', 0.42276567)\n",
            "\n",
            "\n",
            "고객 :  구제품은 세탁해서 파시는 건가요?\n",
            "('구제품세탁여부문의', 0.99079835)\n",
            "('의류', 0.9975472)\n",
            "AI점원 : 네 고객 님 팔고 있습니다 \n",
            "('운동종목별기능성제품문의', 0.8318357)\n",
            "('액세서리', 0.9776799)\n",
            "\n",
            "\n",
            "고객 :  구제품은 다 세탁해서 나오는 거겠죠?\n",
            "('구제품세탁여부문의', 0.9833261)\n",
            "('의류', 0.99890816)\n",
            "AI점원 : 네 고객 님 이 제품 이 잘 나가요 \n",
            "('베스트상품문의', 0.6179648)\n",
            "('가방', 0.45370793)\n",
            "\n",
            "\n",
            "고객 :  카드로 결제하면 부가세 별도에요?\n",
            "('카드결제부가세여부문의', 0.99447745)\n",
            "('의류', 0.93950886)\n",
            "AI점원 : 카드 결제 해도 똑같은 가격 이에요 \n",
            "('현금할인가문의', 0.93692863)\n",
            "('의류', 0.9871682)\n",
            "\n",
            "\n",
            "고객 :  카드는 부가세 별도로 붙나요?\n",
            "('카드결제부가세여부문의', 0.98946524)\n",
            "('의류', 0.9998839)\n",
            "AI점원 : 카드 로 결제 도 되고 여기 도 하셔도 돼요 \n",
            "('결제방식문의', 0.41915923)\n",
            "('의류', 0.98943514)\n",
            "\n",
            "\n",
            "고객 :  카드 결제하면 부가세 추가되나요?\n",
            "('카드결제부가세여부문의', 0.9935308)\n",
            "('의류', 0.99344337)\n",
            "AI점원 : 카드 결제 해도 똑같은 가격 이에요 \n",
            "('현금할인가문의', 0.93692863)\n",
            "('의류', 0.9871682)\n",
            "\n",
            "\n",
            "고객 :  카드로 하면 부가세 붙어요?\n",
            "('카드결제부가세여부문의', 0.995992)\n",
            "('의류', 0.999887)\n",
            "AI점원 : 네 , 카드 로 결제 도 와 드리겠습니다 \n",
            "('결제요청', 0.41338375)\n",
            "('가방', 0.4895228)\n",
            "\n",
            "\n"
          ],
          "name": "stdout"
        }
      ]
    },
    {
      "cell_type": "code",
      "metadata": {
        "id": "zAs_p0bLhlPy"
      },
      "source": [
        ""
      ],
      "execution_count": null,
      "outputs": []
    }
  ]
}